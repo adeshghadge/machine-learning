{
 "cells": [
  {
   "cell_type": "code",
   "execution_count": 1,
   "metadata": {},
   "outputs": [],
   "source": [
    "import xlearn as xl\n",
    "import pandas as pd"
   ]
  },
  {
   "cell_type": "code",
   "execution_count": 3,
   "metadata": {},
   "outputs": [
    {
     "name": "stdout",
     "output_type": "stream",
     "text": [
      "a\n"
     ]
    }
   ],
   "source": [
    "print(\"a\")"
   ]
  },
  {
   "cell_type": "code",
   "execution_count": null,
   "metadata": {},
   "outputs": [],
   "source": [
    "    # create ffm model                                                                                                                                                                                                                                                             \n",
    "ffm_model = xl.create_ffm()\n",
    "\n",
    "# set training and validation data                                                                                                                                                                                                                                             \n",
    "#ffm_model.setTrain(\"train.libffm\")\n",
    "#ffm_model.setValidate(\"valid.libffm\")\n",
    "\n",
    "# define params                                                                                                                                                                                                                                                                \n",
    "param = {'task':'binary',\n",
    "         'lr':0.2,\n",
    "         'k':4,\n",
    "         'lambda':0.0002,\n",
    "         'metric':'auc',\n",
    "         'epoch': 25}\n",
    "\n",
    "# train the model                                                                                                                                                                                                                                                              \n",
    "#ffm_model.fit(param, 'xl.out')\n",
    "\n",
    "# set the test data                                                                                                                                                                                                                                                            \n",
    "ffm_model.setTest(\"../data/test.libffm\")\n",
    "ffm_model.setSigmoid()\n",
    "\n",
    "# make predictions                                                                                                                                                                                                                                                             \n",
    "ffm_model.predict(\"model.out\", \"output.txt\")\n",
    "\n",
    "# create submission file                                                                                                                                                                                                                                                       \n",
    "sample = pd.read_csv('../data/sample_submission.csv')\n",
    "output = pd.read_csv('output.txt', header=None)[0].values\n",
    "sample.HasDetections = output\n",
    "sample.to_csv('../data/submission.csv', index=False)"
   ]
  },
  {
   "cell_type": "code",
   "execution_count": null,
   "metadata": {},
   "outputs": [],
   "source": []
  }
 ],
 "metadata": {
  "kernelspec": {
   "display_name": "Python 3",
   "language": "python",
   "name": "python3"
  },
  "language_info": {
   "codemirror_mode": {
    "name": "ipython",
    "version": 3
   },
   "file_extension": ".py",
   "mimetype": "text/x-python",
   "name": "python",
   "nbconvert_exporter": "python",
   "pygments_lexer": "ipython3",
   "version": "3.6.7"
  }
 },
 "nbformat": 4,
 "nbformat_minor": 2
}
