{
 "cells": [
  {
   "cell_type": "code",
   "execution_count": 1,
   "metadata": {},
   "outputs": [
    {
     "name": "stderr",
     "output_type": "stream",
     "text": [
      "/Users/adeshghadge/anaconda/lib/python3.6/site-packages/lightgbm/__init__.py:46: UserWarning: Starting from version 2.2.1, the library file in distribution wheels for macOS is built by the Apple Clang (Xcode_9.4.1) compiler.\n",
      "This means that in case of installing LightGBM from PyPI via the ``pip install lightgbm`` command, you don't need to install the gcc compiler anymore.\n",
      "Instead of that, you need to install the OpenMP library, which is required for running LightGBM on the system with the Apple Clang compiler.\n",
      "You can install the OpenMP library by the following command: ``brew install libomp``.\n",
      "  \"You can install the OpenMP library by the following command: ``brew install libomp``.\", UserWarning)\n"
     ]
    }
   ],
   "source": [
    "%matplotlib inline\n",
    "import numpy as np\n",
    "import pandas as pd\n",
    "import string\n",
    "from numpy.random import normal,random,seed\n",
    "import matplotlib.pyplot as plt\n",
    "plt.style.use('ggplot')\n",
    "\n",
    "from sklearn.linear_model import LogisticRegression, LogisticRegressionCV\n",
    "from sklearn.ensemble import RandomForestClassifier\n",
    "from sklearn.preprocessing import LabelEncoder\n",
    "from sklearn.model_selection import RandomizedSearchCV, GridSearchCV, cross_val_score, n\n",
    "from sklearn.metrics import log_loss\n",
    "from sklearn import metrics\n",
    "import xgboost as xgb\n",
    "from xgboost.sklearn import XGBClassifier\n",
    "import scipy.stats as st\n",
    "import pickle\n",
    "\n",
    "import lightgbm as lgb\n",
    "import xlearn as xl"
   ]
  },
  {
   "cell_type": "code",
   "execution_count": 2,
   "metadata": {},
   "outputs": [],
   "source": [
    "dtypes = {\n",
    "        'MachineIdentifier':                                    'category',\n",
    "        'ProductName':                                          'category',\n",
    "        'EngineVersion':                                        'category',\n",
    "        'AppVersion':                                           'category',\n",
    "        'AvSigVersion':                                         'category',\n",
    "        'IsBeta':                                               'int8',\n",
    "        'RtpStateBitfield':                                     'float16',\n",
    "        'IsSxsPassiveMode':                                     'int8',\n",
    "        'DefaultBrowsersIdentifier':                            'float16',\n",
    "        'AVProductStatesIdentifier':                            'float32',\n",
    "        'AVProductsInstalled':                                  'float16',\n",
    "        'AVProductsEnabled':                                    'float16',\n",
    "        'HasTpm':                                               'int8',\n",
    "        'CountryIdentifier':                                    'int16',\n",
    "        'CityIdentifier':                                       'float32',\n",
    "        'OrganizationIdentifier':                               'float16',\n",
    "        'GeoNameIdentifier':                                    'float16',\n",
    "        'LocaleEnglishNameIdentifier':                          'int8',\n",
    "        'Platform':                                             'category',\n",
    "        'Processor':                                            'category',\n",
    "        'OsVer':                                                'category',\n",
    "        'OsBuild':                                              'int16',\n",
    "        'OsSuite':                                              'int16',\n",
    "        'OsPlatformSubRelease':                                 'category',\n",
    "        'OsBuildLab':                                           'category',\n",
    "        'SkuEdition':                                           'category',\n",
    "        'IsProtected':                                          'float16',\n",
    "        'AutoSampleOptIn':                                      'int8',\n",
    "        'PuaMode':                                              'category',\n",
    "        'SMode':                                                'float16',\n",
    "        'IeVerIdentifier':                                      'float16',\n",
    "        'SmartScreen':                                          'category',\n",
    "        'Firewall':                                             'float16',\n",
    "        'UacLuaenable':                                         'float32',\n",
    "        'Census_MDC2FormFactor':                                'category',\n",
    "        'Census_DeviceFamily':                                  'category',\n",
    "        'Census_OEMNameIdentifier':                             'float16',\n",
    "        'Census_OEMModelIdentifier':                            'float32',\n",
    "        'Census_ProcessorCoreCount':                            'float16',\n",
    "        'Census_ProcessorManufacturerIdentifier':               'float16',\n",
    "        'Census_ProcessorModelIdentifier':                      'float16',\n",
    "        'Census_ProcessorClass':                                'category',\n",
    "        'Census_PrimaryDiskTotalCapacity':                      'float32',\n",
    "        'Census_PrimaryDiskTypeName':                           'category',\n",
    "        'Census_SystemVolumeTotalCapacity':                     'float32',\n",
    "        'Census_HasOpticalDiskDrive':                           'int8',\n",
    "        'Census_TotalPhysicalRAM':                              'float32',\n",
    "        'Census_ChassisTypeName':                               'category',\n",
    "        'Census_InternalPrimaryDiagonalDisplaySizeInInches':    'float16',\n",
    "        'Census_InternalPrimaryDisplayResolutionHorizontal':    'float16',\n",
    "        'Census_InternalPrimaryDisplayResolutionVertical':      'float16',\n",
    "        'Census_PowerPlatformRoleName':                         'category',\n",
    "        'Census_InternalBatteryType':                           'category',\n",
    "        'Census_InternalBatteryNumberOfCharges':                'float32',\n",
    "        'Census_OSVersion':                                     'category',\n",
    "        'Census_OSArchitecture':                                'category',\n",
    "        'Census_OSBranch':                                      'category',\n",
    "        'Census_OSBuildNumber':                                 'int16',\n",
    "        'Census_OSBuildRevision':                               'int32',\n",
    "        'Census_OSEdition':                                     'category',\n",
    "        'Census_OSSkuName':                                     'category',\n",
    "        'Census_OSInstallTypeName':                             'category',\n",
    "        'Census_OSInstallLanguageIdentifier':                   'float16',\n",
    "        'Census_OSUILocaleIdentifier':                          'int16',\n",
    "        'Census_OSWUAutoUpdateOptionsName':                     'category',\n",
    "        'Census_IsPortableOperatingSystem':                     'int8',\n",
    "        'Census_GenuineStateName':                              'category',\n",
    "        'Census_ActivationChannel':                             'category',\n",
    "        'Census_IsFlightingInternal':                           'float16',\n",
    "        'Census_IsFlightsDisabled':                             'float16',\n",
    "        'Census_FlightRing':                                    'category',\n",
    "        'Census_ThresholdOptIn':                                'float16',\n",
    "        'Census_FirmwareManufacturerIdentifier':                'float16',\n",
    "        'Census_FirmwareVersionIdentifier':                     'float32',\n",
    "        'Census_IsSecureBootEnabled':                           'int8',\n",
    "        'Census_IsWIMBootEnabled':                              'float16',\n",
    "        'Census_IsVirtualDevice':                               'float16',\n",
    "        'Census_IsTouchEnabled':                                'int8',\n",
    "        'Census_IsPenCapable':                                  'int8',\n",
    "        'Census_IsAlwaysOnAlwaysConnectedCapable':              'float16',\n",
    "        'Wdft_IsGamer':                                         'float16',\n",
    "        'Wdft_RegionIdentifier':                                'float16',\n",
    "        'HasDetections':                                        'int8'\n",
    "        }"
   ]
  },
  {
   "cell_type": "code",
   "execution_count": 3,
   "metadata": {},
   "outputs": [],
   "source": [
    "Data = pd.read_csv(\"data/train.csv\", dtype=dtypes)"
   ]
  },
  {
   "cell_type": "code",
   "execution_count": null,
   "metadata": {},
   "outputs": [],
   "source": []
  },
  {
   "cell_type": "code",
   "execution_count": 6,
   "metadata": {},
   "outputs": [
    {
     "name": "stdout",
     "output_type": "stream",
     "text": [
      "<class 'pandas.core.frame.DataFrame'>\n",
      "RangeIndex: 8921483 entries, 0 to 8921482\n",
      "Data columns (total 83 columns):\n",
      "MachineIdentifier                                    category\n",
      "ProductName                                          category\n",
      "EngineVersion                                        category\n",
      "AppVersion                                           category\n",
      "AvSigVersion                                         category\n",
      "IsBeta                                               int8\n",
      "RtpStateBitfield                                     float16\n",
      "IsSxsPassiveMode                                     int8\n",
      "DefaultBrowsersIdentifier                            float16\n",
      "AVProductStatesIdentifier                            float32\n",
      "AVProductsInstalled                                  float16\n",
      "AVProductsEnabled                                    float16\n",
      "HasTpm                                               int8\n",
      "CountryIdentifier                                    int16\n",
      "CityIdentifier                                       float32\n",
      "OrganizationIdentifier                               float16\n",
      "GeoNameIdentifier                                    float16\n",
      "LocaleEnglishNameIdentifier                          int8\n",
      "Platform                                             category\n",
      "Processor                                            category\n",
      "OsVer                                                category\n",
      "OsBuild                                              int16\n",
      "OsSuite                                              int16\n",
      "OsPlatformSubRelease                                 category\n",
      "OsBuildLab                                           category\n",
      "SkuEdition                                           category\n",
      "IsProtected                                          float16\n",
      "AutoSampleOptIn                                      int8\n",
      "PuaMode                                              category\n",
      "SMode                                                float16\n",
      "IeVerIdentifier                                      float16\n",
      "SmartScreen                                          category\n",
      "Firewall                                             float16\n",
      "UacLuaenable                                         float32\n",
      "Census_MDC2FormFactor                                category\n",
      "Census_DeviceFamily                                  category\n",
      "Census_OEMNameIdentifier                             float16\n",
      "Census_OEMModelIdentifier                            float32\n",
      "Census_ProcessorCoreCount                            float16\n",
      "Census_ProcessorManufacturerIdentifier               float16\n",
      "Census_ProcessorModelIdentifier                      float16\n",
      "Census_ProcessorClass                                category\n",
      "Census_PrimaryDiskTotalCapacity                      float32\n",
      "Census_PrimaryDiskTypeName                           category\n",
      "Census_SystemVolumeTotalCapacity                     float32\n",
      "Census_HasOpticalDiskDrive                           int8\n",
      "Census_TotalPhysicalRAM                              float32\n",
      "Census_ChassisTypeName                               category\n",
      "Census_InternalPrimaryDiagonalDisplaySizeInInches    float16\n",
      "Census_InternalPrimaryDisplayResolutionHorizontal    float16\n",
      "Census_InternalPrimaryDisplayResolutionVertical      float16\n",
      "Census_PowerPlatformRoleName                         category\n",
      "Census_InternalBatteryType                           category\n",
      "Census_InternalBatteryNumberOfCharges                float32\n",
      "Census_OSVersion                                     category\n",
      "Census_OSArchitecture                                category\n",
      "Census_OSBranch                                      category\n",
      "Census_OSBuildNumber                                 int16\n",
      "Census_OSBuildRevision                               int32\n",
      "Census_OSEdition                                     category\n",
      "Census_OSSkuName                                     category\n",
      "Census_OSInstallTypeName                             category\n",
      "Census_OSInstallLanguageIdentifier                   float16\n",
      "Census_OSUILocaleIdentifier                          int16\n",
      "Census_OSWUAutoUpdateOptionsName                     category\n",
      "Census_IsPortableOperatingSystem                     int8\n",
      "Census_GenuineStateName                              category\n",
      "Census_ActivationChannel                             category\n",
      "Census_IsFlightingInternal                           float16\n",
      "Census_IsFlightsDisabled                             float16\n",
      "Census_FlightRing                                    category\n",
      "Census_ThresholdOptIn                                float16\n",
      "Census_FirmwareManufacturerIdentifier                float16\n",
      "Census_FirmwareVersionIdentifier                     float32\n",
      "Census_IsSecureBootEnabled                           int8\n",
      "Census_IsWIMBootEnabled                              float16\n",
      "Census_IsVirtualDevice                               float16\n",
      "Census_IsTouchEnabled                                int8\n",
      "Census_IsPenCapable                                  int8\n",
      "Census_IsAlwaysOnAlwaysConnectedCapable              float16\n",
      "Wdft_IsGamer                                         float16\n",
      "Wdft_RegionIdentifier                                float16\n",
      "HasDetections                                        int8\n",
      "dtypes: category(30), float16(27), float32(9), int16(5), int32(1), int8(11)\n",
      "memory usage: 1.6 GB\n"
     ]
    }
   ],
   "source": [
    "Data.info()"
   ]
  },
  {
   "cell_type": "code",
   "execution_count": 70,
   "metadata": {},
   "outputs": [
    {
     "data": {
      "text/plain": [
       "0.0    6174143\n",
       "1.0    2443889\n",
       "Name: Wdft_IsGamer, dtype: int64"
      ]
     },
     "execution_count": 70,
     "metadata": {},
     "output_type": "execute_result"
    }
   ],
   "source": [
    "Data.Wdft_IsGamer.value_counts()"
   ]
  },
  {
   "cell_type": "code",
   "execution_count": 69,
   "metadata": {},
   "outputs": [
    {
     "data": {
      "text/plain": [
       "0.0    2976639\n",
       "1.0    1324330\n",
       "Name: Wdft_IsGamer, dtype: int64"
      ]
     },
     "execution_count": 69,
     "metadata": {},
     "output_type": "execute_result"
    }
   ],
   "source": [
    "Data.loc[Data['HasDetections'] == 1, 'Wdft_IsGamer'].value_counts()"
   ]
  },
  {
   "cell_type": "code",
   "execution_count": null,
   "metadata": {},
   "outputs": [],
   "source": []
  },
  {
   "cell_type": "code",
   "execution_count": null,
   "metadata": {},
   "outputs": [],
   "source": []
  },
  {
   "cell_type": "code",
   "execution_count": null,
   "metadata": {},
   "outputs": [],
   "source": []
  },
  {
   "cell_type": "code",
   "execution_count": 4,
   "metadata": {},
   "outputs": [],
   "source": [
    "Data = Data.loc[:, [\"ProductName\", \"EngineVersion\", \"AppVersion\", \"AvSigVersion\", \"AVProductStatesIdentifier\", \"HasTpm\", \"CountryIdentifier\", \"CityIdentifier\", \"OrganizationIdentifier\", \"GeoNameIdentifier\", \"LocaleEnglishNameIdentifier\", \"Platform\", \"Processor\", \"OsVer\", \"OsBuild\", \"OsSuite\", \"OsPlatformSubRelease\", \"OsBuildLab\", \"SkuEdition\", \"IsProtected\", \"PuaMode\", \"SMode\", \"SmartScreen\", \"Firewall\", \"UacLuaenable\", \"Census_MDC2FormFactor\", \"Census_DeviceFamily\", \"Census_ProcessorCoreCount\", \"Census_ProcessorClass\", \"Census_PrimaryDiskTotalCapacity\", \"Census_PrimaryDiskTypeName\", \"Census_SystemVolumeTotalCapacity\", \"Census_HasOpticalDiskDrive\", \"Census_TotalPhysicalRAM\", \"Census_ChassisTypeName\", \"Census_InternalPrimaryDiagonalDisplaySizeInInches\", \"Census_InternalPrimaryDisplayResolutionHorizontal\", \"Census_InternalPrimaryDisplayResolutionVertical\", \"Census_PowerPlatformRoleName\", \"Census_OSVersion\", \"Census_OSArchitecture\", \"Census_OSBranch\", \"Census_OSBuildNumber\", \"Census_OSBuildRevision\", \"Census_OSEdition\", \"Census_OSSkuName\", \"Census_OSInstallTypeName\", \"Census_OSWUAutoUpdateOptionsName\", \"Census_IsPortableOperatingSystem\", \"Census_GenuineStateName\", \"Census_ActivationChannel\", \"Census_IsFlightsDisabled\", \"Census_FlightRing\", \"Census_IsSecureBootEnabled\", \"Census_IsVirtualDevice\", \"Census_IsTouchEnabled\", \"Census_IsPenCapable\", \"Census_IsAlwaysOnAlwaysConnectedCapable\", \"Wdft_IsGamer\", \"HasDetections\"]]"
   ]
  },
  {
   "cell_type": "code",
   "execution_count": null,
   "metadata": {},
   "outputs": [],
   "source": [
    "DataTest = pd.read_csv(\"data/test.csv\")"
   ]
  },
  {
   "cell_type": "code",
   "execution_count": 4,
   "metadata": {},
   "outputs": [],
   "source": [
    "DataTest = DataTest.loc[:, [\"ProductName\", \"EngineVersion\", \"AppVersion\", \"AvSigVersion\", \"AVProductStatesIdentifier\", \"HasTpm\", \"CountryIdentifier\", \"CityIdentifier\", \"OrganizationIdentifier\", \"GeoNameIdentifier\", \"LocaleEnglishNameIdentifier\", \"Platform\", \"Processor\", \"OsVer\", \"OsBuild\", \"OsSuite\", \"OsPlatformSubRelease\", \"OsBuildLab\", \"SkuEdition\", \"IsProtected\", \"PuaMode\", \"SMode\", \"SmartScreen\", \"Firewall\", \"UacLuaenable\", \"Census_MDC2FormFactor\", \"Census_DeviceFamily\", \"Census_ProcessorCoreCount\", \"Census_ProcessorClass\", \"Census_PrimaryDiskTotalCapacity\", \"Census_PrimaryDiskTypeName\", \"Census_SystemVolumeTotalCapacity\", \"Census_HasOpticalDiskDrive\", \"Census_TotalPhysicalRAM\", \"Census_ChassisTypeName\", \"Census_InternalPrimaryDiagonalDisplaySizeInInches\", \"Census_InternalPrimaryDisplayResolutionHorizontal\", \"Census_InternalPrimaryDisplayResolutionVertical\", \"Census_PowerPlatformRoleName\", \"Census_OSVersion\", \"Census_OSArchitecture\", \"Census_OSBranch\", \"Census_OSBuildNumber\", \"Census_OSBuildRevision\", \"Census_OSEdition\", \"Census_OSSkuName\", \"Census_OSInstallTypeName\", \"Census_OSWUAutoUpdateOptionsName\", \"Census_IsPortableOperatingSystem\", \"Census_GenuineStateName\", \"Census_ActivationChannel\", \"Census_IsFlightsDisabled\", \"Census_FlightRing\", \"Census_IsSecureBootEnabled\", \"Census_IsVirtualDevice\", \"Census_IsTouchEnabled\", \"Census_IsPenCapable\", \"Census_IsAlwaysOnAlwaysConnectedCapable\", \"Wdft_IsGamer\"]]"
   ]
  },
  {
   "cell_type": "code",
   "execution_count": 5,
   "metadata": {},
   "outputs": [],
   "source": [
    "X = Data.drop(['HasDetections'],axis=1)\n",
    "y = LabelEncoder().fit_transform(Data.HasDetections)\n",
    "xTrain, xTest, yTrain, yTest = train_test_split(X, y, test_size=0.3, random_state=0)"
   ]
  },
  {
   "cell_type": "code",
   "execution_count": 9,
   "metadata": {},
   "outputs": [],
   "source": [
    "del Data\n",
    "del X\n",
    "del y"
   ]
  },
  {
   "cell_type": "code",
   "execution_count": 21,
   "metadata": {},
   "outputs": [
    {
     "name": "stdout",
     "output_type": "stream",
     "text": [
      "<class 'pandas.core.frame.DataFrame'>\n",
      "<class 'pandas.core.frame.DataFrame'>\n"
     ]
    }
   ],
   "source": [
    "print(type(xTrain))\n",
    "print(type(pd.DataFrame(yTrain)))"
   ]
  },
  {
   "cell_type": "code",
   "execution_count": 32,
   "metadata": {},
   "outputs": [],
   "source": [
    "xTrainFFM = xTrain.join(pd.DataFrame(yTrain))\n",
    "xTrainFFM = xTrainFFM.rename(columns = {0: 'HasDetections'})"
   ]
  },
  {
   "cell_type": "code",
   "execution_count": 33,
   "metadata": {},
   "outputs": [
    {
     "data": {
      "text/plain": [
       "(6245038, 60)"
      ]
     },
     "execution_count": 33,
     "metadata": {},
     "output_type": "execute_result"
    }
   ],
   "source": [
    "xTrainFFM.shape"
   ]
  },
  {
   "cell_type": "code",
   "execution_count": 6,
   "metadata": {},
   "outputs": [
    {
     "name": "stderr",
     "output_type": "stream",
     "text": [
      "/Users/adeshghadge/anaconda/lib/python3.6/site-packages/pandas/core/indexing.py:543: SettingWithCopyWarning: \n",
      "A value is trying to be set on a copy of a slice from a DataFrame.\n",
      "Try using .loc[row_indexer,col_indexer] = value instead\n",
      "\n",
      "See the caveats in the documentation: http://pandas.pydata.org/pandas-docs/stable/indexing.html#indexing-view-versus-copy\n",
      "  self.obj[item] = s\n"
     ]
    }
   ],
   "source": [
    "le = LabelEncoder()\n",
    "for column_name in xTrain.columns:\n",
    "        if xTrain[column_name].dtype.name == 'category':\n",
    "            xTrain.loc[:, column_name] = le.fit_transform(xTrain[column_name].astype(str))\n",
    "        else:\n",
    "            pass"
   ]
  },
  {
   "cell_type": "code",
   "execution_count": 7,
   "metadata": {},
   "outputs": [],
   "source": [
    "xTrain = xTrain.fillna(-999)"
   ]
  },
  {
   "cell_type": "code",
   "execution_count": 12,
   "metadata": {},
   "outputs": [
    {
     "data": {
      "text/html": [
       "<div>\n",
       "<style scoped>\n",
       "    .dataframe tbody tr th:only-of-type {\n",
       "        vertical-align: middle;\n",
       "    }\n",
       "\n",
       "    .dataframe tbody tr th {\n",
       "        vertical-align: top;\n",
       "    }\n",
       "\n",
       "    .dataframe thead th {\n",
       "        text-align: right;\n",
       "    }\n",
       "</style>\n",
       "<table border=\"1\" class=\"dataframe\">\n",
       "  <thead>\n",
       "    <tr style=\"text-align: right;\">\n",
       "      <th></th>\n",
       "      <th>MachineIdentifier</th>\n",
       "      <th>ProductName</th>\n",
       "      <th>EngineVersion</th>\n",
       "      <th>AppVersion</th>\n",
       "      <th>AvSigVersion</th>\n",
       "      <th>IsBeta</th>\n",
       "      <th>RtpStateBitfield</th>\n",
       "      <th>IsSxsPassiveMode</th>\n",
       "      <th>DefaultBrowsersIdentifier</th>\n",
       "      <th>AVProductStatesIdentifier</th>\n",
       "      <th>...</th>\n",
       "      <th>Census_FirmwareManufacturerIdentifier</th>\n",
       "      <th>Census_FirmwareVersionIdentifier</th>\n",
       "      <th>Census_IsSecureBootEnabled</th>\n",
       "      <th>Census_IsWIMBootEnabled</th>\n",
       "      <th>Census_IsVirtualDevice</th>\n",
       "      <th>Census_IsTouchEnabled</th>\n",
       "      <th>Census_IsPenCapable</th>\n",
       "      <th>Census_IsAlwaysOnAlwaysConnectedCapable</th>\n",
       "      <th>Wdft_IsGamer</th>\n",
       "      <th>Wdft_RegionIdentifier</th>\n",
       "    </tr>\n",
       "  </thead>\n",
       "  <tbody>\n",
       "    <tr>\n",
       "      <th>7587898</th>\n",
       "      <td>5311600</td>\n",
       "      <td>4</td>\n",
       "      <td>65</td>\n",
       "      <td>57</td>\n",
       "      <td>8135</td>\n",
       "      <td>0</td>\n",
       "      <td>7.0</td>\n",
       "      <td>0</td>\n",
       "      <td>-999.0</td>\n",
       "      <td>53447.0</td>\n",
       "      <td>...</td>\n",
       "      <td>142.0</td>\n",
       "      <td>2865.0</td>\n",
       "      <td>0</td>\n",
       "      <td>0.0</td>\n",
       "      <td>0.0</td>\n",
       "      <td>0</td>\n",
       "      <td>0</td>\n",
       "      <td>0.0</td>\n",
       "      <td>1.0</td>\n",
       "      <td>11.0</td>\n",
       "    </tr>\n",
       "    <tr>\n",
       "      <th>3904626</th>\n",
       "      <td>2733105</td>\n",
       "      <td>1</td>\n",
       "      <td>65</td>\n",
       "      <td>106</td>\n",
       "      <td>8328</td>\n",
       "      <td>0</td>\n",
       "      <td>7.0</td>\n",
       "      <td>0</td>\n",
       "      <td>-999.0</td>\n",
       "      <td>27750.0</td>\n",
       "      <td>...</td>\n",
       "      <td>556.0</td>\n",
       "      <td>13908.0</td>\n",
       "      <td>0</td>\n",
       "      <td>-999.0</td>\n",
       "      <td>0.0</td>\n",
       "      <td>0</td>\n",
       "      <td>0</td>\n",
       "      <td>0.0</td>\n",
       "      <td>0.0</td>\n",
       "      <td>11.0</td>\n",
       "    </tr>\n",
       "    <tr>\n",
       "      <th>8705769</th>\n",
       "      <td>6094273</td>\n",
       "      <td>4</td>\n",
       "      <td>65</td>\n",
       "      <td>57</td>\n",
       "      <td>8088</td>\n",
       "      <td>0</td>\n",
       "      <td>7.0</td>\n",
       "      <td>0</td>\n",
       "      <td>-999.0</td>\n",
       "      <td>53447.0</td>\n",
       "      <td>...</td>\n",
       "      <td>556.0</td>\n",
       "      <td>63540.0</td>\n",
       "      <td>1</td>\n",
       "      <td>-999.0</td>\n",
       "      <td>0.0</td>\n",
       "      <td>0</td>\n",
       "      <td>0</td>\n",
       "      <td>0.0</td>\n",
       "      <td>1.0</td>\n",
       "      <td>1.0</td>\n",
       "    </tr>\n",
       "    <tr>\n",
       "      <th>1343039</th>\n",
       "      <td>940140</td>\n",
       "      <td>4</td>\n",
       "      <td>64</td>\n",
       "      <td>57</td>\n",
       "      <td>7680</td>\n",
       "      <td>0</td>\n",
       "      <td>7.0</td>\n",
       "      <td>0</td>\n",
       "      <td>-999.0</td>\n",
       "      <td>7945.0</td>\n",
       "      <td>...</td>\n",
       "      <td>628.0</td>\n",
       "      <td>8791.0</td>\n",
       "      <td>0</td>\n",
       "      <td>-999.0</td>\n",
       "      <td>0.0</td>\n",
       "      <td>0</td>\n",
       "      <td>0</td>\n",
       "      <td>0.0</td>\n",
       "      <td>1.0</td>\n",
       "      <td>10.0</td>\n",
       "    </tr>\n",
       "    <tr>\n",
       "      <th>7183243</th>\n",
       "      <td>5028447</td>\n",
       "      <td>4</td>\n",
       "      <td>65</td>\n",
       "      <td>57</td>\n",
       "      <td>8038</td>\n",
       "      <td>0</td>\n",
       "      <td>7.0</td>\n",
       "      <td>0</td>\n",
       "      <td>-999.0</td>\n",
       "      <td>53447.0</td>\n",
       "      <td>...</td>\n",
       "      <td>444.0</td>\n",
       "      <td>67773.0</td>\n",
       "      <td>0</td>\n",
       "      <td>0.0</td>\n",
       "      <td>0.0</td>\n",
       "      <td>0</td>\n",
       "      <td>0</td>\n",
       "      <td>0.0</td>\n",
       "      <td>0.0</td>\n",
       "      <td>15.0</td>\n",
       "    </tr>\n",
       "  </tbody>\n",
       "</table>\n",
       "<p>5 rows × 82 columns</p>\n",
       "</div>"
      ],
      "text/plain": [
       "         MachineIdentifier  ProductName  EngineVersion  AppVersion  \\\n",
       "7587898            5311600            4             65          57   \n",
       "3904626            2733105            1             65         106   \n",
       "8705769            6094273            4             65          57   \n",
       "1343039             940140            4             64          57   \n",
       "7183243            5028447            4             65          57   \n",
       "\n",
       "         AvSigVersion  IsBeta  RtpStateBitfield  IsSxsPassiveMode  \\\n",
       "7587898          8135       0               7.0                 0   \n",
       "3904626          8328       0               7.0                 0   \n",
       "8705769          8088       0               7.0                 0   \n",
       "1343039          7680       0               7.0                 0   \n",
       "7183243          8038       0               7.0                 0   \n",
       "\n",
       "         DefaultBrowsersIdentifier  AVProductStatesIdentifier  \\\n",
       "7587898                     -999.0                    53447.0   \n",
       "3904626                     -999.0                    27750.0   \n",
       "8705769                     -999.0                    53447.0   \n",
       "1343039                     -999.0                     7945.0   \n",
       "7183243                     -999.0                    53447.0   \n",
       "\n",
       "                 ...            Census_FirmwareManufacturerIdentifier  \\\n",
       "7587898          ...                                            142.0   \n",
       "3904626          ...                                            556.0   \n",
       "8705769          ...                                            556.0   \n",
       "1343039          ...                                            628.0   \n",
       "7183243          ...                                            444.0   \n",
       "\n",
       "         Census_FirmwareVersionIdentifier  Census_IsSecureBootEnabled  \\\n",
       "7587898                            2865.0                           0   \n",
       "3904626                           13908.0                           0   \n",
       "8705769                           63540.0                           1   \n",
       "1343039                            8791.0                           0   \n",
       "7183243                           67773.0                           0   \n",
       "\n",
       "         Census_IsWIMBootEnabled  Census_IsVirtualDevice  \\\n",
       "7587898                      0.0                     0.0   \n",
       "3904626                   -999.0                     0.0   \n",
       "8705769                   -999.0                     0.0   \n",
       "1343039                   -999.0                     0.0   \n",
       "7183243                      0.0                     0.0   \n",
       "\n",
       "         Census_IsTouchEnabled  Census_IsPenCapable  \\\n",
       "7587898                      0                    0   \n",
       "3904626                      0                    0   \n",
       "8705769                      0                    0   \n",
       "1343039                      0                    0   \n",
       "7183243                      0                    0   \n",
       "\n",
       "         Census_IsAlwaysOnAlwaysConnectedCapable  Wdft_IsGamer  \\\n",
       "7587898                                      0.0           1.0   \n",
       "3904626                                      0.0           0.0   \n",
       "8705769                                      0.0           1.0   \n",
       "1343039                                      0.0           1.0   \n",
       "7183243                                      0.0           0.0   \n",
       "\n",
       "         Wdft_RegionIdentifier  \n",
       "7587898                   11.0  \n",
       "3904626                   11.0  \n",
       "8705769                    1.0  \n",
       "1343039                   10.0  \n",
       "7183243                   15.0  \n",
       "\n",
       "[5 rows x 82 columns]"
      ]
     },
     "execution_count": 12,
     "metadata": {},
     "output_type": "execute_result"
    }
   ],
   "source": [
    "xTrain.head()"
   ]
  },
  {
   "cell_type": "code",
   "execution_count": 8,
   "metadata": {},
   "outputs": [],
   "source": [
    "for column_name in xTest.columns:\n",
    "        if xTest[column_name].dtype.name == 'category':\n",
    "            xTest.loc[:, column_name] = le.fit_transform(xTest[column_name].astype(str))\n",
    "        else:\n",
    "            pass"
   ]
  },
  {
   "cell_type": "code",
   "execution_count": 9,
   "metadata": {},
   "outputs": [],
   "source": [
    "xTest = xTest.fillna(-999)"
   ]
  },
  {
   "cell_type": "code",
   "execution_count": 96,
   "metadata": {},
   "outputs": [
    {
     "data": {
      "text/html": [
       "<div>\n",
       "<style scoped>\n",
       "    .dataframe tbody tr th:only-of-type {\n",
       "        vertical-align: middle;\n",
       "    }\n",
       "\n",
       "    .dataframe tbody tr th {\n",
       "        vertical-align: top;\n",
       "    }\n",
       "\n",
       "    .dataframe thead th {\n",
       "        text-align: right;\n",
       "    }\n",
       "</style>\n",
       "<table border=\"1\" class=\"dataframe\">\n",
       "  <thead>\n",
       "    <tr style=\"text-align: right;\">\n",
       "      <th></th>\n",
       "      <th>ProductName</th>\n",
       "      <th>EngineVersion</th>\n",
       "      <th>AppVersion</th>\n",
       "      <th>AvSigVersion</th>\n",
       "      <th>AVProductStatesIdentifier</th>\n",
       "      <th>HasTpm</th>\n",
       "      <th>CountryIdentifier</th>\n",
       "      <th>CityIdentifier</th>\n",
       "      <th>OrganizationIdentifier</th>\n",
       "      <th>GeoNameIdentifier</th>\n",
       "      <th>...</th>\n",
       "      <th>Census_GenuineStateName</th>\n",
       "      <th>Census_ActivationChannel</th>\n",
       "      <th>Census_IsFlightsDisabled</th>\n",
       "      <th>Census_FlightRing</th>\n",
       "      <th>Census_IsSecureBootEnabled</th>\n",
       "      <th>Census_IsVirtualDevice</th>\n",
       "      <th>Census_IsTouchEnabled</th>\n",
       "      <th>Census_IsPenCapable</th>\n",
       "      <th>Census_IsAlwaysOnAlwaysConnectedCapable</th>\n",
       "      <th>Wdft_IsGamer</th>\n",
       "    </tr>\n",
       "  </thead>\n",
       "  <tbody>\n",
       "    <tr>\n",
       "      <th>4291725</th>\n",
       "      <td>0.989258</td>\n",
       "      <td>0.431152</td>\n",
       "      <td>0.576172</td>\n",
       "      <td>0.002523</td>\n",
       "      <td>0.652832</td>\n",
       "      <td>0.987793</td>\n",
       "      <td>0.009079</td>\n",
       "      <td>0.000683</td>\n",
       "      <td>0.470459</td>\n",
       "      <td>0.171753</td>\n",
       "      <td>...</td>\n",
       "      <td>0.089905</td>\n",
       "      <td>0.382324</td>\n",
       "      <td>0.981934</td>\n",
       "      <td>0.032166</td>\n",
       "      <td>0.51416</td>\n",
       "      <td>0.991211</td>\n",
       "      <td>0.874512</td>\n",
       "      <td>0.961914</td>\n",
       "      <td>0.935059</td>\n",
       "      <td>0.034058</td>\n",
       "    </tr>\n",
       "    <tr>\n",
       "      <th>5081676</th>\n",
       "      <td>0.989258</td>\n",
       "      <td>0.431152</td>\n",
       "      <td>0.576172</td>\n",
       "      <td>0.000284</td>\n",
       "      <td>0.652832</td>\n",
       "      <td>0.987793</td>\n",
       "      <td>0.003342</td>\n",
       "      <td>0.001477</td>\n",
       "      <td>0.197632</td>\n",
       "      <td>0.002808</td>\n",
       "      <td>...</td>\n",
       "      <td>0.882812</td>\n",
       "      <td>0.382324</td>\n",
       "      <td>0.981934</td>\n",
       "      <td>0.936523</td>\n",
       "      <td>0.48584</td>\n",
       "      <td>0.991211</td>\n",
       "      <td>0.125488</td>\n",
       "      <td>0.038086</td>\n",
       "      <td>0.935059</td>\n",
       "      <td>0.691895</td>\n",
       "    </tr>\n",
       "    <tr>\n",
       "      <th>8395646</th>\n",
       "      <td>0.989258</td>\n",
       "      <td>0.431152</td>\n",
       "      <td>0.022964</td>\n",
       "      <td>0.000281</td>\n",
       "      <td>0.652832</td>\n",
       "      <td>0.987793</td>\n",
       "      <td>0.003914</td>\n",
       "      <td>0.036591</td>\n",
       "      <td>0.308594</td>\n",
       "      <td>0.004864</td>\n",
       "      <td>...</td>\n",
       "      <td>0.882812</td>\n",
       "      <td>0.530273</td>\n",
       "      <td>0.981934</td>\n",
       "      <td>0.936523</td>\n",
       "      <td>0.51416</td>\n",
       "      <td>0.991211</td>\n",
       "      <td>0.874512</td>\n",
       "      <td>0.961914</td>\n",
       "      <td>0.935059</td>\n",
       "      <td>0.691895</td>\n",
       "    </tr>\n",
       "    <tr>\n",
       "      <th>5206665</th>\n",
       "      <td>0.989258</td>\n",
       "      <td>0.431152</td>\n",
       "      <td>0.095398</td>\n",
       "      <td>0.001853</td>\n",
       "      <td>0.652832</td>\n",
       "      <td>0.987793</td>\n",
       "      <td>0.005527</td>\n",
       "      <td>0.005505</td>\n",
       "      <td>0.308594</td>\n",
       "      <td>0.005219</td>\n",
       "      <td>...</td>\n",
       "      <td>0.882812</td>\n",
       "      <td>0.382324</td>\n",
       "      <td>0.981934</td>\n",
       "      <td>0.936523</td>\n",
       "      <td>0.48584</td>\n",
       "      <td>0.991211</td>\n",
       "      <td>0.874512</td>\n",
       "      <td>0.961914</td>\n",
       "      <td>0.935059</td>\n",
       "      <td>0.691895</td>\n",
       "    </tr>\n",
       "    <tr>\n",
       "      <th>7481451</th>\n",
       "      <td>0.989258</td>\n",
       "      <td>0.431152</td>\n",
       "      <td>0.576172</td>\n",
       "      <td>0.000377</td>\n",
       "      <td>0.652832</td>\n",
       "      <td>0.987793</td>\n",
       "      <td>0.020432</td>\n",
       "      <td>0.000095</td>\n",
       "      <td>0.470459</td>\n",
       "      <td>0.017410</td>\n",
       "      <td>...</td>\n",
       "      <td>0.882812</td>\n",
       "      <td>0.382324</td>\n",
       "      <td>0.981934</td>\n",
       "      <td>0.936523</td>\n",
       "      <td>0.51416</td>\n",
       "      <td>0.991211</td>\n",
       "      <td>0.874512</td>\n",
       "      <td>0.961914</td>\n",
       "      <td>0.935059</td>\n",
       "      <td>0.691895</td>\n",
       "    </tr>\n",
       "  </tbody>\n",
       "</table>\n",
       "<p>5 rows × 59 columns</p>\n",
       "</div>"
      ],
      "text/plain": [
       "         ProductName  EngineVersion  AppVersion  AvSigVersion  \\\n",
       "4291725     0.989258       0.431152    0.576172      0.002523   \n",
       "5081676     0.989258       0.431152    0.576172      0.000284   \n",
       "8395646     0.989258       0.431152    0.022964      0.000281   \n",
       "5206665     0.989258       0.431152    0.095398      0.001853   \n",
       "7481451     0.989258       0.431152    0.576172      0.000377   \n",
       "\n",
       "         AVProductStatesIdentifier    HasTpm  CountryIdentifier  \\\n",
       "4291725                   0.652832  0.987793           0.009079   \n",
       "5081676                   0.652832  0.987793           0.003342   \n",
       "8395646                   0.652832  0.987793           0.003914   \n",
       "5206665                   0.652832  0.987793           0.005527   \n",
       "7481451                   0.652832  0.987793           0.020432   \n",
       "\n",
       "         CityIdentifier  OrganizationIdentifier  GeoNameIdentifier  \\\n",
       "4291725        0.000683                0.470459           0.171753   \n",
       "5081676        0.001477                0.197632           0.002808   \n",
       "8395646        0.036591                0.308594           0.004864   \n",
       "5206665        0.005505                0.308594           0.005219   \n",
       "7481451        0.000095                0.470459           0.017410   \n",
       "\n",
       "             ...       Census_GenuineStateName  Census_ActivationChannel  \\\n",
       "4291725      ...                      0.089905                  0.382324   \n",
       "5081676      ...                      0.882812                  0.382324   \n",
       "8395646      ...                      0.882812                  0.530273   \n",
       "5206665      ...                      0.882812                  0.382324   \n",
       "7481451      ...                      0.882812                  0.382324   \n",
       "\n",
       "         Census_IsFlightsDisabled  Census_FlightRing  \\\n",
       "4291725                  0.981934           0.032166   \n",
       "5081676                  0.981934           0.936523   \n",
       "8395646                  0.981934           0.936523   \n",
       "5206665                  0.981934           0.936523   \n",
       "7481451                  0.981934           0.936523   \n",
       "\n",
       "         Census_IsSecureBootEnabled  Census_IsVirtualDevice  \\\n",
       "4291725                     0.51416                0.991211   \n",
       "5081676                     0.48584                0.991211   \n",
       "8395646                     0.51416                0.991211   \n",
       "5206665                     0.48584                0.991211   \n",
       "7481451                     0.51416                0.991211   \n",
       "\n",
       "         Census_IsTouchEnabled  Census_IsPenCapable  \\\n",
       "4291725               0.874512             0.961914   \n",
       "5081676               0.125488             0.038086   \n",
       "8395646               0.874512             0.961914   \n",
       "5206665               0.874512             0.961914   \n",
       "7481451               0.874512             0.961914   \n",
       "\n",
       "         Census_IsAlwaysOnAlwaysConnectedCapable  Wdft_IsGamer  \n",
       "4291725                                 0.935059      0.034058  \n",
       "5081676                                 0.935059      0.691895  \n",
       "8395646                                 0.935059      0.691895  \n",
       "5206665                                 0.935059      0.691895  \n",
       "7481451                                 0.935059      0.691895  \n",
       "\n",
       "[5 rows x 59 columns]"
      ]
     },
     "execution_count": 96,
     "metadata": {},
     "output_type": "execute_result"
    }
   ],
   "source": [
    "xTest.head()"
   ]
  },
  {
   "cell_type": "code",
   "execution_count": 30,
   "metadata": {},
   "outputs": [
    {
     "data": {
      "text/plain": [
       "ProductName                                                                         [4, 1, 2, 0, 5, 3]\n",
       "EngineVersion                                        [65, 64, 61, 59, 63, 54, 45, 27, 50, 57, 42, 3...\n",
       "AppVersion                                           [57, 106, 26, 51, 37, 44, 25, 17, 78, 94, 95, ...\n",
       "AvSigVersion                                         [8135, 8328, 8088, 7680, 8038, 7886, 8184, 804...\n",
       "AVProductStatesIdentifier                            [53447.0, 27750.0, 7945.0, 47238.0, 6630.0, 43...\n",
       "HasTpm                                                                                          [1, 0]\n",
       "CountryIdentifier                                    [168, 199, 158, 9, 60, 66, 57, 51, 141, 80, 20...\n",
       "CityIdentifier                                       [nan, 150207.0, 20805.0, 10653.0, 29085.0, 117...\n",
       "OrganizationIdentifier                               [nan, 27.0, 18.0, 48.0, 50.0, 33.0, 14.0, 28.0...\n",
       "GeoNameIdentifier                                    [89.0, 202.0, 240.0, 98.0, 167.0, 101.0, 274.0...\n",
       "LocaleEnglishNameIdentifier                          [88, 70, 233, 103, 227, 107, 182, 75, 217, 60,...\n",
       "Platform                                                                                  [0, 2, 3, 1]\n",
       "Processor                                                                                    [1, 2, 0]\n",
       "OsVer                                                [0, 29, 34, 26, 7, 15, 42, 22, 17, 12, 18, 32,...\n",
       "OsBuild                                              [17134, 7601, 15063, 16299, 14393, 10240, 1058...\n",
       "OsSuite                                              [768, 256, 272, 16, 400, 305, 784, 144, 274, 4...\n",
       "OsPlatformSubRelease                                                       [4, 7, 2, 3, 1, 5, 6, 8, 0]\n",
       "OsBuildLab                                           [260, 524, 243, 247, 251, 262, 231, 223, 191, ...\n",
       "SkuEdition                                                                    [4, 6, 5, 1, 2, 0, 3, 7]\n",
       "IsProtected                                                                            [1.0, 0.0, nan]\n",
       "PuaMode                                                                                      [1, 2, 0]\n",
       "SMode                                                                                  [0.0, nan, 1.0]\n",
       "SmartScreen                                          [12, 14, 6, 13, 8, 4, 10, 9, 0, 15, 16, 1, 17,...\n",
       "Firewall                                                                               [1.0, nan, 0.0]\n",
       "UacLuaenable                                         [1.0, 0.0, nan, 48.0, 3.0, 6357062.0, 49.0, 2....\n",
       "Census_MDC2FormFactor                                       [2, 8, 1, 3, 0, 9, 12, 7, 6, 11, 5, 10, 4]\n",
       "Census_DeviceFamily                                                                          [1, 2, 0]\n",
       "Census_ProcessorCoreCount                            [4.0, 8.0, 2.0, 1.0, 12.0, 6.0, 3.0, 20.0, nan...\n",
       "Census_ProcessorClass                                                                     [3, 0, 2, 1]\n",
       "Census_PrimaryDiskTotalCapacity                      [114473.0, 476940.0, 953869.0, 29820.0, 152627...\n",
       "Census_PrimaryDiskTypeName                                                             [1, 0, 3, 2, 4]\n",
       "Census_SystemVolumeTotalCapacity                     [105034.0, 459619.0, 475799.0, 455217.0, 43670...\n",
       "Census_HasOpticalDiskDrive                                                                      [0, 1]\n",
       "Census_TotalPhysicalRAM                              [8192.0, 2048.0, 4096.0, 6144.0, 2047.0, 24576...\n",
       "Census_ChassisTypeName                               [22, 36, 39, 29, 27, 23, 16, 37, 46, 30, 48, 2...\n",
       "Census_InternalPrimaryDiagonalDisplaySizeInInches    [23.1, 15.5, 12.7, 13.9, 18.5, 20.0, 15.6, 22....\n",
       "Census_InternalPrimaryDisplayResolutionHorizontal    [1920.0, 1366.0, 1024.0, 1600.0, 1680.0, 1280....\n",
       "Census_InternalPrimaryDisplayResolutionVertical      [1080.0, 768.0, 900.0, 1050.0, 1024.0, 1824.0,...\n",
       "Census_PowerPlatformRoleName                                        [1, 3, 9, 6, 7, 5, 2, 0, 4, 10, 8]\n",
       "Census_OSVersion                                     [346, 88, 260, 302, 241, 308, 344, 293, 262, 3...\n",
       "Census_OSArchitecture                                                                        [0, 2, 1]\n",
       "Census_OSBranch                                      [9, 22, 4, 5, 7, 1, 21, 23, 20, 10, 16, 8, 17,...\n",
       "Census_OSBuildNumber                                 [17134, 10586, 15063, 16299, 14393, 10240, 177...\n",
       "Census_OSBuildRevision                               [228, 494, 726, 371, 1324, 492, 191, 192, 786,...\n",
       "Census_OSEdition                                     [2, 5, 14, 16, 3, 6, 8, 0, 18, 10, 4, 27, 28, ...\n",
       "Census_OSSkuName                                     [2, 5, 15, 3, 8, 10, 0, 16, 13, 4, 25, 24, 12,...\n",
       "Census_OSInstallTypeName                                                   [8, 7, 3, 6, 2, 1, 5, 0, 4]\n",
       "Census_OSWUAutoUpdateOptionsName                                                    [2, 3, 0, 5, 4, 1]\n",
       "Census_IsPortableOperatingSystem                                                                [0, 1]\n",
       "Census_GenuineStateName                                                                [1, 0, 4, 2, 3]\n",
       "Census_ActivationChannel                                                            [2, 0, 4, 1, 5, 3]\n",
       "Census_IsFlightsDisabled                                                               [0.0, nan, 1.0]\n",
       "Census_FlightRing                                                       [6, 3, 7, 8, 9, 5, 1, 4, 2, 0]\n",
       "Census_IsSecureBootEnabled                                                                      [0, 1]\n",
       "Census_IsVirtualDevice                                                                 [0.0, 1.0, nan]\n",
       "Census_IsTouchEnabled                                                                           [0, 1]\n",
       "Census_IsPenCapable                                                                             [0, 1]\n",
       "Census_IsAlwaysOnAlwaysConnectedCapable                                                [0.0, 1.0, nan]\n",
       "Wdft_IsGamer                                                                           [1.0, 0.0, nan]\n",
       "dtype: object"
      ]
     },
     "execution_count": 30,
     "metadata": {},
     "output_type": "execute_result"
    }
   ],
   "source": [
    "pd.Series({c: xTrain[c].unique() for c in xTrain})"
   ]
  },
  {
   "cell_type": "code",
   "execution_count": 68,
   "metadata": {},
   "outputs": [
    {
     "data": {
      "text/plain": [
       "Index(['ProductName', 'EngineVersion', 'AppVersion', 'AvSigVersion',\n",
       "       'AVProductStatesIdentifier', 'HasTpm', 'CountryIdentifier',\n",
       "       'CityIdentifier', 'OrganizationIdentifier', 'GeoNameIdentifier',\n",
       "       'LocaleEnglishNameIdentifier', 'Platform', 'Processor', 'OsVer',\n",
       "       'OsBuild', 'OsSuite', 'OsPlatformSubRelease', 'OsBuildLab',\n",
       "       'SkuEdition', 'IsProtected', 'PuaMode', 'SMode', 'SmartScreen',\n",
       "       'Firewall', 'UacLuaenable', 'Census_MDC2FormFactor',\n",
       "       'Census_DeviceFamily', 'Census_ProcessorCoreCount',\n",
       "       'Census_ProcessorClass', 'Census_PrimaryDiskTotalCapacity',\n",
       "       'Census_PrimaryDiskTypeName', 'Census_SystemVolumeTotalCapacity',\n",
       "       'Census_HasOpticalDiskDrive', 'Census_TotalPhysicalRAM',\n",
       "       'Census_ChassisTypeName',\n",
       "       'Census_InternalPrimaryDiagonalDisplaySizeInInches',\n",
       "       'Census_InternalPrimaryDisplayResolutionHorizontal',\n",
       "       'Census_InternalPrimaryDisplayResolutionVertical',\n",
       "       'Census_PowerPlatformRoleName', 'Census_OSVersion',\n",
       "       'Census_OSArchitecture', 'Census_OSBranch', 'Census_OSBuildNumber',\n",
       "       'Census_OSBuildRevision', 'Census_OSEdition', 'Census_OSSkuName',\n",
       "       'Census_OSInstallTypeName', 'Census_OSWUAutoUpdateOptionsName',\n",
       "       'Census_IsPortableOperatingSystem', 'Census_GenuineStateName',\n",
       "       'Census_ActivationChannel', 'Census_IsFlightsDisabled',\n",
       "       'Census_FlightRing', 'Census_IsSecureBootEnabled',\n",
       "       'Census_IsVirtualDevice', 'Census_IsTouchEnabled',\n",
       "       'Census_IsPenCapable', 'Census_IsAlwaysOnAlwaysConnectedCapable',\n",
       "       'Wdft_IsGamer'],\n",
       "      dtype='object')"
      ]
     },
     "execution_count": 68,
     "metadata": {},
     "output_type": "execute_result"
    }
   ],
   "source": [
    "xTrain.columns\n",
    "\n",
    "['Census_ProcessorCoreCount','Census_PrimaryDiskTotalCapacity','Census_SystemVolumeTotalCapacity','Census_TotalPhysicalRAM',\n",
    " 'Census_InternalPrimaryDiagonalDisplaySizeInInches',\n",
    "       'Census_InternalPrimaryDisplayResolutionHorizontal',\n",
    "       'Census_InternalPrimaryDisplayResolutionVertical']"
   ]
  },
  {
   "cell_type": "code",
   "execution_count": 90,
   "metadata": {},
   "outputs": [],
   "source": [
    "for column_name in xTest.columns:\n",
    "    if column_name not in ['Census_ProcessorCoreCount','Census_PrimaryDiskTotalCapacity',\\\n",
    "                                              'Census_SystemVolumeTotalCapacity','Census_TotalPhysicalRAM','Census_InternalPrimaryDiagonalDisplaySizeInInches',\\\n",
    "                                              'Census_InternalPrimaryDisplayResolutionHorizontal','Census_InternalPrimaryDisplayResolutionVertical']:\n",
    "        probs = (xTest[column_name].value_counts()/xTest[column_name].count()).astype(np.float16)\n",
    "        for ind in probs.index:\n",
    "            xTest.loc[xTest[column_name] == ind, column_name] = probs[ind]\n",
    "    else:\n",
    "        pass"
   ]
  },
  {
   "cell_type": "code",
   "execution_count": 95,
   "metadata": {},
   "outputs": [],
   "source": [
    "pd.DataFrame.to_csv(xTest, \"xTest.csv\")"
   ]
  },
  {
   "cell_type": "code",
   "execution_count": 89,
   "metadata": {},
   "outputs": [
    {
     "name": "stdout",
     "output_type": "stream",
     "text": [
      "4    9.892578e-01\n",
      "1    1.069641e-02\n",
      "2    5.960464e-06\n",
      "3    2.980232e-06\n",
      "5    1.132488e-06\n",
      "0    7.748604e-07\n",
      "Name: ProductName, dtype: float16\n",
      "0.9893\n",
      "0.0107\n",
      "5.96e-06\n",
      "3e-06\n",
      "1.13e-06\n",
      "8e-07\n"
     ]
    }
   ],
   "source": [
    "print(probs)\n",
    "\n",
    "for ind in probs.index:\n",
    "    print(probs[ind])\n",
    "        "
   ]
  },
  {
   "cell_type": "code",
   "execution_count": 69,
   "metadata": {},
   "outputs": [
    {
     "name": "stdout",
     "output_type": "stream",
     "text": [
      "ProductName\n",
      "EngineVersion\n",
      "AppVersion\n",
      "AvSigVersion\n",
      "AVProductStatesIdentifier\n",
      "HasTpm\n",
      "CountryIdentifier\n",
      "CityIdentifier\n",
      "OrganizationIdentifier\n",
      "GeoNameIdentifier\n",
      "LocaleEnglishNameIdentifier\n",
      "Platform\n",
      "Processor\n",
      "OsVer\n",
      "OsBuild\n",
      "OsSuite\n",
      "OsPlatformSubRelease\n",
      "OsBuildLab\n",
      "SkuEdition\n",
      "IsProtected\n",
      "PuaMode\n",
      "SMode\n",
      "SmartScreen\n",
      "Firewall\n",
      "UacLuaenable\n",
      "Census_MDC2FormFactor\n",
      "Census_DeviceFamily\n",
      "Census_ProcessorClass\n",
      "Census_PrimaryDiskTypeName\n",
      "Census_HasOpticalDiskDrive\n",
      "Census_ChassisTypeName\n",
      "Census_PowerPlatformRoleName\n",
      "Census_OSVersion\n",
      "Census_OSArchitecture\n",
      "Census_OSBranch\n",
      "Census_OSBuildNumber\n",
      "Census_OSBuildRevision\n",
      "Census_OSEdition\n",
      "Census_OSSkuName\n",
      "Census_OSInstallTypeName\n",
      "Census_OSWUAutoUpdateOptionsName\n",
      "Census_IsPortableOperatingSystem\n",
      "Census_GenuineStateName\n",
      "Census_ActivationChannel\n",
      "Census_IsFlightsDisabled\n",
      "Census_FlightRing\n",
      "Census_IsSecureBootEnabled\n",
      "Census_IsVirtualDevice\n",
      "Census_IsTouchEnabled\n",
      "Census_IsPenCapable\n",
      "Census_IsAlwaysOnAlwaysConnectedCapable\n",
      "Wdft_IsGamer\n"
     ]
    }
   ],
   "source": [
    "for column_name in xTrain.columns:\n",
    "    if column_name not in ['Census_ProcessorCoreCount','Census_PrimaryDiskTotalCapacity',\\\n",
    "                                              'Census_SystemVolumeTotalCapacity','Census_TotalPhysicalRAM','Census_InternalPrimaryDiagonalDisplaySizeInInches',\\\n",
    "                                              'Census_InternalPrimaryDisplayResolutionHorizontal','Census_InternalPrimaryDisplayResolutionVertical']:\n",
    "        xTrain.loc[:, column_name] = pd.to_numeric(xTrain[column_name].value_counts()/xTrain[column_name].count())\n",
    "        print(column_name)\n",
    "    else:\n",
    "        pass"
   ]
  },
  {
   "cell_type": "code",
   "execution_count": 103,
   "metadata": {},
   "outputs": [
    {
     "data": {
      "text/plain": [
       "numpy.ndarray"
      ]
     },
     "execution_count": 103,
     "metadata": {},
     "output_type": "execute_result"
    }
   ],
   "source": [
    "type(yTest)"
   ]
  },
  {
   "cell_type": "markdown",
   "metadata": {},
   "source": [
    "## FFM"
   ]
  },
  {
   "cell_type": "code",
   "execution_count": 15,
   "metadata": {},
   "outputs": [],
   "source": [
    "def convert_to_ffm(df,datasetType,numerics,categories):\n",
    "    currentcode = len(numerics)\n",
    "    catdict = {}\n",
    "    catcodes = {}\n",
    "    \n",
    "    # Flagging categorical and numerical fields\n",
    "    for x in numerics:\n",
    "         catdict[x] = 0\n",
    "    for x in categories:\n",
    "         catdict[x] = 1\n",
    "    \n",
    "    nrows = df.shape[0]\n",
    "    ncolumns = len(numerics)+len(categories)\n",
    "    with open(str(datasetType) + \"_ffm.txt\", \"w\") as text_file:\n",
    "    \n",
    "    # Looping over rows to convert each row to libffm format\n",
    "        for n, r in enumerate(range(nrows)):\n",
    "             datastring = \"\"\n",
    "             datarow = df.iloc[r].to_dict()\n",
    "             datastring += str((datarow['HasDetections'])) # Set Target Variable here\n",
    "             \n",
    "            # For numerical fields, we are creating a dummy field here\n",
    "             for i, x in enumerate(catdict.keys()):\n",
    "                 if(catdict[x]==0):\n",
    "                     datastring = datastring + \" \"+str(i)+\":\"+ str(i)+\":\"+ str(datarow[x])\n",
    "                 else:\n",
    "            \n",
    "            # For a new field appearing in a training example\n",
    "                     if(x not in catcodes):\n",
    "                         catcodes[x] = {}\n",
    "                         currentcode +=1\n",
    "                         catcodes[x][datarow[x]] = currentcode #encoding the feature\n",
    "             \n",
    "            # For already encoded fields\n",
    "                     elif(datarow[x] not in catcodes[x]):\n",
    "                         currentcode +=1\n",
    "                         catcodes[x][datarow[x]] = currentcode #encoding the feature\n",
    "                     \n",
    "                     code = catcodes[x][datarow[x]]\n",
    "                     datastring = datastring + \" \"+str(i)+\":\"+ str(int(code))+\":1\"\n",
    "\n",
    "             datastring += '\\n'\n",
    "             text_file.write(datastring)"
   ]
  },
  {
   "cell_type": "code",
   "execution_count": 34,
   "metadata": {},
   "outputs": [
    {
     "ename": "KeyboardInterrupt",
     "evalue": "",
     "output_type": "error",
     "traceback": [
      "\u001b[0;31m---------------------------------------------------------------------------\u001b[0m",
      "\u001b[0;31mKeyboardInterrupt\u001b[0m                         Traceback (most recent call last)",
      "\u001b[0;32m<ipython-input-34-f449c7b060ff>\u001b[0m in \u001b[0;36m<module>\u001b[0;34m\u001b[0m\n\u001b[1;32m      8\u001b[0m                \u001b[0;34m\"Census_OSBranch\"\u001b[0m\u001b[0;34m,\u001b[0m \u001b[0;34m\"Census_OSBuildNumber\"\u001b[0m\u001b[0;34m,\u001b[0m \u001b[0;34m\"Census_OSBuildRevision\"\u001b[0m\u001b[0;34m,\u001b[0m \u001b[0;34m\"Census_OSEdition\"\u001b[0m\u001b[0;34m,\u001b[0m \u001b[0;34m\"Census_OSSkuName\"\u001b[0m\u001b[0;34m,\u001b[0m \u001b[0;34m\"Census_OSInstallTypeName\"\u001b[0m\u001b[0;34m,\u001b[0m \u001b[0;34m\"Census_OSWUAutoUpdateOptionsName\"\u001b[0m\u001b[0;34m,\u001b[0m\u001b[0;31m\\\u001b[0m\u001b[0;34m\u001b[0m\u001b[0;34m\u001b[0m\u001b[0m\n\u001b[1;32m      9\u001b[0m                \u001b[0;34m\"Census_IsPortableOperatingSystem\"\u001b[0m\u001b[0;34m,\u001b[0m \u001b[0;34m\"Census_GenuineStateName\"\u001b[0m\u001b[0;34m,\u001b[0m \u001b[0;34m\"Census_ActivationChannel\"\u001b[0m\u001b[0;34m,\u001b[0m \u001b[0;34m\"Census_IsFlightsDisabled\"\u001b[0m\u001b[0;34m,\u001b[0m \u001b[0;34m\"Census_FlightRing\"\u001b[0m\u001b[0;34m,\u001b[0m \u001b[0;34m\"Census_IsSecureBootEnabled\"\u001b[0m\u001b[0;34m,\u001b[0m\u001b[0;31m \u001b[0m\u001b[0;31m\\\u001b[0m\u001b[0;34m\u001b[0m\u001b[0;34m\u001b[0m\u001b[0m\n\u001b[0;32m---> 10\u001b[0;31m                \"Census_IsVirtualDevice\", \"Census_IsTouchEnabled\", \"Census_IsPenCapable\", \"Census_IsAlwaysOnAlwaysConnectedCapable\", \"Wdft_IsGamer\", \"HasDetections\"]\n\u001b[0m\u001b[1;32m     11\u001b[0m               )\n",
      "\u001b[0;32m<ipython-input-15-208aac5298f0>\u001b[0m in \u001b[0;36mconvert_to_ffm\u001b[0;34m(df, datasetType, numerics, categories)\u001b[0m\n\u001b[1;32m     35\u001b[0m                      \u001b[0;32melif\u001b[0m\u001b[0;34m(\u001b[0m\u001b[0mdatarow\u001b[0m\u001b[0;34m[\u001b[0m\u001b[0mx\u001b[0m\u001b[0;34m]\u001b[0m \u001b[0;32mnot\u001b[0m \u001b[0;32min\u001b[0m \u001b[0mcatcodes\u001b[0m\u001b[0;34m[\u001b[0m\u001b[0mx\u001b[0m\u001b[0;34m]\u001b[0m\u001b[0;34m)\u001b[0m\u001b[0;34m:\u001b[0m\u001b[0;34m\u001b[0m\u001b[0;34m\u001b[0m\u001b[0m\n\u001b[1;32m     36\u001b[0m                          \u001b[0mcurrentcode\u001b[0m \u001b[0;34m+=\u001b[0m\u001b[0;36m1\u001b[0m\u001b[0;34m\u001b[0m\u001b[0;34m\u001b[0m\u001b[0m\n\u001b[0;32m---> 37\u001b[0;31m                          \u001b[0mcatcodes\u001b[0m\u001b[0;34m[\u001b[0m\u001b[0mx\u001b[0m\u001b[0;34m]\u001b[0m\u001b[0;34m[\u001b[0m\u001b[0mdatarow\u001b[0m\u001b[0;34m[\u001b[0m\u001b[0mx\u001b[0m\u001b[0;34m]\u001b[0m\u001b[0;34m]\u001b[0m \u001b[0;34m=\u001b[0m \u001b[0mcurrentcode\u001b[0m \u001b[0;31m#encoding the feature\u001b[0m\u001b[0;34m\u001b[0m\u001b[0;34m\u001b[0m\u001b[0m\n\u001b[0m\u001b[1;32m     38\u001b[0m \u001b[0;34m\u001b[0m\u001b[0m\n\u001b[1;32m     39\u001b[0m                      \u001b[0mcode\u001b[0m \u001b[0;34m=\u001b[0m \u001b[0mcatcodes\u001b[0m\u001b[0;34m[\u001b[0m\u001b[0mx\u001b[0m\u001b[0;34m]\u001b[0m\u001b[0;34m[\u001b[0m\u001b[0mdatarow\u001b[0m\u001b[0;34m[\u001b[0m\u001b[0mx\u001b[0m\u001b[0;34m]\u001b[0m\u001b[0;34m]\u001b[0m\u001b[0;34m\u001b[0m\u001b[0;34m\u001b[0m\u001b[0m\n",
      "\u001b[0;31mKeyboardInterrupt\u001b[0m: "
     ]
    }
   ],
   "source": [
    "convert_to_ffm(xTrainFFM, 'train', \\\n",
    "              [\"Census_ProcessorCoreCount\", \"Census_PrimaryDiskTotalCapacity\", \"Census_SystemVolumeTotalCapacity\", \"Census_TotalPhysicalRAM\", \"Census_InternalPrimaryDiagonalDisplaySizeInInches\",\\\n",
    "               \"Census_InternalPrimaryDisplayResolutionHorizontal\", \"Census_InternalPrimaryDisplayResolutionVertical\"], \\\n",
    "              [\"ProductName\", \"EngineVersion\", \"AppVersion\", \"AvSigVersion\", \"AVProductStatesIdentifier\", \"HasTpm\", \"CountryIdentifier\", \"CityIdentifier\", \"OrganizationIdentifier\", \\\n",
    "               \"GeoNameIdentifier\", \"LocaleEnglishNameIdentifier\", \"Platform\", \"Processor\", \"OsVer\", \"OsBuild\", \"OsSuite\", \"OsPlatformSubRelease\", \"OsBuildLab\", \"SkuEdition\", \\\n",
    "               \"IsProtected\", \"PuaMode\", \"SMode\", \"SmartScreen\", \"Firewall\", \"UacLuaenable\", \"Census_MDC2FormFactor\", \"Census_DeviceFamily\", \"Census_ProcessorClass\", \\\n",
    "               \"Census_PrimaryDiskTypeName\", \"Census_HasOpticalDiskDrive\", \"Census_ChassisTypeName\", \"Census_PowerPlatformRoleName\", \"Census_OSVersion\", \"Census_OSArchitecture\",\\\n",
    "               \"Census_OSBranch\", \"Census_OSBuildNumber\", \"Census_OSBuildRevision\", \"Census_OSEdition\", \"Census_OSSkuName\", \"Census_OSInstallTypeName\", \"Census_OSWUAutoUpdateOptionsName\",\\\n",
    "               \"Census_IsPortableOperatingSystem\", \"Census_GenuineStateName\", \"Census_ActivationChannel\", \"Census_IsFlightsDisabled\", \"Census_FlightRing\", \"Census_IsSecureBootEnabled\", \\\n",
    "               \"Census_IsVirtualDevice\", \"Census_IsTouchEnabled\", \"Census_IsPenCapable\", \"Census_IsAlwaysOnAlwaysConnectedCapable\", \"Wdft_IsGamer\", \"HasDetections\"]\n",
    "              )"
   ]
  },
  {
   "cell_type": "code",
   "execution_count": null,
   "metadata": {},
   "outputs": [],
   "source": [
    "ffm_model = xl.create_ffm()"
   ]
  },
  {
   "cell_type": "code",
   "execution_count": null,
   "metadata": {},
   "outputs": [],
   "source": [
    "ffm_model.setTrain(\"train_ffm.txt\")"
   ]
  },
  {
   "cell_type": "code",
   "execution_count": null,
   "metadata": {},
   "outputs": [],
   "source": [
    "param = {'task':'binary', \n",
    "         'lr':0.2,\n",
    "         'lambda':0.002, \n",
    "         'metric':'acc'}"
   ]
  },
  {
   "cell_type": "code",
   "execution_count": null,
   "metadata": {},
   "outputs": [],
   "source": [
    "ffm_model.fit(param, './model.out')"
   ]
  },
  {
   "cell_type": "code",
   "execution_count": null,
   "metadata": {},
   "outputs": [],
   "source": [
    "# Prediction task\n",
    "ffm_model.setTest(\"test_ffm.txt\") # Test data\n",
    "ffm_model.setSigmoid() # Convert output to 0-1\n",
    "\n",
    "# Start to predict\n",
    "# The output result will be stored in output.txt\n",
    "ffm_model.predict(\"./model.out\", \"./output.txt\")"
   ]
  },
  {
   "cell_type": "markdown",
   "metadata": {},
   "source": [
    "## Random Forest"
   ]
  },
  {
   "cell_type": "code",
   "execution_count": 45,
   "metadata": {},
   "outputs": [
    {
     "name": "stdout",
     "output_type": "stream",
     "text": [
      "{'n_estimators': [120, 328, 537, 746, 955, 1164, 1373, 1582, 1791, 2000], 'max_features': ['auto', 'sqrt'], 'max_depth': [10, 20, 30, 40, 50, 60, 70, 80, 90, 100, 110, None], 'min_samples_split': [2, 5, 10, 25, 50], 'min_samples_leaf': [1, 2, 4, 8, 10], 'bootstrap': [True, False]}\n"
     ]
    }
   ],
   "source": [
    "# Number of trees in random forest\n",
    "n_estimators = [int(x) for x in np.linspace(start = 120, stop = 2000, num = 10)]\n",
    "# Number of features to consider at every split\n",
    "max_features = ['auto', 'sqrt']\n",
    "# Maximum number of levels in tree\n",
    "max_depth = [int(x) for x in np.linspace(10, 110, num = 11)]\n",
    "max_depth.append(None)\n",
    "# Minimum number of samples required to split a node\n",
    "min_samples_split = [2, 5, 10, 25, 50]\n",
    "# Minimum number of samples required at each leaf node\n",
    "min_samples_leaf = [1, 2, 4, 8, 10]\n",
    "# Method of selecting samples for training each tree\n",
    "bootstrap = [True, False]\n",
    "# Create the random grid\n",
    "random_grid = {'n_estimators': n_estimators,\n",
    "               'max_features': max_features,\n",
    "               'max_depth': max_depth,\n",
    "               'min_samples_split': min_samples_split,\n",
    "               'min_samples_leaf': min_samples_leaf,\n",
    "               'bootstrap': bootstrap}\n",
    "print(random_grid)"
   ]
  },
  {
   "cell_type": "code",
   "execution_count": null,
   "metadata": {},
   "outputs": [],
   "source": [
    "rfMalware = RandomForestClassifier()\n",
    "\n",
    "# Instantiate the grid search model\n",
    "grid_search = GridSearchCV(estimator = rfMalware, param_grid = random_grid, \n",
    "                          cv = 5, n_jobs = -1, verbose = 0)"
   ]
  },
  {
   "cell_type": "code",
   "execution_count": null,
   "metadata": {},
   "outputs": [],
   "source": [
    "# Fit the grid search to the data\n",
    "rfGridSearch = grid_search.fit(xTrain, yTrain)"
   ]
  },
  {
   "cell_type": "code",
   "execution_count": null,
   "metadata": {},
   "outputs": [],
   "source": [
    "rfPred = rfMalware.predict_proba(xTest,)"
   ]
  },
  {
   "cell_type": "code",
   "execution_count": null,
   "metadata": {},
   "outputs": [],
   "source": [
    "grid_search.best_params_"
   ]
  },
  {
   "cell_type": "code",
   "execution_count": null,
   "metadata": {},
   "outputs": [],
   "source": [
    "best_grid = grid_search.best_estimator_"
   ]
  },
  {
   "cell_type": "code",
   "execution_count": null,
   "metadata": {},
   "outputs": [],
   "source": [
    "rfTunedPred = best_grid.predict_proba(xTest,)"
   ]
  },
  {
   "cell_type": "code",
   "execution_count": null,
   "metadata": {},
   "outputs": [],
   "source": [
    "log_loss(yTest,rfTunedPred)"
   ]
  },
  {
   "cell_type": "code",
   "execution_count": null,
   "metadata": {},
   "outputs": [],
   "source": [
    "# save the model to disk\n",
    "filename = 'RF_model.sav'\n",
    "pickle.dump(grid_search, open(filename, 'wb'))"
   ]
  },
  {
   "cell_type": "markdown",
   "metadata": {},
   "source": [
    "## Ensemble RF Models"
   ]
  },
  {
   "cell_type": "code",
   "execution_count": null,
   "metadata": {},
   "outputs": [],
   "source": [
    "estimators = []\n",
    "\n",
    "rfclassifer1 = RandomForestClassifier(n_estimators = 100,\n",
    "               max_features = ,\n",
    "               max_depth = ,\n",
    "               min_samples_split = ,\n",
    "               min_samples_leaf = ,\n",
    "               bootstrap = ,random_state=6,n_jobs=-1)\n",
    "\n",
    "estimators.append(('rf1', rfclassifer1))\n",
    "\n",
    "rfclassifer2 = RandomForestClassifier(n_estimators = 120,\n",
    "               max_features = ,\n",
    "               max_depth = ,\n",
    "               min_samples_split = ,\n",
    "               min_samples_leaf = ,\n",
    "               bootstrap = ,random_state=100,n_jobs=-1)\n",
    "\n",
    "estimators.append(('rf2', rfclassifer2))\n",
    "\n",
    "rfclassifer3 = RandomForestClassifier(n_estimators = 150,\n",
    "               max_features = ,\n",
    "               max_depth = ,\n",
    "               min_samples_split = ,\n",
    "               min_samples_leaf = ,\n",
    "               bootstrap = ,random_state=4833,n_jobs=-1)\n",
    "\n",
    "estimators.append(('rf3', rfclassifer3))\n",
    "\n",
    "ensemblerfVoting = VotingClassifier(estimators, voting='soft')"
   ]
  },
  {
   "cell_type": "code",
   "execution_count": null,
   "metadata": {},
   "outputs": [],
   "source": [
    "ensemblerfVoting.fit(xTrain, yTrain)"
   ]
  },
  {
   "cell_type": "code",
   "execution_count": null,
   "metadata": {},
   "outputs": [],
   "source": [
    "ensemblerfPred = ensemblerfVoting.predict_proba(xTest,)"
   ]
  },
  {
   "cell_type": "code",
   "execution_count": null,
   "metadata": {},
   "outputs": [],
   "source": [
    "log_loss(yTest, ensemblerfPred, eps=1e-15, normalize=True)"
   ]
  },
  {
   "cell_type": "code",
   "execution_count": null,
   "metadata": {},
   "outputs": [],
   "source": [
    "from sklearn.calibration import CalibratedClassifierCV\n",
    "\n",
    "calibrated_rf_clf = CalibratedClassifierCV(ensemblerfVoting, method='isotonic', cv=5)\n",
    "calibrated_rf_clf.fit(xTrain, yTrain)\n",
    "rfCalibEnsemblePred = calibrated_rf_clf.predict_proba(xTest)\n",
    "\n",
    "print(\"loss WITH calibration : \", log_loss(yTest, rfCalibEnsemblePred, eps=1e-15, normalize=True))"
   ]
  },
  {
   "cell_type": "code",
   "execution_count": null,
   "metadata": {},
   "outputs": [],
   "source": [
    "# save the model to disk\n",
    "filename = 'Ensemble_RF_model.sav'\n",
    "pickle.dump(ensemblerfVoting, open(filename, 'wb'))"
   ]
  },
  {
   "cell_type": "markdown",
   "metadata": {},
   "source": [
    "## XG Boost"
   ]
  },
  {
   "cell_type": "code",
   "execution_count": null,
   "metadata": {},
   "outputs": [],
   "source": [
    "dTrain = xgb.DMatrix(xTrain, yTrain)"
   ]
  },
  {
   "cell_type": "code",
   "execution_count": null,
   "metadata": {},
   "outputs": [],
   "source": [
    "one_to_left = st.beta(10, 1)  \n",
    "from_zero_positive = st.expon(0, 50)\n",
    "\n",
    "alg = XGBClassifier(\n",
    " learning_rate = st.uniform(0.05, 0.4),\n",
    " n_estimators=st.randint(120, 1200),\n",
    " max_depth=st.randint(3, 40),\n",
    " min_child_weight=from_zero_positive,\n",
    " reg_alpha = from_zero_positive,\n",
    " gamma=st.uniform(0, 10),\n",
    " subsample = one_to_left,\n",
    " colsample_bytree = one_to_left,\n",
    " nthreads=-1,\n",
    " objective='multi:softprob',\n",
    " stratified=True,\n",
    " scale_pos_weight=1, \n",
    " num_class = 2,   \n",
    " seed=5381)\n",
    "\n",
    "# xgb1_model = modelfit(xgb1, xTrain, predictors)\n",
    "xgb_param = alg.get_xgb_params()\n",
    "cvresult = xgb.cv(xgb_param, dTrain, num_boost_round=alg.get_params()['n_estimators'], \\\n",
    "                  nfold=20, metrics='mlogloss', early_stopping_rounds=50, verbose_eval=False)\n",
    "alg.set_params(n_estimators=cvresult.shape[0])\n",
    "    \n",
    "#Fit the algorithm on the data\n",
    "mdl = alg.fit(xTrain, label_encoded_y, eval_metric='logloss')"
   ]
  },
  {
   "cell_type": "code",
   "execution_count": null,
   "metadata": {},
   "outputs": [],
   "source": [
    "mdl.get_params"
   ]
  },
  {
   "cell_type": "code",
   "execution_count": null,
   "metadata": {},
   "outputs": [],
   "source": [
    "xgb_pred = mdl.predict_proba(xTest,)"
   ]
  },
  {
   "cell_type": "code",
   "execution_count": null,
   "metadata": {},
   "outputs": [],
   "source": [
    "log_loss(yTest, xgb1_pred)"
   ]
  },
  {
   "cell_type": "code",
   "execution_count": null,
   "metadata": {},
   "outputs": [],
   "source": [
    "# save the model to disk\n",
    "filename = 'XGB_model.sav'\n",
    "pickle.dump(mdl, open(filename, 'wb'))"
   ]
  },
  {
   "cell_type": "code",
   "execution_count": 16,
   "metadata": {},
   "outputs": [],
   "source": [
    "# load the model from disk\n",
    "loaded_model = pickle.load(open('XGB_model.sav', 'rb'))"
   ]
  },
  {
   "cell_type": "code",
   "execution_count": 77,
   "metadata": {},
   "outputs": [
    {
     "data": {
      "text/plain": [
       "{'base_score': 0.5,\n",
       " 'booster': 'gbtree',\n",
       " 'colsample_bylevel': 1,\n",
       " 'colsample_bytree': 1,\n",
       " 'gamma': 0,\n",
       " 'learning_rate': 0.1,\n",
       " 'max_delta_step': 0,\n",
       " 'max_depth': 7,\n",
       " 'min_child_weight': 1,\n",
       " 'missing': nan,\n",
       " 'n_estimators': 500,\n",
       " 'n_jobs': -1,\n",
       " 'nthread': None,\n",
       " 'objective': 'binary:logistic',\n",
       " 'random_state': 0,\n",
       " 'reg_alpha': 0,\n",
       " 'reg_lambda': 0,\n",
       " 'scale_pos_weight': 1,\n",
       " 'seed': 1,\n",
       " 'silent': True,\n",
       " 'subsample': 1,\n",
       " 'nthreads': -1}"
      ]
     },
     "execution_count": 77,
     "metadata": {},
     "output_type": "execute_result"
    }
   ],
   "source": [
    "loaded_model.get_params()"
   ]
  },
  {
   "cell_type": "code",
   "execution_count": 30,
   "metadata": {},
   "outputs": [
    {
     "name": "stdout",
     "output_type": "stream",
     "text": [
      "0.6101578773335525\n"
     ]
    }
   ],
   "source": [
    "result = loaded_model.score(xTest, yTest)\n",
    "print(result)"
   ]
  },
  {
   "cell_type": "code",
   "execution_count": 29,
   "metadata": {},
   "outputs": [],
   "source": [
    "y_pre = loaded_model.predict(xTest)\n",
    "y_pro = loaded_model.predict_proba(xTest)[:, 1]"
   ]
  },
  {
   "cell_type": "code",
   "execution_count": 33,
   "metadata": {},
   "outputs": [
    {
     "name": "stdout",
     "output_type": "stream",
     "text": [
      "AUC Score : 0.674795\n",
      "Accuracy : 0.6102\n"
     ]
    }
   ],
   "source": [
    "print(\"AUC Score : %f\" % metrics.roc_auc_score(yTest, y_pro))\n",
    "print(\"Accuracy : %.4g\" % metrics.accuracy_score(yTest, y_pre))"
   ]
  },
  {
   "cell_type": "markdown",
   "metadata": {},
   "source": [
    "## Analyze Only Numeric Columns"
   ]
  },
  {
   "cell_type": "code",
   "execution_count": 16,
   "metadata": {},
   "outputs": [],
   "source": [
    "xTrainNum = xTrain.loc[:, [\"Census_ProcessorCoreCount\", \"Census_PrimaryDiskTotalCapacity\", \"Census_SystemVolumeTotalCapacity\", \"Census_TotalPhysicalRAM\", \"Census_InternalPrimaryDiagonalDisplaySizeInInches\", \"Census_InternalPrimaryDisplayResolutionHorizontal\", \"Census_InternalPrimaryDisplayResolutionVertical\"]]"
   ]
  },
  {
   "cell_type": "code",
   "execution_count": 17,
   "metadata": {},
   "outputs": [],
   "source": [
    "xTestNum = xTest.loc[:, [\"Census_ProcessorCoreCount\", \"Census_PrimaryDiskTotalCapacity\", \"Census_SystemVolumeTotalCapacity\", \"Census_TotalPhysicalRAM\", \"Census_InternalPrimaryDiagonalDisplaySizeInInches\", \"Census_InternalPrimaryDisplayResolutionHorizontal\", \"Census_InternalPrimaryDisplayResolutionVertical\"]]"
   ]
  },
  {
   "cell_type": "code",
   "execution_count": 36,
   "metadata": {},
   "outputs": [],
   "source": [
    "logClf = LogisticRegressionCV(random_state=9457)"
   ]
  },
  {
   "cell_type": "code",
   "execution_count": 37,
   "metadata": {},
   "outputs": [
    {
     "name": "stderr",
     "output_type": "stream",
     "text": [
      "/Users/adeshghadge/anaconda/lib/python3.6/site-packages/sklearn/model_selection/_split.py:1943: FutureWarning: You should specify a value for 'cv' instead of relying on the default value. The default value will change from 3 to 5 in version 0.22.\n",
      "  warnings.warn(CV_WARNING, FutureWarning)\n"
     ]
    },
    {
     "data": {
      "text/plain": [
       "LogisticRegressionCV(Cs=10, class_weight=None, cv='warn', dual=False,\n",
       "           fit_intercept=True, intercept_scaling=1.0, max_iter=100,\n",
       "           multi_class='warn', n_jobs=None, penalty='l2',\n",
       "           random_state=9457, refit=True, scoring=None, solver='lbfgs',\n",
       "           tol=0.0001, verbose=0)"
      ]
     },
     "execution_count": 37,
     "metadata": {},
     "output_type": "execute_result"
    }
   ],
   "source": [
    "logClf.fit(xTrainNum, yTrain)"
   ]
  },
  {
   "cell_type": "code",
   "execution_count": 40,
   "metadata": {},
   "outputs": [],
   "source": [
    "y_lrpre = logClf.predict(xTestNum)\n",
    "y_lrpro = logClf.predict_proba(xTestNum)[:, 1]"
   ]
  },
  {
   "cell_type": "code",
   "execution_count": 42,
   "metadata": {},
   "outputs": [
    {
     "name": "stdout",
     "output_type": "stream",
     "text": [
      "AUC Score : 0.557218\n",
      "Accuracy : 0.5379\n"
     ]
    }
   ],
   "source": [
    "print(\"AUC Score : %f\" % metrics.roc_auc_score(yTest, y_lrpro))\n",
    "print(\"Accuracy : %.4g\" % metrics.accuracy_score(yTest, y_lrpre))"
   ]
  },
  {
   "cell_type": "code",
   "execution_count": 43,
   "metadata": {},
   "outputs": [
    {
     "name": "stdout",
     "output_type": "stream",
     "text": [
      "AUC Score : 0.670988\n"
     ]
    }
   ],
   "source": [
    "print(\"AUC Score : %f\" % metrics.roc_auc_score(yTest, (y_pro + y_lrpro)/2))"
   ]
  },
  {
   "cell_type": "code",
   "execution_count": 46,
   "metadata": {},
   "outputs": [],
   "source": [
    "rfClf = RandomForestClassifier(verbose=2)\n",
    "\n",
    "# Instantiate the grid search model\n",
    "grid_search = GridSearchCV(estimator = rfClf, param_grid = random_grid, \n",
    "                          cv = 5, n_jobs = -1, verbose = 2)"
   ]
  },
  {
   "cell_type": "code",
   "execution_count": 47,
   "metadata": {},
   "outputs": [
    {
     "name": "stdout",
     "output_type": "stream",
     "text": [
      "Fitting 5 folds for each of 12000 candidates, totalling 60000 fits\n"
     ]
    },
    {
     "name": "stderr",
     "output_type": "stream",
     "text": [
      "[Parallel(n_jobs=-1)]: Using backend LokyBackend with 8 concurrent workers.\n"
     ]
    },
    {
     "ename": "KeyboardInterrupt",
     "evalue": "",
     "output_type": "error",
     "traceback": [
      "\u001b[0;31m---------------------------------------------------------------------------\u001b[0m",
      "\u001b[0;31mKeyboardInterrupt\u001b[0m                         Traceback (most recent call last)",
      "\u001b[0;32m~/anaconda/lib/python3.6/site-packages/sklearn/externals/joblib/parallel.py\u001b[0m in \u001b[0;36mretrieve\u001b[0;34m(self)\u001b[0m\n\u001b[1;32m    898\u001b[0m                 \u001b[0;32mif\u001b[0m \u001b[0mgetattr\u001b[0m\u001b[0;34m(\u001b[0m\u001b[0mself\u001b[0m\u001b[0;34m.\u001b[0m\u001b[0m_backend\u001b[0m\u001b[0;34m,\u001b[0m \u001b[0;34m'supports_timeout'\u001b[0m\u001b[0;34m,\u001b[0m \u001b[0;32mFalse\u001b[0m\u001b[0;34m)\u001b[0m\u001b[0;34m:\u001b[0m\u001b[0;34m\u001b[0m\u001b[0m\n\u001b[0;32m--> 899\u001b[0;31m                     \u001b[0mself\u001b[0m\u001b[0;34m.\u001b[0m\u001b[0m_output\u001b[0m\u001b[0;34m.\u001b[0m\u001b[0mextend\u001b[0m\u001b[0;34m(\u001b[0m\u001b[0mjob\u001b[0m\u001b[0;34m.\u001b[0m\u001b[0mget\u001b[0m\u001b[0;34m(\u001b[0m\u001b[0mtimeout\u001b[0m\u001b[0;34m=\u001b[0m\u001b[0mself\u001b[0m\u001b[0;34m.\u001b[0m\u001b[0mtimeout\u001b[0m\u001b[0;34m)\u001b[0m\u001b[0;34m)\u001b[0m\u001b[0;34m\u001b[0m\u001b[0m\n\u001b[0m\u001b[1;32m    900\u001b[0m                 \u001b[0;32melse\u001b[0m\u001b[0;34m:\u001b[0m\u001b[0;34m\u001b[0m\u001b[0m\n",
      "\u001b[0;32m~/anaconda/lib/python3.6/site-packages/sklearn/externals/joblib/_parallel_backends.py\u001b[0m in \u001b[0;36mwrap_future_result\u001b[0;34m(future, timeout)\u001b[0m\n\u001b[1;32m    516\u001b[0m         \u001b[0;32mtry\u001b[0m\u001b[0;34m:\u001b[0m\u001b[0;34m\u001b[0m\u001b[0m\n\u001b[0;32m--> 517\u001b[0;31m             \u001b[0;32mreturn\u001b[0m \u001b[0mfuture\u001b[0m\u001b[0;34m.\u001b[0m\u001b[0mresult\u001b[0m\u001b[0;34m(\u001b[0m\u001b[0mtimeout\u001b[0m\u001b[0;34m=\u001b[0m\u001b[0mtimeout\u001b[0m\u001b[0;34m)\u001b[0m\u001b[0;34m\u001b[0m\u001b[0m\n\u001b[0m\u001b[1;32m    518\u001b[0m         \u001b[0;32mexcept\u001b[0m \u001b[0mLokyTimeoutError\u001b[0m\u001b[0;34m:\u001b[0m\u001b[0;34m\u001b[0m\u001b[0m\n",
      "\u001b[0;32m~/anaconda/lib/python3.6/concurrent/futures/_base.py\u001b[0m in \u001b[0;36mresult\u001b[0;34m(self, timeout)\u001b[0m\n\u001b[1;32m    426\u001b[0m \u001b[0;34m\u001b[0m\u001b[0m\n\u001b[0;32m--> 427\u001b[0;31m             \u001b[0mself\u001b[0m\u001b[0;34m.\u001b[0m\u001b[0m_condition\u001b[0m\u001b[0;34m.\u001b[0m\u001b[0mwait\u001b[0m\u001b[0;34m(\u001b[0m\u001b[0mtimeout\u001b[0m\u001b[0;34m)\u001b[0m\u001b[0;34m\u001b[0m\u001b[0m\n\u001b[0m\u001b[1;32m    428\u001b[0m \u001b[0;34m\u001b[0m\u001b[0m\n",
      "\u001b[0;32m~/anaconda/lib/python3.6/threading.py\u001b[0m in \u001b[0;36mwait\u001b[0;34m(self, timeout)\u001b[0m\n\u001b[1;32m    294\u001b[0m             \u001b[0;32mif\u001b[0m \u001b[0mtimeout\u001b[0m \u001b[0;32mis\u001b[0m \u001b[0;32mNone\u001b[0m\u001b[0;34m:\u001b[0m\u001b[0;34m\u001b[0m\u001b[0m\n\u001b[0;32m--> 295\u001b[0;31m                 \u001b[0mwaiter\u001b[0m\u001b[0;34m.\u001b[0m\u001b[0macquire\u001b[0m\u001b[0;34m(\u001b[0m\u001b[0;34m)\u001b[0m\u001b[0;34m\u001b[0m\u001b[0m\n\u001b[0m\u001b[1;32m    296\u001b[0m                 \u001b[0mgotit\u001b[0m \u001b[0;34m=\u001b[0m \u001b[0;32mTrue\u001b[0m\u001b[0;34m\u001b[0m\u001b[0m\n",
      "\u001b[0;31mKeyboardInterrupt\u001b[0m: ",
      "\nDuring handling of the above exception, another exception occurred:\n",
      "\u001b[0;31mKeyboardInterrupt\u001b[0m                         Traceback (most recent call last)",
      "\u001b[0;32m<ipython-input-47-2d2fb50abff7>\u001b[0m in \u001b[0;36m<module>\u001b[0;34m\u001b[0m\n\u001b[1;32m      1\u001b[0m \u001b[0;31m# Fit the grid search to the data\u001b[0m\u001b[0;34m\u001b[0m\u001b[0;34m\u001b[0m\u001b[0m\n\u001b[0;32m----> 2\u001b[0;31m \u001b[0mrfGridSearch\u001b[0m \u001b[0;34m=\u001b[0m \u001b[0mgrid_search\u001b[0m\u001b[0;34m.\u001b[0m\u001b[0mfit\u001b[0m\u001b[0;34m(\u001b[0m\u001b[0mxTrainNum\u001b[0m\u001b[0;34m,\u001b[0m \u001b[0myTrain\u001b[0m\u001b[0;34m)\u001b[0m\u001b[0;34m\u001b[0m\u001b[0m\n\u001b[0m",
      "\u001b[0;32m~/anaconda/lib/python3.6/site-packages/sklearn/model_selection/_search.py\u001b[0m in \u001b[0;36mfit\u001b[0;34m(self, X, y, groups, **fit_params)\u001b[0m\n\u001b[1;32m    720\u001b[0m                 \u001b[0;32mreturn\u001b[0m \u001b[0mresults_container\u001b[0m\u001b[0;34m[\u001b[0m\u001b[0;36m0\u001b[0m\u001b[0;34m]\u001b[0m\u001b[0;34m\u001b[0m\u001b[0m\n\u001b[1;32m    721\u001b[0m \u001b[0;34m\u001b[0m\u001b[0m\n\u001b[0;32m--> 722\u001b[0;31m             \u001b[0mself\u001b[0m\u001b[0;34m.\u001b[0m\u001b[0m_run_search\u001b[0m\u001b[0;34m(\u001b[0m\u001b[0mevaluate_candidates\u001b[0m\u001b[0;34m)\u001b[0m\u001b[0;34m\u001b[0m\u001b[0m\n\u001b[0m\u001b[1;32m    723\u001b[0m \u001b[0;34m\u001b[0m\u001b[0m\n\u001b[1;32m    724\u001b[0m         \u001b[0mresults\u001b[0m \u001b[0;34m=\u001b[0m \u001b[0mresults_container\u001b[0m\u001b[0;34m[\u001b[0m\u001b[0;36m0\u001b[0m\u001b[0;34m]\u001b[0m\u001b[0;34m\u001b[0m\u001b[0m\n",
      "\u001b[0;32m~/anaconda/lib/python3.6/site-packages/sklearn/model_selection/_search.py\u001b[0m in \u001b[0;36m_run_search\u001b[0;34m(self, evaluate_candidates)\u001b[0m\n\u001b[1;32m   1189\u001b[0m     \u001b[0;32mdef\u001b[0m \u001b[0m_run_search\u001b[0m\u001b[0;34m(\u001b[0m\u001b[0mself\u001b[0m\u001b[0;34m,\u001b[0m \u001b[0mevaluate_candidates\u001b[0m\u001b[0;34m)\u001b[0m\u001b[0;34m:\u001b[0m\u001b[0;34m\u001b[0m\u001b[0m\n\u001b[1;32m   1190\u001b[0m         \u001b[0;34m\"\"\"Search all candidates in param_grid\"\"\"\u001b[0m\u001b[0;34m\u001b[0m\u001b[0m\n\u001b[0;32m-> 1191\u001b[0;31m         \u001b[0mevaluate_candidates\u001b[0m\u001b[0;34m(\u001b[0m\u001b[0mParameterGrid\u001b[0m\u001b[0;34m(\u001b[0m\u001b[0mself\u001b[0m\u001b[0;34m.\u001b[0m\u001b[0mparam_grid\u001b[0m\u001b[0;34m)\u001b[0m\u001b[0;34m)\u001b[0m\u001b[0;34m\u001b[0m\u001b[0m\n\u001b[0m\u001b[1;32m   1192\u001b[0m \u001b[0;34m\u001b[0m\u001b[0m\n\u001b[1;32m   1193\u001b[0m \u001b[0;34m\u001b[0m\u001b[0m\n",
      "\u001b[0;32m~/anaconda/lib/python3.6/site-packages/sklearn/model_selection/_search.py\u001b[0m in \u001b[0;36mevaluate_candidates\u001b[0;34m(candidate_params)\u001b[0m\n\u001b[1;32m    709\u001b[0m                                \u001b[0;32mfor\u001b[0m \u001b[0mparameters\u001b[0m\u001b[0;34m,\u001b[0m \u001b[0;34m(\u001b[0m\u001b[0mtrain\u001b[0m\u001b[0;34m,\u001b[0m \u001b[0mtest\u001b[0m\u001b[0;34m)\u001b[0m\u001b[0;34m\u001b[0m\u001b[0m\n\u001b[1;32m    710\u001b[0m                                in product(candidate_params,\n\u001b[0;32m--> 711\u001b[0;31m                                           cv.split(X, y, groups)))\n\u001b[0m\u001b[1;32m    712\u001b[0m \u001b[0;34m\u001b[0m\u001b[0m\n\u001b[1;32m    713\u001b[0m                 \u001b[0mall_candidate_params\u001b[0m\u001b[0;34m.\u001b[0m\u001b[0mextend\u001b[0m\u001b[0;34m(\u001b[0m\u001b[0mcandidate_params\u001b[0m\u001b[0;34m)\u001b[0m\u001b[0;34m\u001b[0m\u001b[0m\n",
      "\u001b[0;32m~/anaconda/lib/python3.6/site-packages/sklearn/externals/joblib/parallel.py\u001b[0m in \u001b[0;36m__call__\u001b[0;34m(self, iterable)\u001b[0m\n\u001b[1;32m    994\u001b[0m \u001b[0;34m\u001b[0m\u001b[0m\n\u001b[1;32m    995\u001b[0m             \u001b[0;32mwith\u001b[0m \u001b[0mself\u001b[0m\u001b[0;34m.\u001b[0m\u001b[0m_backend\u001b[0m\u001b[0;34m.\u001b[0m\u001b[0mretrieval_context\u001b[0m\u001b[0;34m(\u001b[0m\u001b[0;34m)\u001b[0m\u001b[0;34m:\u001b[0m\u001b[0;34m\u001b[0m\u001b[0m\n\u001b[0;32m--> 996\u001b[0;31m                 \u001b[0mself\u001b[0m\u001b[0;34m.\u001b[0m\u001b[0mretrieve\u001b[0m\u001b[0;34m(\u001b[0m\u001b[0;34m)\u001b[0m\u001b[0;34m\u001b[0m\u001b[0m\n\u001b[0m\u001b[1;32m    997\u001b[0m             \u001b[0;31m# Make sure that we get a last message telling us we are done\u001b[0m\u001b[0;34m\u001b[0m\u001b[0;34m\u001b[0m\u001b[0m\n\u001b[1;32m    998\u001b[0m             \u001b[0melapsed_time\u001b[0m \u001b[0;34m=\u001b[0m \u001b[0mtime\u001b[0m\u001b[0;34m.\u001b[0m\u001b[0mtime\u001b[0m\u001b[0;34m(\u001b[0m\u001b[0;34m)\u001b[0m \u001b[0;34m-\u001b[0m \u001b[0mself\u001b[0m\u001b[0;34m.\u001b[0m\u001b[0m_start_time\u001b[0m\u001b[0;34m\u001b[0m\u001b[0m\n",
      "\u001b[0;32m~/anaconda/lib/python3.6/site-packages/sklearn/externals/joblib/parallel.py\u001b[0m in \u001b[0;36mretrieve\u001b[0;34m(self)\u001b[0m\n\u001b[1;32m    919\u001b[0m                     \u001b[0;31m# scheduling.\u001b[0m\u001b[0;34m\u001b[0m\u001b[0;34m\u001b[0m\u001b[0m\n\u001b[1;32m    920\u001b[0m                     \u001b[0mensure_ready\u001b[0m \u001b[0;34m=\u001b[0m \u001b[0mself\u001b[0m\u001b[0;34m.\u001b[0m\u001b[0m_managed_backend\u001b[0m\u001b[0;34m\u001b[0m\u001b[0m\n\u001b[0;32m--> 921\u001b[0;31m                     \u001b[0mbackend\u001b[0m\u001b[0;34m.\u001b[0m\u001b[0mabort_everything\u001b[0m\u001b[0;34m(\u001b[0m\u001b[0mensure_ready\u001b[0m\u001b[0;34m=\u001b[0m\u001b[0mensure_ready\u001b[0m\u001b[0;34m)\u001b[0m\u001b[0;34m\u001b[0m\u001b[0m\n\u001b[0m\u001b[1;32m    922\u001b[0m \u001b[0;34m\u001b[0m\u001b[0m\n\u001b[1;32m    923\u001b[0m                 \u001b[0;32mif\u001b[0m \u001b[0misinstance\u001b[0m\u001b[0;34m(\u001b[0m\u001b[0mexception\u001b[0m\u001b[0;34m,\u001b[0m \u001b[0mTransportableException\u001b[0m\u001b[0;34m)\u001b[0m\u001b[0;34m:\u001b[0m\u001b[0;34m\u001b[0m\u001b[0m\n",
      "\u001b[0;32m~/anaconda/lib/python3.6/site-packages/sklearn/externals/joblib/_parallel_backends.py\u001b[0m in \u001b[0;36mabort_everything\u001b[0;34m(self, ensure_ready)\u001b[0m\n\u001b[1;32m    532\u001b[0m         \"\"\"Shutdown the workers and restart a new one with the same parameters\n\u001b[1;32m    533\u001b[0m         \"\"\"\n\u001b[0;32m--> 534\u001b[0;31m         \u001b[0mself\u001b[0m\u001b[0;34m.\u001b[0m\u001b[0m_workers\u001b[0m\u001b[0;34m.\u001b[0m\u001b[0mshutdown\u001b[0m\u001b[0;34m(\u001b[0m\u001b[0mkill_workers\u001b[0m\u001b[0;34m=\u001b[0m\u001b[0;32mTrue\u001b[0m\u001b[0;34m)\u001b[0m\u001b[0;34m\u001b[0m\u001b[0m\n\u001b[0m\u001b[1;32m    535\u001b[0m         \u001b[0mdelete_folder\u001b[0m\u001b[0;34m(\u001b[0m\u001b[0mself\u001b[0m\u001b[0;34m.\u001b[0m\u001b[0m_workers\u001b[0m\u001b[0;34m.\u001b[0m\u001b[0m_temp_folder\u001b[0m\u001b[0;34m)\u001b[0m\u001b[0;34m\u001b[0m\u001b[0m\n\u001b[1;32m    536\u001b[0m         \u001b[0mself\u001b[0m\u001b[0;34m.\u001b[0m\u001b[0m_workers\u001b[0m \u001b[0;34m=\u001b[0m \u001b[0;32mNone\u001b[0m\u001b[0;34m\u001b[0m\u001b[0m\n",
      "\u001b[0;32m~/anaconda/lib/python3.6/site-packages/sklearn/externals/joblib/externals/loky/process_executor.py\u001b[0m in \u001b[0;36mshutdown\u001b[0;34m(self, wait, kill_workers)\u001b[0m\n\u001b[1;32m   1088\u001b[0m                     \u001b[0;32mpass\u001b[0m\u001b[0;34m\u001b[0m\u001b[0m\n\u001b[1;32m   1089\u001b[0m             \u001b[0;32mif\u001b[0m \u001b[0mwait\u001b[0m\u001b[0;34m:\u001b[0m\u001b[0;34m\u001b[0m\u001b[0m\n\u001b[0;32m-> 1090\u001b[0;31m                 \u001b[0mqmt\u001b[0m\u001b[0;34m.\u001b[0m\u001b[0mjoin\u001b[0m\u001b[0;34m(\u001b[0m\u001b[0;34m)\u001b[0m\u001b[0;34m\u001b[0m\u001b[0m\n\u001b[0m\u001b[1;32m   1091\u001b[0m \u001b[0;34m\u001b[0m\u001b[0m\n\u001b[1;32m   1092\u001b[0m         \u001b[0mcq\u001b[0m \u001b[0;34m=\u001b[0m \u001b[0mself\u001b[0m\u001b[0;34m.\u001b[0m\u001b[0m_call_queue\u001b[0m\u001b[0;34m\u001b[0m\u001b[0m\n",
      "\u001b[0;32m~/anaconda/lib/python3.6/threading.py\u001b[0m in \u001b[0;36mjoin\u001b[0;34m(self, timeout)\u001b[0m\n\u001b[1;32m   1054\u001b[0m \u001b[0;34m\u001b[0m\u001b[0m\n\u001b[1;32m   1055\u001b[0m         \u001b[0;32mif\u001b[0m \u001b[0mtimeout\u001b[0m \u001b[0;32mis\u001b[0m \u001b[0;32mNone\u001b[0m\u001b[0;34m:\u001b[0m\u001b[0;34m\u001b[0m\u001b[0m\n\u001b[0;32m-> 1056\u001b[0;31m             \u001b[0mself\u001b[0m\u001b[0;34m.\u001b[0m\u001b[0m_wait_for_tstate_lock\u001b[0m\u001b[0;34m(\u001b[0m\u001b[0;34m)\u001b[0m\u001b[0;34m\u001b[0m\u001b[0m\n\u001b[0m\u001b[1;32m   1057\u001b[0m         \u001b[0;32melse\u001b[0m\u001b[0;34m:\u001b[0m\u001b[0;34m\u001b[0m\u001b[0m\n\u001b[1;32m   1058\u001b[0m             \u001b[0;31m# the behavior of a negative timeout isn't documented, but\u001b[0m\u001b[0;34m\u001b[0m\u001b[0;34m\u001b[0m\u001b[0m\n",
      "\u001b[0;32m~/anaconda/lib/python3.6/threading.py\u001b[0m in \u001b[0;36m_wait_for_tstate_lock\u001b[0;34m(self, block, timeout)\u001b[0m\n\u001b[1;32m   1070\u001b[0m         \u001b[0;32mif\u001b[0m \u001b[0mlock\u001b[0m \u001b[0;32mis\u001b[0m \u001b[0;32mNone\u001b[0m\u001b[0;34m:\u001b[0m  \u001b[0;31m# already determined that the C code is done\u001b[0m\u001b[0;34m\u001b[0m\u001b[0m\n\u001b[1;32m   1071\u001b[0m             \u001b[0;32massert\u001b[0m \u001b[0mself\u001b[0m\u001b[0;34m.\u001b[0m\u001b[0m_is_stopped\u001b[0m\u001b[0;34m\u001b[0m\u001b[0m\n\u001b[0;32m-> 1072\u001b[0;31m         \u001b[0;32melif\u001b[0m \u001b[0mlock\u001b[0m\u001b[0;34m.\u001b[0m\u001b[0macquire\u001b[0m\u001b[0;34m(\u001b[0m\u001b[0mblock\u001b[0m\u001b[0;34m,\u001b[0m \u001b[0mtimeout\u001b[0m\u001b[0;34m)\u001b[0m\u001b[0;34m:\u001b[0m\u001b[0;34m\u001b[0m\u001b[0m\n\u001b[0m\u001b[1;32m   1073\u001b[0m             \u001b[0mlock\u001b[0m\u001b[0;34m.\u001b[0m\u001b[0mrelease\u001b[0m\u001b[0;34m(\u001b[0m\u001b[0;34m)\u001b[0m\u001b[0;34m\u001b[0m\u001b[0m\n\u001b[1;32m   1074\u001b[0m             \u001b[0mself\u001b[0m\u001b[0;34m.\u001b[0m\u001b[0m_stop\u001b[0m\u001b[0;34m(\u001b[0m\u001b[0;34m)\u001b[0m\u001b[0;34m\u001b[0m\u001b[0m\n",
      "\u001b[0;31mKeyboardInterrupt\u001b[0m: "
     ]
    }
   ],
   "source": [
    "# Fit the grid search to the data\n",
    "rfGridSearch = grid_search.fit(xTrainNum, yTrain)"
   ]
  },
  {
   "cell_type": "code",
   "execution_count": 48,
   "metadata": {},
   "outputs": [],
   "source": [
    "rfClf = RandomForestClassifier(n_estimators=170, random_state=9053207, verbose=2)"
   ]
  },
  {
   "cell_type": "code",
   "execution_count": 49,
   "metadata": {},
   "outputs": [
    {
     "name": "stderr",
     "output_type": "stream",
     "text": [
      "[Parallel(n_jobs=1)]: Using backend SequentialBackend with 1 concurrent workers.\n"
     ]
    },
    {
     "name": "stdout",
     "output_type": "stream",
     "text": [
      "building tree 1 of 170\n"
     ]
    },
    {
     "name": "stderr",
     "output_type": "stream",
     "text": [
      "[Parallel(n_jobs=1)]: Done   1 out of   1 | elapsed:   35.6s remaining:    0.0s\n"
     ]
    },
    {
     "name": "stdout",
     "output_type": "stream",
     "text": [
      "building tree 2 of 170\n",
      "building tree 3 of 170\n",
      "building tree 4 of 170\n",
      "building tree 5 of 170\n",
      "building tree 6 of 170\n",
      "building tree 7 of 170\n",
      "building tree 8 of 170\n",
      "building tree 9 of 170\n",
      "building tree 10 of 170\n",
      "building tree 11 of 170\n",
      "building tree 12 of 170\n",
      "building tree 13 of 170\n",
      "building tree 14 of 170\n",
      "building tree 15 of 170\n",
      "building tree 16 of 170\n",
      "building tree 17 of 170\n",
      "building tree 18 of 170\n",
      "building tree 19 of 170\n",
      "building tree 20 of 170\n",
      "building tree 21 of 170\n",
      "building tree 22 of 170\n",
      "building tree 23 of 170\n",
      "building tree 24 of 170\n",
      "building tree 25 of 170\n",
      "building tree 26 of 170\n",
      "building tree 27 of 170\n",
      "building tree 28 of 170\n",
      "building tree 29 of 170\n",
      "building tree 30 of 170\n",
      "building tree 31 of 170\n",
      "building tree 32 of 170\n",
      "building tree 33 of 170\n",
      "building tree 34 of 170\n",
      "building tree 35 of 170\n",
      "building tree 36 of 170\n",
      "building tree 37 of 170\n",
      "building tree 38 of 170\n",
      "building tree 39 of 170\n",
      "building tree 40 of 170\n",
      "building tree 41 of 170\n",
      "building tree 42 of 170\n",
      "building tree 43 of 170\n",
      "building tree 44 of 170\n",
      "building tree 45 of 170\n",
      "building tree 46 of 170\n",
      "building tree 47 of 170\n",
      "building tree 48 of 170\n",
      "building tree 49 of 170\n",
      "building tree 50 of 170\n",
      "building tree 51 of 170\n",
      "building tree 52 of 170\n",
      "building tree 53 of 170\n",
      "building tree 54 of 170\n",
      "building tree 55 of 170\n",
      "building tree 56 of 170\n",
      "building tree 57 of 170\n",
      "building tree 58 of 170\n",
      "building tree 59 of 170\n",
      "building tree 60 of 170\n",
      "building tree 61 of 170\n",
      "building tree 62 of 170\n",
      "building tree 63 of 170\n",
      "building tree 64 of 170\n",
      "building tree 65 of 170\n",
      "building tree 66 of 170\n",
      "building tree 67 of 170\n",
      "building tree 68 of 170\n",
      "building tree 69 of 170\n",
      "building tree 70 of 170\n",
      "building tree 71 of 170\n",
      "building tree 72 of 170\n",
      "building tree 73 of 170\n",
      "building tree 74 of 170\n",
      "building tree 75 of 170\n",
      "building tree 76 of 170\n",
      "building tree 77 of 170\n",
      "building tree 78 of 170\n",
      "building tree 79 of 170\n",
      "building tree 80 of 170\n",
      "building tree 81 of 170\n",
      "building tree 82 of 170\n",
      "building tree 83 of 170\n",
      "building tree 84 of 170\n",
      "building tree 85 of 170\n",
      "building tree 86 of 170\n",
      "building tree 87 of 170\n",
      "building tree 88 of 170\n",
      "building tree 89 of 170\n",
      "building tree 90 of 170\n",
      "building tree 91 of 170\n",
      "building tree 92 of 170\n",
      "building tree 93 of 170\n",
      "building tree 94 of 170\n",
      "building tree 95 of 170\n",
      "building tree 96 of 170\n",
      "building tree 97 of 170\n",
      "building tree 98 of 170\n",
      "building tree 99 of 170\n",
      "building tree 100 of 170\n",
      "building tree 101 of 170\n",
      "building tree 102 of 170\n",
      "building tree 103 of 170\n",
      "building tree 104 of 170\n",
      "building tree 105 of 170\n",
      "building tree 106 of 170\n",
      "building tree 107 of 170\n",
      "building tree 108 of 170\n",
      "building tree 109 of 170\n",
      "building tree 110 of 170\n",
      "building tree 111 of 170\n",
      "building tree 112 of 170\n",
      "building tree 113 of 170\n",
      "building tree 114 of 170\n",
      "building tree 115 of 170\n",
      "building tree 116 of 170\n",
      "building tree 117 of 170\n",
      "building tree 118 of 170\n",
      "building tree 119 of 170\n",
      "building tree 120 of 170\n",
      "building tree 121 of 170\n",
      "building tree 122 of 170\n",
      "building tree 123 of 170\n",
      "building tree 124 of 170\n",
      "building tree 125 of 170\n",
      "building tree 126 of 170\n",
      "building tree 127 of 170\n",
      "building tree 128 of 170\n",
      "building tree 129 of 170\n",
      "building tree 130 of 170\n",
      "building tree 131 of 170\n",
      "building tree 132 of 170\n",
      "building tree 133 of 170\n",
      "building tree 134 of 170\n",
      "building tree 135 of 170\n",
      "building tree 136 of 170\n",
      "building tree 137 of 170\n",
      "building tree 138 of 170\n",
      "building tree 139 of 170\n",
      "building tree 140 of 170\n",
      "building tree 141 of 170\n",
      "building tree 142 of 170\n",
      "building tree 143 of 170\n",
      "building tree 144 of 170\n",
      "building tree 145 of 170\n",
      "building tree 146 of 170\n",
      "building tree 147 of 170\n",
      "building tree 148 of 170\n",
      "building tree 149 of 170\n",
      "building tree 150 of 170\n",
      "building tree 151 of 170\n",
      "building tree 152 of 170\n",
      "building tree 153 of 170\n",
      "building tree 154 of 170\n",
      "building tree 155 of 170\n",
      "building tree 156 of 170\n",
      "building tree 157 of 170\n",
      "building tree 158 of 170\n",
      "building tree 159 of 170\n",
      "building tree 160 of 170\n",
      "building tree 161 of 170\n",
      "building tree 162 of 170\n",
      "building tree 163 of 170\n",
      "building tree 164 of 170\n",
      "building tree 165 of 170\n",
      "building tree 166 of 170\n",
      "building tree 167 of 170\n",
      "building tree 168 of 170\n",
      "building tree 169 of 170\n",
      "building tree 170 of 170\n"
     ]
    },
    {
     "name": "stderr",
     "output_type": "stream",
     "text": [
      "[Parallel(n_jobs=1)]: Done 170 out of 170 | elapsed: 100.3min finished\n"
     ]
    },
    {
     "data": {
      "text/plain": [
       "RandomForestClassifier(bootstrap=True, class_weight=None, criterion='gini',\n",
       "            max_depth=None, max_features='auto', max_leaf_nodes=None,\n",
       "            min_impurity_decrease=0.0, min_impurity_split=None,\n",
       "            min_samples_leaf=1, min_samples_split=2,\n",
       "            min_weight_fraction_leaf=0.0, n_estimators=170, n_jobs=None,\n",
       "            oob_score=False, random_state=9053207, verbose=2,\n",
       "            warm_start=False)"
      ]
     },
     "execution_count": 49,
     "metadata": {},
     "output_type": "execute_result"
    }
   ],
   "source": [
    "rfClf.fit(xTrainNum, yTrain)"
   ]
  },
  {
   "cell_type": "code",
   "execution_count": 50,
   "metadata": {},
   "outputs": [
    {
     "name": "stderr",
     "output_type": "stream",
     "text": [
      "[Parallel(n_jobs=1)]: Using backend SequentialBackend with 1 concurrent workers.\n",
      "[Parallel(n_jobs=1)]: Done   1 out of   1 | elapsed:    3.8s remaining:    0.0s\n",
      "[Parallel(n_jobs=1)]: Done 170 out of 170 | elapsed:  9.7min finished\n",
      "[Parallel(n_jobs=1)]: Using backend SequentialBackend with 1 concurrent workers.\n",
      "[Parallel(n_jobs=1)]: Done   1 out of   1 | elapsed:    3.5s remaining:    0.0s\n",
      "[Parallel(n_jobs=1)]: Done 170 out of 170 | elapsed:  9.7min finished\n"
     ]
    }
   ],
   "source": [
    "y_rfnpre = rfClf.predict(xTestNum)\n",
    "y_rfnpro = rfClf.predict_proba(xTestNum)[:, 1]"
   ]
  },
  {
   "cell_type": "code",
   "execution_count": 51,
   "metadata": {},
   "outputs": [
    {
     "name": "stdout",
     "output_type": "stream",
     "text": [
      "AUC Score : 0.542977\n",
      "Accuracy : 0.5354\n"
     ]
    }
   ],
   "source": [
    "print(\"AUC Score : %f\" % metrics.roc_auc_score(yTest, y_rfnpro))\n",
    "print(\"Accuracy : %.4g\" % metrics.accuracy_score(yTest, y_rfnpre))"
   ]
  },
  {
   "cell_type": "code",
   "execution_count": 56,
   "metadata": {},
   "outputs": [
    {
     "name": "stdout",
     "output_type": "stream",
     "text": [
      "AUC Score : 0.674005\n"
     ]
    }
   ],
   "source": [
    "print(\"AUC Score : %f\" % metrics.roc_auc_score(yTest, \\\n",
    "                                               (0.8*y_pro + 0.1*y_lrpro + 0.1*y_rfnpro)))"
   ]
  },
  {
   "cell_type": "code",
   "execution_count": 75,
   "metadata": {},
   "outputs": [
    {
     "ename": "TypeError",
     "evalue": "cannot perform reduce with flexible type",
     "output_type": "error",
     "traceback": [
      "\u001b[0;31m---------------------------------------------------------------------------\u001b[0m",
      "\u001b[0;31mTypeError\u001b[0m                                 Traceback (most recent call last)",
      "\u001b[0;32m<ipython-input-75-5b581c6a93ef>\u001b[0m in \u001b[0;36m<module>\u001b[0;34m\u001b[0m\n\u001b[0;32m----> 1\u001b[0;31m \u001b[0mchi2\u001b[0m\u001b[0;34m,\u001b[0m \u001b[0mp\u001b[0m\u001b[0;34m,\u001b[0m \u001b[0mdof\u001b[0m\u001b[0;34m,\u001b[0m \u001b[0mexpected\u001b[0m \u001b[0;34m=\u001b[0m \u001b[0mst\u001b[0m\u001b[0;34m.\u001b[0m\u001b[0mchi2_contingency\u001b[0m\u001b[0;34m(\u001b[0m\u001b[0mxTrain\u001b[0m\u001b[0;34m.\u001b[0m\u001b[0miloc\u001b[0m\u001b[0;34m[\u001b[0m\u001b[0;34m:\u001b[0m\u001b[0;34m,\u001b[0m\u001b[0;34m[\u001b[0m\u001b[0;34m\"OsVer\"\u001b[0m\u001b[0;34m,\u001b[0m \u001b[0;34m\"OsBuild\"\u001b[0m\u001b[0;34m]\u001b[0m\u001b[0;34m]\u001b[0m\u001b[0;34m)\u001b[0m\u001b[0;34m\u001b[0m\u001b[0m\n\u001b[0m",
      "\u001b[0;32m~/anaconda/lib/python3.6/site-packages/pandas/core/indexing.py\u001b[0m in \u001b[0;36m__getitem__\u001b[0;34m(self, key)\u001b[0m\n\u001b[1;32m   1470\u001b[0m             \u001b[0;32mexcept\u001b[0m \u001b[0;34m(\u001b[0m\u001b[0mKeyError\u001b[0m\u001b[0;34m,\u001b[0m \u001b[0mIndexError\u001b[0m\u001b[0;34m)\u001b[0m\u001b[0;34m:\u001b[0m\u001b[0;34m\u001b[0m\u001b[0m\n\u001b[1;32m   1471\u001b[0m                 \u001b[0;32mpass\u001b[0m\u001b[0;34m\u001b[0m\u001b[0m\n\u001b[0;32m-> 1472\u001b[0;31m             \u001b[0;32mreturn\u001b[0m \u001b[0mself\u001b[0m\u001b[0;34m.\u001b[0m\u001b[0m_getitem_tuple\u001b[0m\u001b[0;34m(\u001b[0m\u001b[0mkey\u001b[0m\u001b[0;34m)\u001b[0m\u001b[0;34m\u001b[0m\u001b[0m\n\u001b[0m\u001b[1;32m   1473\u001b[0m         \u001b[0;32melse\u001b[0m\u001b[0;34m:\u001b[0m\u001b[0;34m\u001b[0m\u001b[0m\n\u001b[1;32m   1474\u001b[0m             \u001b[0;31m# we by definition only have the 0th axis\u001b[0m\u001b[0;34m\u001b[0m\u001b[0;34m\u001b[0m\u001b[0m\n",
      "\u001b[0;32m~/anaconda/lib/python3.6/site-packages/pandas/core/indexing.py\u001b[0m in \u001b[0;36m_getitem_tuple\u001b[0;34m(self, tup)\u001b[0m\n\u001b[1;32m   2011\u001b[0m     \u001b[0;32mdef\u001b[0m \u001b[0m_getitem_tuple\u001b[0m\u001b[0;34m(\u001b[0m\u001b[0mself\u001b[0m\u001b[0;34m,\u001b[0m \u001b[0mtup\u001b[0m\u001b[0;34m)\u001b[0m\u001b[0;34m:\u001b[0m\u001b[0;34m\u001b[0m\u001b[0m\n\u001b[1;32m   2012\u001b[0m \u001b[0;34m\u001b[0m\u001b[0m\n\u001b[0;32m-> 2013\u001b[0;31m         \u001b[0mself\u001b[0m\u001b[0;34m.\u001b[0m\u001b[0m_has_valid_tuple\u001b[0m\u001b[0;34m(\u001b[0m\u001b[0mtup\u001b[0m\u001b[0;34m)\u001b[0m\u001b[0;34m\u001b[0m\u001b[0m\n\u001b[0m\u001b[1;32m   2014\u001b[0m         \u001b[0;32mtry\u001b[0m\u001b[0;34m:\u001b[0m\u001b[0;34m\u001b[0m\u001b[0m\n\u001b[1;32m   2015\u001b[0m             \u001b[0;32mreturn\u001b[0m \u001b[0mself\u001b[0m\u001b[0;34m.\u001b[0m\u001b[0m_getitem_lowerdim\u001b[0m\u001b[0;34m(\u001b[0m\u001b[0mtup\u001b[0m\u001b[0;34m)\u001b[0m\u001b[0;34m\u001b[0m\u001b[0m\n",
      "\u001b[0;32m~/anaconda/lib/python3.6/site-packages/pandas/core/indexing.py\u001b[0m in \u001b[0;36m_has_valid_tuple\u001b[0;34m(self, key)\u001b[0m\n\u001b[1;32m    220\u001b[0m                 \u001b[0;32mraise\u001b[0m \u001b[0mIndexingError\u001b[0m\u001b[0;34m(\u001b[0m\u001b[0;34m'Too many indexers'\u001b[0m\u001b[0;34m)\u001b[0m\u001b[0;34m\u001b[0m\u001b[0m\n\u001b[1;32m    221\u001b[0m             \u001b[0;32mtry\u001b[0m\u001b[0;34m:\u001b[0m\u001b[0;34m\u001b[0m\u001b[0m\n\u001b[0;32m--> 222\u001b[0;31m                 \u001b[0mself\u001b[0m\u001b[0;34m.\u001b[0m\u001b[0m_validate_key\u001b[0m\u001b[0;34m(\u001b[0m\u001b[0mk\u001b[0m\u001b[0;34m,\u001b[0m \u001b[0mi\u001b[0m\u001b[0;34m)\u001b[0m\u001b[0;34m\u001b[0m\u001b[0m\n\u001b[0m\u001b[1;32m    223\u001b[0m             \u001b[0;32mexcept\u001b[0m \u001b[0mValueError\u001b[0m\u001b[0;34m:\u001b[0m\u001b[0;34m\u001b[0m\u001b[0m\n\u001b[1;32m    224\u001b[0m                 raise ValueError(\"Location based indexing can only have \"\n",
      "\u001b[0;32m~/anaconda/lib/python3.6/site-packages/pandas/core/indexing.py\u001b[0m in \u001b[0;36m_validate_key\u001b[0;34m(self, key, axis)\u001b[0m\n\u001b[1;32m   1965\u001b[0m             \u001b[0ml\u001b[0m \u001b[0;34m=\u001b[0m \u001b[0mlen\u001b[0m\u001b[0;34m(\u001b[0m\u001b[0mself\u001b[0m\u001b[0;34m.\u001b[0m\u001b[0mobj\u001b[0m\u001b[0;34m.\u001b[0m\u001b[0m_get_axis\u001b[0m\u001b[0;34m(\u001b[0m\u001b[0maxis\u001b[0m\u001b[0;34m)\u001b[0m\u001b[0;34m)\u001b[0m\u001b[0;34m\u001b[0m\u001b[0m\n\u001b[1;32m   1966\u001b[0m \u001b[0;34m\u001b[0m\u001b[0m\n\u001b[0;32m-> 1967\u001b[0;31m             \u001b[0;32mif\u001b[0m \u001b[0mlen\u001b[0m\u001b[0;34m(\u001b[0m\u001b[0marr\u001b[0m\u001b[0;34m)\u001b[0m \u001b[0;32mand\u001b[0m \u001b[0;34m(\u001b[0m\u001b[0marr\u001b[0m\u001b[0;34m.\u001b[0m\u001b[0mmax\u001b[0m\u001b[0;34m(\u001b[0m\u001b[0;34m)\u001b[0m \u001b[0;34m>=\u001b[0m \u001b[0ml\u001b[0m \u001b[0;32mor\u001b[0m \u001b[0marr\u001b[0m\u001b[0;34m.\u001b[0m\u001b[0mmin\u001b[0m\u001b[0;34m(\u001b[0m\u001b[0;34m)\u001b[0m \u001b[0;34m<\u001b[0m \u001b[0;34m-\u001b[0m\u001b[0ml\u001b[0m\u001b[0;34m)\u001b[0m\u001b[0;34m:\u001b[0m\u001b[0;34m\u001b[0m\u001b[0m\n\u001b[0m\u001b[1;32m   1968\u001b[0m                 \u001b[0;32mraise\u001b[0m \u001b[0mIndexError\u001b[0m\u001b[0;34m(\u001b[0m\u001b[0;34m\"positional indexers are out-of-bounds\"\u001b[0m\u001b[0;34m)\u001b[0m\u001b[0;34m\u001b[0m\u001b[0m\n\u001b[1;32m   1969\u001b[0m         \u001b[0;32melse\u001b[0m\u001b[0;34m:\u001b[0m\u001b[0;34m\u001b[0m\u001b[0m\n",
      "\u001b[0;32m~/anaconda/lib/python3.6/site-packages/numpy/core/_methods.py\u001b[0m in \u001b[0;36m_amax\u001b[0;34m(a, axis, out, keepdims, initial)\u001b[0m\n\u001b[1;32m     26\u001b[0m def _amax(a, axis=None, out=None, keepdims=False,\n\u001b[1;32m     27\u001b[0m           initial=_NoValue):\n\u001b[0;32m---> 28\u001b[0;31m     \u001b[0;32mreturn\u001b[0m \u001b[0mumr_maximum\u001b[0m\u001b[0;34m(\u001b[0m\u001b[0ma\u001b[0m\u001b[0;34m,\u001b[0m \u001b[0maxis\u001b[0m\u001b[0;34m,\u001b[0m \u001b[0;32mNone\u001b[0m\u001b[0;34m,\u001b[0m \u001b[0mout\u001b[0m\u001b[0;34m,\u001b[0m \u001b[0mkeepdims\u001b[0m\u001b[0;34m,\u001b[0m \u001b[0minitial\u001b[0m\u001b[0;34m)\u001b[0m\u001b[0;34m\u001b[0m\u001b[0m\n\u001b[0m\u001b[1;32m     29\u001b[0m \u001b[0;34m\u001b[0m\u001b[0m\n\u001b[1;32m     30\u001b[0m def _amin(a, axis=None, out=None, keepdims=False,\n",
      "\u001b[0;31mTypeError\u001b[0m: cannot perform reduce with flexible type"
     ]
    }
   ],
   "source": [
    "chi2, p, dof, expected = st.chi2_contingency(xTrain.iloc[:,[\"OsVer\", \"OsBuild\"]])"
   ]
  },
  {
   "cell_type": "code",
   "execution_count": 71,
   "metadata": {},
   "outputs": [
    {
     "name": "stdout",
     "output_type": "stream",
     "text": [
      "25725881.82255344\n"
     ]
    }
   ],
   "source": [
    "print(chi2)"
   ]
  },
  {
   "cell_type": "markdown",
   "metadata": {},
   "source": [
    "## Light GBM"
   ]
  },
  {
   "cell_type": "code",
   "execution_count": 18,
   "metadata": {},
   "outputs": [],
   "source": [
    "train_data = lgb.Dataset(xTrainNum, label=yTrain)\n",
    "test_data = lgb.Dataset(xTestNum, label=yTest)"
   ]
  },
  {
   "cell_type": "code",
   "execution_count": 19,
   "metadata": {},
   "outputs": [],
   "source": [
    "param = {'num_leaves':43, \n",
    "         'num_round': 500,\n",
    "         'num_trees':500, \n",
    "         'objective':'binary',\n",
    "         'learning_rate': 0.1,\n",
    "         'max_depth': 31,\n",
    "         'seed': 1324,\n",
    "         'num_threads': 8, \n",
    "         'verbose': 2}\n",
    "param['metric'] = 'auc'"
   ]
  },
  {
   "cell_type": "code",
   "execution_count": null,
   "metadata": {},
   "outputs": [
    {
     "name": "stderr",
     "output_type": "stream",
     "text": [
      "/Users/adeshghadge/anaconda/lib/python3.6/site-packages/lightgbm/engine.py:113: UserWarning: Found `num_trees` in params. Will use it instead of argument\n",
      "  warnings.warn(\"Found `{}` in params. Will use it instead of argument\".format(alias))\n"
     ]
    }
   ],
   "source": [
    "#lgb.cv(param, train_data, num_round, nfold=5)\n",
    "bst = lgb.train(param, train_data, valid_sets=[test_data])"
   ]
  },
  {
   "cell_type": "code",
   "execution_count": null,
   "metadata": {},
   "outputs": [],
   "source": []
  },
  {
   "cell_type": "code",
   "execution_count": null,
   "metadata": {},
   "outputs": [],
   "source": []
  },
  {
   "cell_type": "code",
   "execution_count": null,
   "metadata": {},
   "outputs": [],
   "source": []
  },
  {
   "cell_type": "code",
   "execution_count": null,
   "metadata": {},
   "outputs": [],
   "source": []
  }
 ],
 "metadata": {
  "kernelspec": {
   "display_name": "Python 3",
   "language": "python",
   "name": "python3"
  },
  "language_info": {
   "codemirror_mode": {
    "name": "ipython",
    "version": 3
   },
   "file_extension": ".py",
   "mimetype": "text/x-python",
   "name": "python",
   "nbconvert_exporter": "python",
   "pygments_lexer": "ipython3",
   "version": "3.6.7"
  }
 },
 "nbformat": 4,
 "nbformat_minor": 2
}
