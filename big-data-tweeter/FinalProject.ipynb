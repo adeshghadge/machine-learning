{
 "cells": [
  {
   "cell_type": "code",
   "execution_count": 1,
   "metadata": {
    "collapsed": true
   },
   "outputs": [],
   "source": [
    "import pyspark"
   ]
  },
  {
   "cell_type": "code",
   "execution_count": 2,
   "metadata": {
    "collapsed": true
   },
   "outputs": [],
   "source": [
    "spark = pyspark.sql.SparkSession.builder.appName('test').getOrCreate()"
   ]
  },
  {
   "cell_type": "code",
   "execution_count": 3,
   "metadata": {},
   "outputs": [
    {
     "name": "stdout",
     "output_type": "stream",
     "text": [
      "2.3.0\n"
     ]
    }
   ],
   "source": [
    "#Ensure we are using the right kernel\n",
    "print (spark.version)"
   ]
  },
  {
   "cell_type": "code",
   "execution_count": 4,
   "metadata": {
    "collapsed": true
   },
   "outputs": [],
   "source": [
    "import os\n",
    "import sh\n",
    "import shutil\n",
    "from pyspark.sql.functions import *\n",
    "from pyspark.sql.types import *\n",
    "import matplotlib.pyplot as plt\n",
    "from matplotlib import colors"
   ]
  },
  {
   "cell_type": "code",
   "execution_count": 5,
   "metadata": {
    "collapsed": true
   },
   "outputs": [],
   "source": [
    "local_working_data_dir = \"/Users/adeshghadge/Downloads/BigDataProject\""
   ]
  },
  {
   "cell_type": "code",
   "execution_count": 6,
   "metadata": {
    "collapsed": true
   },
   "outputs": [],
   "source": [
    "tweeter_data = spark.read.json('file:///' + local_working_data_dir + '/tweets_cons.json')"
   ]
  },
  {
   "cell_type": "code",
   "execution_count": 131,
   "metadata": {
    "collapsed": true
   },
   "outputs": [],
   "source": [
    "#tweets_text = tweeter_data.select([\"id\", \"text\"])\n",
    "filter_keywords = \\\n",
    "[\"uchicago\", \"university of chicago\",\\\n",
    "\"polskycenter\", \"hyde park campus\", \\\n",
    "\"pritzker school of medicine\"\n",
    "\"polsky center\", \"maroonmade\", \"maroon made\", \"chicago maroon\", \"pritzker.uchicago\",\\\n",
    "\"harris school of public policy\", \"chicago booth\", \"booth school of business\", \\\n",
    "\"graham school of continuing liberal and professional studies\", \"norris university center\", \\\n",
    "\"kellogg school of management\", \"feinberg school of medicine\",\\\n",
    "\"mccormick school of engineering and applied sciences\", \\\n",
    "\"henry and leigh bienen school of music\", \"bienen school of music\", \\\n",
    "\"harvard\", \"harvard crimson\", \"northwestern university\", \"willie the wildcat\", \"northwestern wildcat\",\\\n",
    "\"michigan medicine\", \"the michigan daily\", \"the michigan every three weekly\", \"the michigan times\", \\\n",
    "\"pritzker school of law\", \"university of michigan\", \"umich\", \"michigan wolverines\", \\\n",
    "\"the chicago maroon\", \"the daily northwestern\", \\\n",
    "\"ross school of business\"]\n",
    "\n",
    "filter_keywords2 = \\\n",
    "[\"uchicago\", \"university of chicago\",\\\n",
    " \"maroonmade\", \"maroon made\", \"chicago maroon\", \n",
    " \"chicago booth\", \"booth school of business\", \\\n",
    "\"graham school of continuing liberal and professional studies\", \\\n",
    "\"kellogg school of management\", \"feinberg school of medicine\",\\\n",
    "\"mccormick school of engineering and applied sciences\", \\\n",
    "\"harvard\", \"harvard crimson\", \"northwestern university\", \"willie the wildcat\", \"northwestern wildcat\",\\\n",
    "\"michigan medicine\", \"the michigan daily\", \"the michigan every three weekly\", \"the michigan times\", \\\n",
    "\"university of michigan\", \"umich\", \"michigan wolverines\", \\\n",
    "\"the chicago maroon\", \"the daily northwestern\", \\\n",
    "\"ross school of business\"]\n",
    "\n",
    "filter_keywords3 = \\\n",
    "[\"uchicago\", \"university of chicago\",\\\n",
    " \"maroonmade\", \"maroon made\", \"chicago maroon\", \n",
    " \"chicago booth\", \"booth school of business\", \\\n",
    "\"graham school of continuing liberal and professional studies\", \\\n",
    "\"kellogg school of management\", \\\n",
    "\"harvard\", \"harvard crimson\", \"northwestern university\", \"willie the wildcat\", \"northwestern wildcat\",\\\n",
    "\"university of michigan\", \"umich\", \"michigan wolverines\", \\\n",
    "\"ross school of business\"]\n",
    "\n",
    "filter_keywords4 = \\\n",
    "[\"uchicago\", \"university of chicago\"]"
   ]
  },
  {
   "cell_type": "code",
   "execution_count": 146,
   "metadata": {
    "collapsed": true
   },
   "outputs": [],
   "source": [
    "def findString(tweet, retweet, extended_tweet):\n",
    "    for filterWord in filter_keywords4:\n",
    "        if((tweet is not None and tweet.lower().find(filterWord) >= 0) or \\\n",
    "           (retweet is not None and retweet.lower().find(filterWord) >= 0) or \\\n",
    "           (extended_tweet is not None and extended_tweet.lower().find(filterWord) >= 0)):\n",
    "            return True\n",
    "            \n",
    "    return False;    \n",
    "\n",
    "findUdf = udf(findString)"
   ]
  },
  {
   "cell_type": "code",
   "execution_count": 147,
   "metadata": {
    "collapsed": true
   },
   "outputs": [],
   "source": [
    "tweets_filtered = tweeter_data\\\n",
    "                    .filter(\"id is not null and ltrim(rtrim(id)) <> '' and ((text is not null and ltrim(rtrim(text)) <> '') \\\n",
    "                    or (retweeted_status_text is not null and ltrim(rtrim(retweeted_status_text)) <> '') \\\n",
    "                    or (extended_tweet_full_text is not null and ltrim(rtrim(extended_tweet_full_text)) <> ''))\")\\\n",
    "                    .withColumn(\"relevantTweet\", findUdf(col(\"text\"),\\\n",
    "                                                         col(\"retweeted_status_text\"),\\\n",
    "                                                         col(\"extended_tweet_full_text\")))"
   ]
  },
  {
   "cell_type": "code",
   "execution_count": 109,
   "metadata": {},
   "outputs": [
    {
     "data": {
      "text/plain": [
       "1361524"
      ]
     },
     "execution_count": 109,
     "metadata": {},
     "output_type": "execute_result"
    }
   ],
   "source": [
    "tweeter_data.count()"
   ]
  },
  {
   "cell_type": "code",
   "execution_count": null,
   "metadata": {
    "collapsed": true
   },
   "outputs": [],
   "source": []
  },
  {
   "cell_type": "code",
   "execution_count": 148,
   "metadata": {},
   "outputs": [
    {
     "data": {
      "text/plain": [
       "143463"
      ]
     },
     "execution_count": 148,
     "metadata": {},
     "output_type": "execute_result"
    }
   ],
   "source": [
    "tweets_filtered.filter(\"relevantTweet == True\").count()"
   ]
  },
  {
   "cell_type": "code",
   "execution_count": 149,
   "metadata": {},
   "outputs": [
    {
     "name": "stdout",
     "output_type": "stream",
     "text": [
      "root\n",
      " |-- created_at: string (nullable = true)\n",
      " |-- extended_tweet_full_text: string (nullable = true)\n",
      " |-- favorite_count: long (nullable = true)\n",
      " |-- favorited: boolean (nullable = true)\n",
      " |-- id: long (nullable = true)\n",
      " |-- is_quote_status: boolean (nullable = true)\n",
      " |-- lang: string (nullable = true)\n",
      " |-- place_country: string (nullable = true)\n",
      " |-- place_id: string (nullable = true)\n",
      " |-- place_name: string (nullable = true)\n",
      " |-- place_place_type: string (nullable = true)\n",
      " |-- retweet_count: long (nullable = true)\n",
      " |-- retweeted: boolean (nullable = true)\n",
      " |-- retweeted_status_created_at: string (nullable = true)\n",
      " |-- retweeted_status_favorite_count: long (nullable = true)\n",
      " |-- retweeted_status_favorited: boolean (nullable = true)\n",
      " |-- retweeted_status_id: long (nullable = true)\n",
      " |-- retweeted_status_lang: string (nullable = true)\n",
      " |-- retweeted_status_place_country: string (nullable = true)\n",
      " |-- retweeted_status_place_id: string (nullable = true)\n",
      " |-- retweeted_status_place_name: string (nullable = true)\n",
      " |-- retweeted_status_place_place_type: string (nullable = true)\n",
      " |-- retweeted_status_retweet_count: long (nullable = true)\n",
      " |-- retweeted_status_retweeted: boolean (nullable = true)\n",
      " |-- retweeted_status_source: string (nullable = true)\n",
      " |-- retweeted_status_text: string (nullable = true)\n",
      " |-- retweeted_status_user_created_at: string (nullable = true)\n",
      " |-- retweeted_status_user_id: long (nullable = true)\n",
      " |-- retweeted_status_user_location: string (nullable = true)\n",
      " |-- retweeted_status_user_name: string (nullable = true)\n",
      " |-- retweeted_status_user_screen_name: string (nullable = true)\n",
      " |-- text: string (nullable = true)\n",
      " |-- user_created_at: string (nullable = true)\n",
      " |-- user_id: long (nullable = true)\n",
      " |-- user_location: string (nullable = true)\n",
      " |-- user_name: string (nullable = true)\n",
      " |-- user_screen_name: string (nullable = true)\n",
      " |-- relevantTweet: string (nullable = true)\n",
      "\n"
     ]
    }
   ],
   "source": [
    "tweets_filtered.printSchema()"
   ]
  },
  {
   "cell_type": "code",
   "execution_count": 150,
   "metadata": {},
   "outputs": [
    {
     "name": "stdout",
     "output_type": "stream",
     "text": [
      "+------------------+----------------+-----------------+\n",
      "|           user_id|user_screen_name|TweetCountPerUser|\n",
      "+------------------+----------------+-----------------+\n",
      "|880005795974217728|        CMasden7|             7734|\n",
      "|         859728522|       jurnskeff|             1683|\n",
      "|        2376944491|      SmartSanta|             1363|\n",
      "|         417357386|     uchicagogsu|              946|\n",
      "|        2828951115| ghostwriterREAL|              928|\n",
      "|         131144285|        UChicago|              888|\n",
      "|        2790314135| truthsearch1957|              845|\n",
      "|        2645320447|    harvardedits|              816|\n",
      "|        2809834164|      infoguy411|              813|\n",
      "|          20270494|  ChicagoMaroons|              739|\n",
      "+------------------+----------------+-----------------+\n",
      "only showing top 10 rows\n",
      "\n"
     ]
    }
   ],
   "source": [
    "tweets_filtered.groupby(\"user_id\", \"user_screen_name\").agg(count(\"user_id\"))\\\n",
    "    .withColumnRenamed(\"count(user_id)\", \"TweetCountPerUser\")\\\n",
    "    .orderBy(\"TweetCountPerUser\", ascending = False).show(10)"
   ]
  },
  {
   "cell_type": "code",
   "execution_count": 44,
   "metadata": {},
   "outputs": [
    {
     "name": "stdout",
     "output_type": "stream",
     "text": [
      "+------------------+----------------+-------------------+\n",
      "|           user_id|user_screen_name|RetweetCountPerUser|\n",
      "+------------------+----------------+-------------------+\n",
      "|        3249390261|       olanaaaaa|             543431|\n",
      "|         347975630|       yxngebony|             543015|\n",
      "|         329145208|    wolf_haley69|             540797|\n",
      "|        2992083703|         _nnajib|             519916|\n",
      "|         507494850|      momacrosby|             436693|\n",
      "|878467860628111360|  waveofchlorine|             416349|\n",
      "|        4873869610|       relyung13|             415264|\n",
      "|         704557153|        ASAPAIMA|             384358|\n",
      "|        1184579304|     valeria_ggz|             375239|\n",
      "|742409509679702016|        Haylo_24|             374006|\n",
      "+------------------+----------------+-------------------+\n",
      "only showing top 10 rows\n",
      "\n"
     ]
    }
   ],
   "source": [
    "tweeter_data.groupby(\"user_id\", \"user_screen_name\").agg(sum(\"retweeted_status_retweet_count\"))\\\n",
    "    .withColumnRenamed(\"sum(retweeted_status_retweet_count)\", \"RetweetCountPerUser\")\\\n",
    "    .orderBy(\"RetweetCountPerUser\", ascending = False).show(10)"
   ]
  },
  {
   "cell_type": "code",
   "execution_count": null,
   "metadata": {
    "collapsed": true
   },
   "outputs": [],
   "source": []
  },
  {
   "cell_type": "code",
   "execution_count": 47,
   "metadata": {},
   "outputs": [
    {
     "name": "stdout",
     "output_type": "stream",
     "text": [
      "+----------+----------------+-------------------+-----------------+\n",
      "|   user_id|user_screen_name|         place_name|TweetCountPerUser|\n",
      "+----------+----------------+-------------------+-----------------+\n",
      "|4715692053|     MikeWebbNow|Bailey's Crossroads|              294|\n",
      "|4715692053|     MikeWebbNow|          Arlington|              280|\n",
      "|1901454811|        HDee1967|             Zurich|              204|\n",
      "|  73717355|  tmj_il_hsptlst|            Harvard|              199|\n",
      "| 582140844|   sunnyherring1|       Pennsylvania|              110|\n",
      "|   4186351|        dahuntsr|          Ann Arbor|              109|\n",
      "| 289420613|      naomirwolf|          Manhattan|               76|\n",
      "|4715692053|     MikeWebbNow|         Alexandria|               72|\n",
      "|   1356241|       shazrasul|            Chicago|               72|\n",
      "|2607703608|        A_Rockas|     City of London|               70|\n",
      "+----------+----------------+-------------------+-----------------+\n",
      "only showing top 10 rows\n",
      "\n"
     ]
    }
   ],
   "source": [
    "tweeter_data.filter(\"place_name is not null and ltrim(rtrim(place_name)) <> ''\")\\\n",
    "                    .groupby(\"user_id\", \"user_screen_name\", \"place_name\").agg(count(\"user_id\"))\\\n",
    "    .withColumnRenamed(\"count(user_id)\", \"TweetCountPerUser\")\\\n",
    "    .orderBy(\"TweetCountPerUser\", ascending = False).show(10)"
   ]
  },
  {
   "cell_type": "code",
   "execution_count": 63,
   "metadata": {},
   "outputs": [],
   "source": [
    "from datetime import datetime\n",
    "import pytz\n",
    "from dateutil.parser import parse\n",
    "import pandas as pd"
   ]
  },
  {
   "cell_type": "code",
   "execution_count": 86,
   "metadata": {},
   "outputs": [],
   "source": [
    "def convertToDate(dateVal):\n",
    "    if(dateVal is not None):\n",
    "        return (datetime.strptime(datetime.strftime(datetime.strptime(dateVal, '%a %b %d %H:%M:%S +0000 %Y'),\\\n",
    "                                    '%b %d,%Y %H'), '%b %d,%Y %H') - datetime(1970, 1, 1))\\\n",
    "    .total_seconds()#pd.to_datetime(dateVal)\n",
    "\n",
    "udf_dateconvert = udf(convertToDate)   "
   ]
  },
  {
   "cell_type": "code",
   "execution_count": 87,
   "metadata": {},
   "outputs": [
    {
     "name": "stdout",
     "output_type": "stream",
     "text": [
      "+-----------+------------------+\n",
      "|created_at2|count(created_at2)|\n",
      "+-----------+------------------+\n",
      "|1.5131844E9|              7359|\n",
      "|1.5131808E9|              7246|\n",
      "| 1.513188E9|              7061|\n",
      "|1.5131988E9|              6898|\n",
      "|1.5131772E9|              6851|\n",
      "+-----------+------------------+\n",
      "only showing top 5 rows\n",
      "\n"
     ]
    }
   ],
   "source": [
    "tweeter_data.filter(\"created_at is not null and ltrim(rtrim(created_at)) <> ''\")\\\n",
    ".withColumn(\"created_at2\", (udf_dateconvert(col(\"created_at\"))))\\\n",
    ".select([\"created_at\", \"created_at2\"])\\\n",
    ".groupby(\"created_at2\").agg(count(\"created_at2\"))\\\n",
    ".orderBy(\"count(created_at2)\", ascending = False)\\\n",
    ".show(5)"
   ]
  },
  {
   "cell_type": "code",
   "execution_count": 88,
   "metadata": {},
   "outputs": [
    {
     "name": "stdout",
     "output_type": "stream",
     "text": [
      "+------------------+----------------+-----------+------------------+\n",
      "|           user_id|user_screen_name|created_at2|count(created_at2)|\n",
      "+------------------+----------------+-----------+------------------+\n",
      "|         237490098|    miguelencita|1.5217308E9|               116|\n",
      "|        1098685988|         J4J_USA|1.5066324E9|               101|\n",
      "|880005795974217728|        CMasden7|1.5019524E9|                91|\n",
      "|811092358574080000|  sanjanakharka1|1.5011352E9|                85|\n",
      "|        1494071780|       Erik_H526|1.5212556E9|                84|\n",
      "+------------------+----------------+-----------+------------------+\n",
      "only showing top 5 rows\n",
      "\n"
     ]
    }
   ],
   "source": [
    "tweeter_data.filter(\"created_at is not null and ltrim(rtrim(created_at)) <> ''\")\\\n",
    ".withColumn(\"created_at2\", (udf_dateconvert(col(\"created_at\"))))\\\n",
    ".select([\"user_id\", \"user_screen_name\", \"created_at\", \"created_at2\"])\\\n",
    ".groupby(\"user_id\", \"user_screen_name\", \"created_at2\").agg(count(\"created_at2\"))\\\n",
    ".orderBy(\"count(created_at2)\", ascending = False)\\\n",
    ".show(5)"
   ]
  },
  {
   "cell_type": "code",
   "execution_count": 103,
   "metadata": {},
   "outputs": [
    {
     "name": "stdout",
     "output_type": "stream",
     "text": [
      "+---------------------------------------------------------------------------------------------------------------------------------------+\n",
      "|text                                                                                                                                   |\n",
      "+---------------------------------------------------------------------------------------------------------------------------------------+\n",
      "|@mmikel6 @MOSupremeCt @USSupremeCourt @TheJusticeDept @CivilRights @Cornell @Harvard @Yale @Missouri @MOcourts… https://t.co/Y2g4Vf4moH|\n",
      "+---------------------------------------------------------------------------------------------------------------------------------------+\n",
      "only showing top 1 row\n",
      "\n"
     ]
    }
   ],
   "source": [
    "tweeter_data.filter(\"user_screen_name == 'miguelencita'\").select(\"text\").show(1, False)"
   ]
  },
  {
   "cell_type": "code",
   "execution_count": 84,
   "metadata": {},
   "outputs": [
    {
     "data": {
      "text/plain": [
       "datetime.datetime(2017, 12, 13, 15, 0)"
      ]
     },
     "execution_count": 84,
     "metadata": {},
     "output_type": "execute_result"
    }
   ],
   "source": [
    "#pd.to_datetime(\"Wed Dec 13 15:15:02 +0000 2017\")\n",
    "datetime.strptime(datetime.strftime(datetime.strptime(\"Wed Dec 13 15:15:02 +0000 2017\", '%a %b %d %H:%M:%S +0000 %Y'),\\\n",
    "                                    '%b %d,%Y %H'), '%b %d,%Y %H') \\\n",
    "- datetime(1970, 1, 1)"
   ]
  },
  {
   "cell_type": "code",
   "execution_count": null,
   "metadata": {
    "collapsed": true
   },
   "outputs": [],
   "source": []
  },
  {
   "cell_type": "code",
   "execution_count": 14,
   "metadata": {},
   "outputs": [
    {
     "name": "stdout",
     "output_type": "stream",
     "text": [
      "+------------------+--------------------+---------+--------------------------+---------------------+\n",
      "|                id|                text|retweeted|retweeted_status_retweeted|retweeted_status_text|\n",
      "+------------------+--------------------+---------+--------------------------+---------------------+\n",
      "|940963279932919811|RT @AyrtonLittle:...|    false|                     false| All the hard work...|\n",
      "|940963285167374336|RT @AyrtonLittle:...|    false|                     false| All the hard work...|\n",
      "|940963286245355520|RT @AyrtonLittle:...|    false|                     false| All the hard work...|\n",
      "|940963286304088064|RT @AyrtonLittle:...|    false|                     false| All the hard work...|\n",
      "|940963286467592192|RT @AyrtonLittle:...|    false|                     false| All the hard work...|\n",
      "|940963286639693824|RT @AyrtonLittle:...|    false|                     false| All the hard work...|\n",
      "|940963287423963136|RT @AyrtonLittle:...|    false|                     false| All the hard work...|\n",
      "|940963292197130240|RT @AyrtonLittle:...|    false|                     false| All the hard work...|\n",
      "|940963299092582400|RT @AyrtonLittle:...|    false|                     false| All the hard work...|\n",
      "|940963303043600386|RT @AyrtonLittle:...|    false|                     false| All the hard work...|\n",
      "|940963303907618816|RT @AyrtonLittle:...|    false|                     false| All the hard work...|\n",
      "|940963304863801346|RT @AyrtonLittle:...|    false|                     false| All the hard work...|\n",
      "|940963307426590720|RT @AyrtonLittle:...|    false|                     false| All the hard work...|\n",
      "|940963307631951872|RT @AyrtonLittle:...|    false|                     false| All the hard work...|\n",
      "|940963310542966784|RT @AyrtonLittle:...|    false|                     false| All the hard work...|\n",
      "|940963312396853250|RT @AyrtonLittle:...|    false|                     false| All the hard work...|\n",
      "|940963314162573316|RT @AyrtonLittle:...|    false|                     false| All the hard work...|\n",
      "|940963314502381568|RT @AyrtonLittle:...|    false|                     false| All the hard work...|\n",
      "|940963315412492288|RT @AyrtonLittle:...|    false|                     false| All the hard work...|\n",
      "|940963315978817537|RT @AyrtonLittle:...|    false|                     false| All the hard work...|\n",
      "+------------------+--------------------+---------+--------------------------+---------------------+\n",
      "only showing top 20 rows\n",
      "\n"
     ]
    }
   ],
   "source": [
    "tweeter_data.filter(\"retweeted_status_text is not null and ltrim(rtrim(retweeted_status_text)) <> ''\")\\\n",
    ".select([\"id\", \"text\", \"retweeted\", \"retweeted_status_retweeted\", \"retweeted_status_text\"]).show()"
   ]
  },
  {
   "cell_type": "code",
   "execution_count": 9,
   "metadata": {},
   "outputs": [
    {
     "data": {
      "text/plain": [
       "963477"
      ]
     },
     "execution_count": 9,
     "metadata": {},
     "output_type": "execute_result"
    }
   ],
   "source": [
    "tweeter_data.filter(\"retweeted_status_text is not null and ltrim(rtrim(retweeted_status_text)) <> ''\")\\\n",
    ".count()"
   ]
  },
  {
   "cell_type": "code",
   "execution_count": 11,
   "metadata": {},
   "outputs": [
    {
     "data": {
      "text/plain": [
       "0"
      ]
     },
     "execution_count": 11,
     "metadata": {},
     "output_type": "execute_result"
    }
   ],
   "source": [
    "tweeter_data.filter(\"retweeted_status_retweeted == true\")\\\n",
    ".count()"
   ]
  },
  {
   "cell_type": "code",
   "execution_count": 9,
   "metadata": {},
   "outputs": [
    {
     "data": {
      "text/plain": [
       "1361524"
      ]
     },
     "execution_count": 9,
     "metadata": {},
     "output_type": "execute_result"
    }
   ],
   "source": [
    "tweeter_data.count()"
   ]
  },
  {
   "cell_type": "code",
   "execution_count": 12,
   "metadata": {},
   "outputs": [
    {
     "name": "stdout",
     "output_type": "stream",
     "text": [
      "+------------------+--------------------+------------------------+---------+---------------------+\n",
      "|                id|                text|extended_tweet_full_text|retweeted|retweeted_status_text|\n",
      "+------------------+--------------------+------------------------+---------+---------------------+\n",
      "|940963372383731713|#TrueBlackExcelle...|                    null|    false|                 null|\n",
      "|940963375156289537|Meet the young wo...|                    null|    false|                 null|\n",
      "|940963541594591237|Former University...|                    null|    false|                 null|\n",
      "|940963737061744641|Strategy: Harvard...|    Strategy: Harvard...|    false|                 null|\n",
      "|940963859216596998|@lilpump graduate...|                    null|    false|                 null|\n",
      "|940963943509577728|.@UChicago what s...|    .@UChicago what s...|    false|                 null|\n",
      "|940964027651543041|MUST-WATCH: Presi...|                    null|    false|                 null|\n",
      "|940964073549811716|Meet the young wo...|                    null|    false|                 null|\n",
      "|940964291691216896|Why high-yield mo...|                    null|    false|                 null|\n",
      "|940964410532786176|I am honored to h...|    I am honored to h...|    false|                 null|\n",
      "|940964697431449602|In other news Ayr...|                    null|    false|                 null|\n",
      "|940964863924465664|Harvard at 16 #my...|                    null|    false|                 null|\n",
      "|940964933159841793|16, African Ameri...|                    null|    false|                 null|\n",
      "|940965006224625666|@em_ily_34 Welcom...|                    null|    false|                 null|\n",
      "|940965006681804800|UChicago graduate...|                    null|    false|                 null|\n",
      "|940965368767696896|Happy to see a ch...|    Happy to see a ch...|    false|                 null|\n",
      "|940965412031918080|@UMich Why hasn't...|                    null|    false|                 null|\n",
      "|940965646824804353|16 going to Harva...|                    null|    false|                 null|\n",
      "|940965835094536192|Harvard astronomy...|    Harvard astronomy...|    false|                 null|\n",
      "|940966023095824384|Maryland Court of...|    Maryland Court of...|    false|                 null|\n",
      "+------------------+--------------------+------------------------+---------+---------------------+\n",
      "only showing top 20 rows\n",
      "\n"
     ]
    }
   ],
   "source": [
    "tweeter_data.filter(\"retweeted_status_text is null or ltrim(rtrim(retweeted_status_text)) == ''\")\\\n",
    ".select([\"id\", \"text\", \"extended_tweet_full_text\", \"retweeted\", \"retweeted_status_text\"]).show()"
   ]
  },
  {
   "cell_type": "code",
   "execution_count": null,
   "metadata": {
    "collapsed": true
   },
   "outputs": [],
   "source": []
  }
 ],
 "metadata": {
  "kernelspec": {
   "display_name": "Python 3",
   "language": "python",
   "name": "python3"
  },
  "language_info": {
   "codemirror_mode": {
    "name": "ipython",
    "version": 3
   },
   "file_extension": ".py",
   "mimetype": "text/x-python",
   "name": "python",
   "nbconvert_exporter": "python",
   "pygments_lexer": "ipython3",
   "version": "3.6.3"
  }
 },
 "nbformat": 4,
 "nbformat_minor": 2
}
