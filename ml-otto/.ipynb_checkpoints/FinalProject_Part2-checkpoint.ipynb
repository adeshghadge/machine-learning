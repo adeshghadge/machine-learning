{
 "cells": [
  {
   "cell_type": "code",
   "execution_count": 5,
   "metadata": {},
   "outputs": [],
   "source": [
    "%matplotlib inline\n",
    "import numpy as np\n",
    "import pandas as pd\n",
    "import string\n",
    "from numpy.random import normal,random,seed\n",
    "from scipy.stats import norm\n",
    "import matplotlib.pyplot as plt\n",
    "plt.style.use('ggplot')\n",
    "from sklearn.ensemble import RandomForestRegressor,RandomForestClassifier\n",
    "from sklearn.preprocessing import LabelEncoder\n",
    "from sklearn.model_selection import GridSearchCV,cross_val_score,train_test_split\n",
    "from sklearn.metrics import log_loss\n",
    "import xgboost as xgb\n",
    "from xgboost.sklearn import XGBClassifier, XGBRegressor\n",
    "#import lightgbm as lgb"
   ]
  },
  {
   "cell_type": "code",
   "execution_count": 7,
   "metadata": {},
   "outputs": [],
   "source": [
    "Data = pd.read_csv(\"supervized_classification_data/train_sample.csv\")\n",
    "DataTest = pd.read_csv(\"supervized_classification_data/test_sample.csv\")"
   ]
  },
  {
   "cell_type": "code",
   "execution_count": 8,
   "metadata": {},
   "outputs": [],
   "source": [
    "X = Data.drop(['target'],axis=1)\n",
    "y = LabelEncoder().fit_transform(Data.target)\n",
    "xTrain, xTest, yTrain, yTest = train_test_split(X, y,test_size=1/3, random_state=0)"
   ]
  },
  {
   "cell_type": "markdown",
   "metadata": {},
   "source": [
    "# Log Transformation"
   ]
  },
  {
   "cell_type": "markdown",
   "metadata": {},
   "source": [
    "## Random Forest"
   ]
  },
  {
   "cell_type": "code",
   "execution_count": 10,
   "metadata": {},
   "outputs": [],
   "source": [
    "# log transform to decrease large values affect\n",
    "xCompleteLog = np.log(1+X.values)\n",
    "\n",
    "xLog = np.log(1+xTrain.values)\n",
    "xTestLog = np.log(1+xTest.values)"
   ]
  },
  {
   "cell_type": "code",
   "execution_count": 12,
   "metadata": {},
   "outputs": [],
   "source": [
    "rfLogOtto = RandomForestClassifier(n_estimators=650,random_state=0,n_jobs=-1)\n",
    "rfLogOtto.fit(xLog,yTrain)\n",
    "rfLogPred = rfLogOtto.predict_proba(xTestLog,)"
   ]
  },
  {
   "cell_type": "code",
   "execution_count": 1091,
   "metadata": {},
   "outputs": [
    {
     "data": {
      "text/plain": [
       "0.6432154729945965"
      ]
     },
     "execution_count": 1091,
     "metadata": {},
     "output_type": "execute_result"
    }
   ],
   "source": [
    "log_loss(yTest,rfLogPred)"
   ]
  },
  {
   "cell_type": "code",
   "execution_count": 13,
   "metadata": {},
   "outputs": [
    {
     "name": "stdout",
     "output_type": "stream",
     "text": [
      "loss WITH calibration :  0.532036346569781\n"
     ]
    }
   ],
   "source": [
    "from sklearn.calibration import CalibratedClassifierCV\n",
    "\n",
    "rfLogCalibOtto = RandomForestClassifier(n_estimators=100,random_state=0,n_jobs=-1)\n",
    "\n",
    "#clf = RandomForestClassifier(n_estimators=50, n_jobs=-1)\n",
    "calibrated_clf = CalibratedClassifierCV(rfLogCalibOtto, method='isotonic', cv=5)\n",
    "calibrated_clf.fit(xLog, yTrain)\n",
    "rfCalibPred = calibrated_clf.predict_proba(xTestLog)\n",
    "\n",
    "print(\"loss WITH calibration : \", log_loss(yTest, rfCalibPred, eps=1e-15, normalize=True))"
   ]
  },
  {
   "cell_type": "markdown",
   "metadata": {},
   "source": [
    "## XG Boost"
   ]
  },
  {
   "cell_type": "code",
   "execution_count": 16,
   "metadata": {},
   "outputs": [],
   "source": [
    "dlogtrain = xgb.DMatrix(xLog, yTrain)\n",
    "\n",
    "dlogComplete = xgb.DMatrix(xCompleteLog, y)"
   ]
  },
  {
   "cell_type": "code",
   "execution_count": 29,
   "metadata": {},
   "outputs": [
    {
     "name": "stdout",
     "output_type": "stream",
     "text": [
      "[0]\ttrain-mlogloss:1.57116\ttest-mlogloss:1.58992\n",
      "[1]\ttrain-mlogloss:1.32329\ttest-mlogloss:1.35171\n",
      "[2]\ttrain-mlogloss:1.15852\ttest-mlogloss:1.19618\n",
      "[3]\ttrain-mlogloss:1.03921\ttest-mlogloss:1.0852\n",
      "[4]\ttrain-mlogloss:0.948825\ttest-mlogloss:1.0008\n",
      "[5]\ttrain-mlogloss:0.876912\ttest-mlogloss:0.934961\n",
      "[6]\ttrain-mlogloss:0.819202\ttest-mlogloss:0.884007\n",
      "[7]\ttrain-mlogloss:0.772306\ttest-mlogloss:0.842362\n",
      "[8]\ttrain-mlogloss:0.733624\ttest-mlogloss:0.809581\n",
      "[9]\ttrain-mlogloss:0.701221\ttest-mlogloss:0.781872\n",
      "[10]\ttrain-mlogloss:0.672855\ttest-mlogloss:0.758584\n",
      "[11]\ttrain-mlogloss:0.649622\ttest-mlogloss:0.739713\n",
      "[12]\ttrain-mlogloss:0.628527\ttest-mlogloss:0.723115\n",
      "[13]\ttrain-mlogloss:0.610656\ttest-mlogloss:0.70908\n",
      "[14]\ttrain-mlogloss:0.594064\ttest-mlogloss:0.696252\n",
      "[15]\ttrain-mlogloss:0.578326\ttest-mlogloss:0.684808\n",
      "[16]\ttrain-mlogloss:0.565351\ttest-mlogloss:0.675668\n",
      "[17]\ttrain-mlogloss:0.552825\ttest-mlogloss:0.666745\n",
      "[18]\ttrain-mlogloss:0.541269\ttest-mlogloss:0.658669\n",
      "[19]\ttrain-mlogloss:0.531634\ttest-mlogloss:0.652174\n"
     ]
    }
   ],
   "source": [
    "bst_log_cv = xgb.cv(param, dlogtrain, nfold = cv_nfold, num_boost_round=cv_nround,\n",
    "               verbose_eval=1, show_stdv=False)"
   ]
  },
  {
   "cell_type": "code",
   "execution_count": 30,
   "metadata": {},
   "outputs": [],
   "source": [
    "bst_log = xgb.train(param, dlogtrain,num_boost_round=cv_nround)\n",
    "xgbLogPred = bst_log.predict(xgb.DMatrix(xTestLog))"
   ]
  },
  {
   "cell_type": "code",
   "execution_count": 31,
   "metadata": {},
   "outputs": [
    {
     "data": {
      "text/plain": [
       "0.636640648811512"
      ]
     },
     "execution_count": 31,
     "metadata": {},
     "output_type": "execute_result"
    }
   ],
   "source": [
    "log_loss(yTest,xgbLogPred)"
   ]
  },
  {
   "cell_type": "code",
   "execution_count": 32,
   "metadata": {},
   "outputs": [
    {
     "name": "stdout",
     "output_type": "stream",
     "text": [
      "Fitting 3 folds for each of 21 candidates, totalling 63 fits\n",
      "[CV] max_depth=3, n_estimators=20 ....................................\n",
      "[CV] max_depth=3, n_estimators=20 ....................................\n",
      "[CV] max_depth=3, n_estimators=20 ....................................\n",
      "[CV] max_depth=3, n_estimators=25 ....................................\n",
      "[CV] max_depth=3, n_estimators=25 ....................................\n",
      "[CV] max_depth=3, n_estimators=25 ....................................\n",
      "[CV] max_depth=3, n_estimators=30 ....................................\n",
      "[CV] max_depth=3, n_estimators=30 ....................................\n",
      "[CV] ..................... max_depth=3, n_estimators=20, total=   8.2s\n",
      "[CV] max_depth=3, n_estimators=30 ....................................\n",
      "[CV] ..................... max_depth=3, n_estimators=20, total=   8.2s\n",
      "[CV] max_depth=3, n_estimators=35 ....................................\n",
      "[CV] ..................... max_depth=3, n_estimators=20, total=   8.2s\n",
      "[CV] max_depth=3, n_estimators=35 ....................................\n",
      "[CV] ..................... max_depth=3, n_estimators=25, total=  11.0s\n",
      "[CV] max_depth=3, n_estimators=35 ....................................\n",
      "[CV] ..................... max_depth=3, n_estimators=25, total=  11.0s\n",
      "[CV] max_depth=3, n_estimators=40 ....................................\n",
      "[CV] ..................... max_depth=3, n_estimators=25, total=  11.0s\n",
      "[CV] max_depth=3, n_estimators=40 ....................................\n",
      "[CV] ..................... max_depth=3, n_estimators=30, total=  13.3s\n",
      "[CV] max_depth=3, n_estimators=40 ....................................\n",
      "[CV] ..................... max_depth=3, n_estimators=30, total=  13.3s\n",
      "[CV] max_depth=3, n_estimators=45 ....................................\n",
      "[CV] ..................... max_depth=3, n_estimators=30, total=  14.9s\n",
      "[CV] max_depth=3, n_estimators=45 ....................................\n",
      "[CV] ..................... max_depth=3, n_estimators=35, total=  17.3s\n",
      "[CV] max_depth=3, n_estimators=45 ....................................\n",
      "[CV] ..................... max_depth=3, n_estimators=35, total=  17.3s\n",
      "[CV] max_depth=3, n_estimators=50 ....................................\n",
      "[CV] ..................... max_depth=3, n_estimators=35, total=  16.7s\n",
      "[CV] max_depth=3, n_estimators=50 ....................................\n",
      "[CV] ..................... max_depth=3, n_estimators=40, total=  18.6s\n",
      "[CV] ..................... max_depth=3, n_estimators=40, total=  18.6s\n",
      "[CV] max_depth=3, n_estimators=50 ....................................\n",
      "[CV] max_depth=4, n_estimators=20 ....................................\n",
      "[CV] ..................... max_depth=3, n_estimators=40, total=  19.2s\n",
      "[CV] max_depth=4, n_estimators=20 ....................................\n",
      "[CV] ..................... max_depth=3, n_estimators=45, total=  21.5s\n",
      "[CV] max_depth=4, n_estimators=20 ....................................\n",
      "[CV] ..................... max_depth=4, n_estimators=20, total=  12.4s\n",
      "[CV] max_depth=4, n_estimators=25 ....................................\n",
      "[CV] ..................... max_depth=3, n_estimators=45, total=  20.5s\n",
      "[CV] max_depth=4, n_estimators=25 ....................................\n",
      "[CV] ..................... max_depth=4, n_estimators=20, total=  11.7s\n",
      "[CV] max_depth=4, n_estimators=25 ....................................\n",
      "[CV] ..................... max_depth=3, n_estimators=45, total=  20.8s\n",
      "[CV] max_depth=4, n_estimators=30 ....................................\n",
      "[CV] ..................... max_depth=4, n_estimators=20, total=  12.1s\n",
      "[CV] max_depth=4, n_estimators=30 ....................................\n",
      "[CV] ..................... max_depth=3, n_estimators=50, total=  22.9s\n",
      "[CV] max_depth=4, n_estimators=30 ....................................\n",
      "[CV] ..................... max_depth=3, n_estimators=50, total=  22.9s\n",
      "[CV] max_depth=4, n_estimators=35 ....................................\n",
      "[CV] ..................... max_depth=3, n_estimators=50, total=  22.8s\n",
      "[CV] max_depth=4, n_estimators=35 ....................................\n",
      "[CV] ..................... max_depth=4, n_estimators=25, total=  14.3s\n",
      "[CV] max_depth=4, n_estimators=35 ....................................\n"
     ]
    },
    {
     "name": "stderr",
     "output_type": "stream",
     "text": [
      "[Parallel(n_jobs=-1)]: Done  25 tasks      | elapsed:   57.8s\n"
     ]
    },
    {
     "name": "stdout",
     "output_type": "stream",
     "text": [
      "[CV] ..................... max_depth=4, n_estimators=25, total=  13.9s\n",
      "[CV] max_depth=4, n_estimators=40 ....................................\n",
      "[CV] ..................... max_depth=4, n_estimators=25, total=  13.7s\n",
      "[CV] max_depth=4, n_estimators=40 ....................................\n",
      "[CV] ..................... max_depth=4, n_estimators=30, total=  16.0s\n",
      "[CV] max_depth=4, n_estimators=40 ....................................\n",
      "[CV] ..................... max_depth=4, n_estimators=30, total=  15.9s\n",
      "[CV] max_depth=4, n_estimators=45 ....................................\n",
      "[CV] ..................... max_depth=4, n_estimators=30, total=  15.7s\n",
      "[CV] max_depth=4, n_estimators=45 ....................................\n",
      "[CV] ..................... max_depth=4, n_estimators=35, total=  18.3s\n",
      "[CV] max_depth=4, n_estimators=45 ....................................\n",
      "[CV] ..................... max_depth=4, n_estimators=35, total=  18.1s\n",
      "[CV] max_depth=4, n_estimators=50 ....................................\n",
      "[CV] ..................... max_depth=4, n_estimators=35, total=  18.0s\n",
      "[CV] max_depth=4, n_estimators=50 ....................................\n",
      "[CV] ..................... max_depth=4, n_estimators=40, total=  20.6s\n",
      "[CV] max_depth=4, n_estimators=50 ....................................\n",
      "[CV] ..................... max_depth=4, n_estimators=40, total=  20.6s\n",
      "[CV] max_depth=5, n_estimators=20 ....................................\n",
      "[CV] ..................... max_depth=4, n_estimators=40, total=  20.8s\n",
      "[CV] max_depth=5, n_estimators=20 ....................................\n",
      "[CV] ..................... max_depth=4, n_estimators=45, total=  23.5s\n",
      "[CV] max_depth=5, n_estimators=20 ....................................\n",
      "[CV] ..................... max_depth=4, n_estimators=45, total=  23.6s\n",
      "[CV] max_depth=5, n_estimators=25 ....................................\n",
      "[CV] ..................... max_depth=5, n_estimators=20, total=  13.3s\n",
      "[CV] max_depth=5, n_estimators=25 ....................................\n",
      "[CV] ..................... max_depth=4, n_estimators=45, total=  23.5s\n",
      "[CV] max_depth=5, n_estimators=25 ....................................\n",
      "[CV] ..................... max_depth=5, n_estimators=20, total=  13.1s\n",
      "[CV] max_depth=5, n_estimators=30 ....................................\n",
      "[CV] ..................... max_depth=4, n_estimators=50, total=  26.2s\n",
      "[CV] max_depth=5, n_estimators=30 ....................................\n",
      "[CV] ..................... max_depth=5, n_estimators=20, total=  12.9s\n",
      "[CV] max_depth=5, n_estimators=30 ....................................\n",
      "[CV] ..................... max_depth=4, n_estimators=50, total=  26.2s\n",
      "[CV] max_depth=5, n_estimators=35 ....................................\n",
      "[CV] ..................... max_depth=5, n_estimators=25, total=  16.2s\n",
      "[CV] max_depth=5, n_estimators=35 ....................................\n",
      "[CV] ..................... max_depth=4, n_estimators=50, total=  26.2s\n",
      "[CV] max_depth=5, n_estimators=35 ....................................\n",
      "[CV] ..................... max_depth=5, n_estimators=25, total=  16.3s\n",
      "[CV] max_depth=5, n_estimators=40 ....................................\n",
      "[CV] ..................... max_depth=5, n_estimators=25, total=  16.2s\n",
      "[CV] max_depth=5, n_estimators=40 ....................................\n",
      "[CV] ..................... max_depth=5, n_estimators=30, total=  19.6s\n",
      "[CV] max_depth=5, n_estimators=40 ....................................\n",
      "[CV] ..................... max_depth=5, n_estimators=30, total=  20.0s\n",
      "[CV] max_depth=5, n_estimators=45 ....................................\n",
      "[CV] ..................... max_depth=5, n_estimators=30, total=  20.5s\n",
      "[CV] max_depth=5, n_estimators=45 ....................................\n",
      "[CV] ..................... max_depth=5, n_estimators=35, total=  23.6s\n",
      "[CV] max_depth=5, n_estimators=45 ....................................\n",
      "[CV] ..................... max_depth=5, n_estimators=35, total=  23.6s\n",
      "[CV] max_depth=5, n_estimators=50 ....................................\n",
      "[CV] ..................... max_depth=5, n_estimators=35, total=  23.6s\n",
      "[CV] max_depth=5, n_estimators=50 ....................................\n",
      "[CV] ..................... max_depth=5, n_estimators=40, total=  26.6s\n",
      "[CV] max_depth=5, n_estimators=50 ....................................\n",
      "[CV] ..................... max_depth=5, n_estimators=40, total=  26.8s\n",
      "[CV] ..................... max_depth=5, n_estimators=40, total=  25.5s\n",
      "[CV] ..................... max_depth=5, n_estimators=45, total=  27.7s\n",
      "[CV] ..................... max_depth=5, n_estimators=45, total=  26.5s\n",
      "[CV] ..................... max_depth=5, n_estimators=45, total=  24.6s\n",
      "[CV] ..................... max_depth=5, n_estimators=50, total=  24.9s\n",
      "[CV] ..................... max_depth=5, n_estimators=50, total=  24.8s\n",
      "[CV] ..................... max_depth=5, n_estimators=50, total=  21.4s\n"
     ]
    },
    {
     "name": "stderr",
     "output_type": "stream",
     "text": [
      "[Parallel(n_jobs=-1)]: Done  63 out of  63 | elapsed:  2.7min finished\n"
     ]
    },
    {
     "name": "stdout",
     "output_type": "stream",
     "text": [
      "1.043544 with:  {'max_depth': 3, 'n_estimators': 20}\n",
      "0.966521 with:  {'max_depth': 3, 'n_estimators': 25}\n",
      "0.909917 with:  {'max_depth': 3, 'n_estimators': 30}\n",
      "0.866601 with:  {'max_depth': 3, 'n_estimators': 35}\n",
      "0.832715 with:  {'max_depth': 3, 'n_estimators': 40}\n",
      "0.805261 with:  {'max_depth': 3, 'n_estimators': 45}\n",
      "0.783000 with:  {'max_depth': 3, 'n_estimators': 50}\n",
      "0.975700 with:  {'max_depth': 4, 'n_estimators': 20}\n",
      "0.899098 with:  {'max_depth': 4, 'n_estimators': 25}\n",
      "0.843221 with:  {'max_depth': 4, 'n_estimators': 30}\n",
      "0.801641 with:  {'max_depth': 4, 'n_estimators': 35}\n",
      "0.769271 with:  {'max_depth': 4, 'n_estimators': 40}\n",
      "0.744011 with:  {'max_depth': 4, 'n_estimators': 45}\n",
      "0.723926 with:  {'max_depth': 4, 'n_estimators': 50}\n",
      "0.928620 with:  {'max_depth': 5, 'n_estimators': 20}\n",
      "0.851613 with:  {'max_depth': 5, 'n_estimators': 25}\n",
      "0.797145 with:  {'max_depth': 5, 'n_estimators': 30}\n",
      "0.757135 with:  {'max_depth': 5, 'n_estimators': 35}\n",
      "0.727264 with:  {'max_depth': 5, 'n_estimators': 40}\n",
      "0.703591 with:  {'max_depth': 5, 'n_estimators': 45}\n",
      "0.684489 with:  {'max_depth': 5, 'n_estimators': 50}\n",
      "Best logloss after tunning: 0.684489 using {'max_depth': 5, 'n_estimators': 50}\n"
     ]
    }
   ],
   "source": [
    "# xgboost task parameters\n",
    "folds = 3\n",
    "\n",
    "# Parameters grid to search\n",
    "param_grid = {\n",
    "    'max_depth':[3,4,5],\n",
    "    'n_estimators':np.arange(20,55,5)\n",
    "}\n",
    "\n",
    "\n",
    "gridLog = GridSearchCV(estimator = XGBClassifier(objective='multi:softprob',seed=0),\n",
    "                    scoring = 'neg_log_loss',param_grid = param_grid,\n",
    "                    cv=folds,iid=False,verbose=2,n_jobs=-1)\n",
    "gridLog.fit(xLog, yTrain)\n",
    "\n",
    "# summarize results\n",
    "for mean,param in zip(gridLog.cv_results_['mean_test_score'],gridLog.cv_results_['params']):\n",
    "    print(\"%f with: \" % -mean,param)\n",
    "\n",
    "# Show best logloss and parameters\n",
    "print(\"Best logloss after tunning: %f using %s\" % (-gridLog.best_score_,\n",
    "                                               gridLog.best_params_))\n",
    "param = {\"objective\" : \"multi:softprob\",\"eval_metric\" : \"mlogloss\",\n",
    "         \"num_class\" : max(y) + 1, 'max_depth':gridLog.best_params_['max_depth']}\n",
    "bst_log = xgb.train(param, dlogtrain,num_boost_round=gridLog.best_params_['n_estimators'])\n"
   ]
  },
  {
   "cell_type": "code",
   "execution_count": 82,
   "metadata": {},
   "outputs": [
    {
     "name": "stdout",
     "output_type": "stream",
     "text": [
      "Fitting 10 folds for each of 16 candidates, totalling 160 fits\n",
      "[CV] max_depth=5, n_estimators=50 ....................................\n",
      "[CV] max_depth=5, n_estimators=50 ....................................\n",
      "[CV] max_depth=5, n_estimators=50 ....................................\n",
      "[CV] max_depth=5, n_estimators=50 ....................................\n",
      "[CV] max_depth=5, n_estimators=50 ....................................\n",
      "[CV] max_depth=5, n_estimators=50 ....................................\n",
      "[CV] max_depth=5, n_estimators=50 ....................................\n",
      "[CV] max_depth=5, n_estimators=50 ....................................\n",
      "[CV] ..................... max_depth=5, n_estimators=50, total=  42.5s\n",
      "[CV] max_depth=5, n_estimators=50 ....................................\n",
      "[CV] ..................... max_depth=5, n_estimators=50, total=  42.6s\n",
      "[CV] max_depth=5, n_estimators=50 ....................................\n",
      "[CV] ..................... max_depth=5, n_estimators=50, total=  42.6s\n",
      "[CV] ..................... max_depth=5, n_estimators=50, total=  42.5s\n",
      "[CV] max_depth=5, n_estimators=100 ...................................\n",
      "[CV] ..................... max_depth=5, n_estimators=50, total=  42.7s\n",
      "[CV] max_depth=5, n_estimators=100 ...................................\n",
      "[CV] ..................... max_depth=5, n_estimators=50, total=  42.6s\n",
      "[CV] max_depth=5, n_estimators=100 ...................................\n",
      "[CV] max_depth=5, n_estimators=100 ...................................\n",
      "[CV] ..................... max_depth=5, n_estimators=50, total=  42.5s\n",
      "[CV] ..................... max_depth=5, n_estimators=50, total=  42.6s\n",
      "[CV] max_depth=5, n_estimators=100 ...................................\n",
      "[CV] max_depth=5, n_estimators=100 ...................................\n",
      "[CV] ..................... max_depth=5, n_estimators=50, total=  43.0s\n",
      "[CV] max_depth=5, n_estimators=100 ...................................\n",
      "[CV] ..................... max_depth=5, n_estimators=50, total=  42.9s\n",
      "[CV] max_depth=5, n_estimators=100 ...................................\n",
      "[CV] .................... max_depth=5, n_estimators=100, total= 1.4min\n",
      "[CV] max_depth=5, n_estimators=100 ...................................\n",
      "[CV] .................... max_depth=5, n_estimators=100, total= 1.4min\n",
      "[CV] .................... max_depth=5, n_estimators=100, total= 1.4min\n",
      "[CV] .................... max_depth=5, n_estimators=100, total= 1.4min\n",
      "[CV] max_depth=5, n_estimators=100 ...................................\n",
      "[CV] max_depth=5, n_estimators=150 ...................................\n",
      "[CV] max_depth=5, n_estimators=150 ...................................\n",
      "[CV] .................... max_depth=5, n_estimators=100, total= 1.4min\n",
      "[CV] .................... max_depth=5, n_estimators=100, total= 1.4min\n",
      "[CV] max_depth=5, n_estimators=150 ...................................\n",
      "[CV] max_depth=5, n_estimators=150 ...................................\n",
      "[CV] .................... max_depth=5, n_estimators=100, total= 1.5min\n",
      "[CV] .................... max_depth=5, n_estimators=100, total= 1.5min\n",
      "[CV] max_depth=5, n_estimators=150 ...................................\n",
      "[CV] max_depth=5, n_estimators=150 ...................................\n",
      "[CV] .................... max_depth=5, n_estimators=100, total= 1.4min\n",
      "[CV] max_depth=5, n_estimators=150 ...................................\n",
      "[CV] .................... max_depth=5, n_estimators=100, total= 1.4min\n",
      "[CV] max_depth=5, n_estimators=150 ...................................\n",
      "[CV] .................... max_depth=5, n_estimators=150, total= 9.1min\n",
      "[CV] max_depth=5, n_estimators=150 ...................................\n",
      "[CV] .................... max_depth=5, n_estimators=150, total= 9.1min\n",
      "[CV] .................... max_depth=5, n_estimators=150, total= 9.1min\n",
      "[CV] max_depth=5, n_estimators=150 ...................................\n",
      "[CV] max_depth=5, n_estimators=200 ...................................\n",
      "[CV] .................... max_depth=5, n_estimators=150, total= 9.1min\n",
      "[CV] max_depth=5, n_estimators=200 ...................................\n",
      "[CV] .................... max_depth=5, n_estimators=150, total= 9.2min\n",
      "[CV] .................... max_depth=5, n_estimators=150, total= 9.2min\n",
      "[CV] max_depth=5, n_estimators=200 ...................................\n",
      "[CV] max_depth=5, n_estimators=200 ...................................\n"
     ]
    },
    {
     "name": "stderr",
     "output_type": "stream",
     "text": [
      "[Parallel(n_jobs=-1)]: Done  25 tasks      | elapsed: 12.1min\n"
     ]
    },
    {
     "name": "stdout",
     "output_type": "stream",
     "text": [
      "[CV] .................... max_depth=5, n_estimators=150, total= 9.2min\n",
      "[CV] max_depth=5, n_estimators=200 ...................................\n",
      "[CV] .................... max_depth=5, n_estimators=150, total= 9.2min\n",
      "[CV] max_depth=5, n_estimators=200 ...................................\n",
      "[CV] .................... max_depth=5, n_estimators=150, total= 2.2min\n",
      "[CV] max_depth=5, n_estimators=200 ...................................\n",
      "[CV] .................... max_depth=5, n_estimators=150, total= 2.2min\n",
      "[CV] max_depth=5, n_estimators=200 ...................................\n",
      "[CV] .................... max_depth=5, n_estimators=200, total= 3.0min\n",
      "[CV] max_depth=5, n_estimators=200 ...................................\n",
      "[CV] .................... max_depth=5, n_estimators=200, total= 3.0min\n",
      "[CV] max_depth=5, n_estimators=200 ...................................\n",
      "[CV] .................... max_depth=5, n_estimators=200, total= 3.0min\n",
      "[CV] max_depth=6, n_estimators=50 ....................................\n",
      "[CV] .................... max_depth=5, n_estimators=200, total= 3.0min\n",
      "[CV] max_depth=6, n_estimators=50 ....................................\n",
      "[CV] .................... max_depth=5, n_estimators=200, total= 3.0min\n",
      "[CV] max_depth=6, n_estimators=50 ....................................\n",
      "[CV] .................... max_depth=5, n_estimators=200, total= 3.0min\n",
      "[CV] max_depth=6, n_estimators=50 ....................................\n",
      "[CV] ..................... max_depth=6, n_estimators=50, total=  52.9s\n",
      "[CV] max_depth=6, n_estimators=50 ....................................\n",
      "[CV] ..................... max_depth=6, n_estimators=50, total=  52.9s\n",
      "[CV] max_depth=6, n_estimators=50 ....................................\n",
      "[CV] .................... max_depth=5, n_estimators=200, total= 2.9min\n",
      "[CV] max_depth=6, n_estimators=50 ....................................\n",
      "[CV] .................... max_depth=5, n_estimators=200, total= 2.9min\n",
      "[CV] max_depth=6, n_estimators=50 ....................................\n",
      "[CV] ..................... max_depth=6, n_estimators=50, total=  53.8s\n",
      "[CV] max_depth=6, n_estimators=50 ....................................\n",
      "[CV] ..................... max_depth=6, n_estimators=50, total=  53.7s\n",
      "[CV] max_depth=6, n_estimators=50 ....................................\n",
      "[CV] ..................... max_depth=6, n_estimators=50, total=  54.8s\n",
      "[CV] max_depth=6, n_estimators=100 ...................................\n",
      "[CV] ..................... max_depth=6, n_estimators=50, total=  54.9s\n",
      "[CV] max_depth=6, n_estimators=100 ...................................\n",
      "[CV] .................... max_depth=5, n_estimators=200, total= 3.0min\n",
      "[CV] max_depth=6, n_estimators=100 ...................................\n",
      "[CV] .................... max_depth=5, n_estimators=200, total= 3.0min\n",
      "[CV] max_depth=6, n_estimators=100 ...................................\n",
      "[CV] ..................... max_depth=6, n_estimators=50, total=  54.7s\n",
      "[CV] max_depth=6, n_estimators=100 ...................................\n",
      "[CV] ..................... max_depth=6, n_estimators=50, total=  54.8s\n",
      "[CV] max_depth=6, n_estimators=100 ...................................\n",
      "[CV] ..................... max_depth=6, n_estimators=50, total=  54.8s\n",
      "[CV] max_depth=6, n_estimators=100 ...................................\n",
      "[CV] ..................... max_depth=6, n_estimators=50, total=  54.8s\n",
      "[CV] max_depth=6, n_estimators=100 ...................................\n",
      "[CV] .................... max_depth=6, n_estimators=100, total= 1.8min\n",
      "[CV] max_depth=6, n_estimators=100 ...................................\n",
      "[CV] .................... max_depth=6, n_estimators=100, total= 1.8min\n",
      "[CV] max_depth=6, n_estimators=100 ...................................\n",
      "[CV] .................... max_depth=6, n_estimators=100, total= 1.8min\n",
      "[CV] max_depth=6, n_estimators=150 ...................................\n",
      "[CV] .................... max_depth=6, n_estimators=100, total= 1.8min\n",
      "[CV] max_depth=6, n_estimators=150 ...................................\n",
      "[CV] .................... max_depth=6, n_estimators=100, total= 1.8min\n",
      "[CV] max_depth=6, n_estimators=150 ...................................\n",
      "[CV] .................... max_depth=6, n_estimators=100, total= 1.8min\n",
      "[CV] max_depth=6, n_estimators=150 ...................................\n",
      "[CV] .................... max_depth=6, n_estimators=100, total= 1.8min\n",
      "[CV] max_depth=6, n_estimators=150 ...................................\n",
      "[CV] .................... max_depth=6, n_estimators=100, total= 1.8min\n",
      "[CV] max_depth=6, n_estimators=150 ...................................\n",
      "[CV] .................... max_depth=6, n_estimators=100, total= 1.8min\n",
      "[CV] max_depth=6, n_estimators=150 ...................................\n",
      "[CV] .................... max_depth=6, n_estimators=100, total= 1.8min\n",
      "[CV] max_depth=6, n_estimators=150 ...................................\n",
      "[CV] .................... max_depth=6, n_estimators=150, total= 2.7min\n",
      "[CV] max_depth=6, n_estimators=150 ...................................\n",
      "[CV] .................... max_depth=6, n_estimators=150, total= 2.7min\n",
      "[CV] max_depth=6, n_estimators=150 ...................................\n",
      "[CV] .................... max_depth=6, n_estimators=150, total= 2.7min\n",
      "[CV] max_depth=6, n_estimators=200 ...................................\n",
      "[CV] .................... max_depth=6, n_estimators=150, total= 2.7min\n",
      "[CV] max_depth=6, n_estimators=200 ...................................\n",
      "[CV] .................... max_depth=6, n_estimators=150, total= 2.7min\n",
      "[CV] max_depth=6, n_estimators=200 ...................................\n",
      "[CV] .................... max_depth=6, n_estimators=150, total= 2.7min\n",
      "[CV] max_depth=6, n_estimators=200 ...................................\n",
      "[CV] .................... max_depth=6, n_estimators=150, total= 2.7min\n",
      "[CV] max_depth=6, n_estimators=200 ...................................\n",
      "[CV] .................... max_depth=6, n_estimators=150, total= 2.7min\n",
      "[CV] max_depth=6, n_estimators=200 ...................................\n",
      "[CV] .................... max_depth=6, n_estimators=150, total= 2.7min\n",
      "[CV] max_depth=6, n_estimators=200 ...................................\n",
      "[CV] .................... max_depth=6, n_estimators=150, total= 2.7min\n",
      "[CV] max_depth=6, n_estimators=200 ...................................\n",
      "[CV] .................... max_depth=6, n_estimators=200, total= 3.6min\n",
      "[CV] max_depth=6, n_estimators=200 ...................................\n",
      "[CV] .................... max_depth=6, n_estimators=200, total= 3.7min\n",
      "[CV] max_depth=6, n_estimators=200 ...................................\n",
      "[CV] .................... max_depth=6, n_estimators=200, total= 3.6min\n",
      "[CV] max_depth=7, n_estimators=50 ....................................\n",
      "[CV] .................... max_depth=6, n_estimators=200, total= 3.7min\n",
      "[CV] max_depth=7, n_estimators=50 ....................................\n",
      "[CV] .................... max_depth=6, n_estimators=200, total= 3.9min\n",
      "[CV] max_depth=7, n_estimators=50 ....................................\n",
      "[CV] .................... max_depth=6, n_estimators=200, total= 3.9min\n",
      "[CV] max_depth=7, n_estimators=50 ....................................\n",
      "[CV] ..................... max_depth=7, n_estimators=50, total= 1.3min\n",
      "[CV] max_depth=7, n_estimators=50 ....................................\n",
      "[CV] ..................... max_depth=7, n_estimators=50, total= 1.3min\n",
      "[CV] max_depth=7, n_estimators=50 ....................................\n",
      "[CV] ..................... max_depth=7, n_estimators=50, total= 1.1min\n",
      "[CV] max_depth=7, n_estimators=50 ....................................\n",
      "[CV] ..................... max_depth=7, n_estimators=50, total= 1.1min\n",
      "[CV] max_depth=7, n_estimators=50 ....................................\n",
      "[CV] ..................... max_depth=7, n_estimators=50, total= 1.1min\n",
      "[CV] max_depth=7, n_estimators=50 ....................................\n",
      "[CV] ..................... max_depth=7, n_estimators=50, total= 1.1min\n",
      "[CV] max_depth=7, n_estimators=50 ....................................\n",
      "[CV] .................... max_depth=6, n_estimators=200, total= 3.9min\n",
      "[CV] max_depth=7, n_estimators=100 ...................................\n",
      "[CV] .................... max_depth=6, n_estimators=200, total= 3.8min\n",
      "[CV] max_depth=7, n_estimators=100 ...................................\n",
      "[CV] ..................... max_depth=7, n_estimators=50, total= 1.1min\n",
      "[CV] max_depth=7, n_estimators=100 ...................................\n",
      "[CV] ..................... max_depth=7, n_estimators=50, total= 1.1min\n",
      "[CV] max_depth=7, n_estimators=100 ...................................\n",
      "[CV] ..................... max_depth=7, n_estimators=50, total= 1.1min\n",
      "[CV] max_depth=7, n_estimators=100 ...................................\n",
      "[CV] ..................... max_depth=7, n_estimators=50, total= 1.1min\n",
      "[CV] max_depth=7, n_estimators=100 ...................................\n",
      "[CV] .................... max_depth=6, n_estimators=200, total= 3.9min\n",
      "[CV] max_depth=7, n_estimators=100 ...................................\n",
      "[CV] .................... max_depth=6, n_estimators=200, total= 3.9min\n",
      "[CV] max_depth=7, n_estimators=100 ...................................\n",
      "[CV] .................... max_depth=7, n_estimators=100, total= 2.2min\n",
      "[CV] max_depth=7, n_estimators=100 ...................................\n",
      "[CV] .................... max_depth=7, n_estimators=100, total= 2.2min\n",
      "[CV] max_depth=7, n_estimators=100 ...................................\n",
      "[CV] .................... max_depth=7, n_estimators=100, total= 2.2min\n",
      "[CV] max_depth=7, n_estimators=150 ...................................\n",
      "[CV] .................... max_depth=7, n_estimators=100, total= 2.2min\n",
      "[CV] max_depth=7, n_estimators=150 ...................................\n",
      "[CV] .................... max_depth=7, n_estimators=100, total= 2.2min\n",
      "[CV] max_depth=7, n_estimators=150 ...................................\n",
      "[CV] .................... max_depth=7, n_estimators=100, total= 2.2min\n",
      "[CV] max_depth=7, n_estimators=150 ...................................\n",
      "[CV] .................... max_depth=7, n_estimators=100, total= 2.2min\n",
      "[CV] max_depth=7, n_estimators=150 ...................................\n",
      "[CV] .................... max_depth=7, n_estimators=100, total= 2.2min\n",
      "[CV] max_depth=7, n_estimators=150 ...................................\n",
      "[CV] .................... max_depth=7, n_estimators=100, total= 2.2min\n",
      "[CV] max_depth=7, n_estimators=150 ...................................\n",
      "[CV] .................... max_depth=7, n_estimators=100, total= 2.2min\n",
      "[CV] max_depth=7, n_estimators=150 ...................................\n",
      "[CV] .................... max_depth=7, n_estimators=150, total= 3.3min\n",
      "[CV] max_depth=7, n_estimators=150 ...................................\n",
      "[CV] .................... max_depth=7, n_estimators=150, total= 3.3min\n",
      "[CV] max_depth=7, n_estimators=150 ...................................\n",
      "[CV] .................... max_depth=7, n_estimators=150, total= 3.3min\n",
      "[CV] max_depth=7, n_estimators=200 ...................................\n",
      "[CV] .................... max_depth=7, n_estimators=150, total= 3.3min\n",
      "[CV] max_depth=7, n_estimators=200 ...................................\n",
      "[CV] .................... max_depth=7, n_estimators=150, total= 3.3min\n",
      "[CV] max_depth=7, n_estimators=200 ...................................\n",
      "[CV] .................... max_depth=7, n_estimators=150, total= 3.3min\n",
      "[CV] max_depth=7, n_estimators=200 ...................................\n",
      "[CV] .................... max_depth=7, n_estimators=150, total= 3.3min\n",
      "[CV] max_depth=7, n_estimators=200 ...................................\n",
      "[CV] .................... max_depth=7, n_estimators=150, total= 3.3min\n",
      "[CV] max_depth=7, n_estimators=200 ...................................\n",
      "[CV] .................... max_depth=7, n_estimators=150, total= 3.3min\n",
      "[CV] max_depth=7, n_estimators=200 ...................................\n",
      "[CV] .................... max_depth=7, n_estimators=150, total= 3.3min\n",
      "[CV] max_depth=7, n_estimators=200 ...................................\n",
      "[CV] .................... max_depth=7, n_estimators=200, total= 4.4min\n",
      "[CV] max_depth=7, n_estimators=200 ...................................\n",
      "[CV] .................... max_depth=7, n_estimators=200, total= 4.4min\n",
      "[CV] max_depth=7, n_estimators=200 ...................................\n",
      "[CV] .................... max_depth=7, n_estimators=200, total= 4.4min\n",
      "[CV] max_depth=8, n_estimators=50 ....................................\n",
      "[CV] .................... max_depth=7, n_estimators=200, total= 4.4min\n",
      "[CV] max_depth=8, n_estimators=50 ....................................\n",
      "[CV] .................... max_depth=7, n_estimators=200, total= 4.4min\n",
      "[CV] max_depth=8, n_estimators=50 ....................................\n",
      "[CV] .................... max_depth=7, n_estimators=200, total= 4.4min\n",
      "[CV] max_depth=8, n_estimators=50 ....................................\n",
      "[CV] ..................... max_depth=8, n_estimators=50, total= 1.3min\n",
      "[CV] max_depth=8, n_estimators=50 ....................................\n",
      "[CV] ..................... max_depth=8, n_estimators=50, total= 1.3min\n",
      "[CV] max_depth=8, n_estimators=50 ....................................\n",
      "[CV] ..................... max_depth=8, n_estimators=50, total= 1.3min\n",
      "[CV] max_depth=8, n_estimators=50 ....................................\n",
      "[CV] ..................... max_depth=8, n_estimators=50, total= 1.3min\n",
      "[CV] max_depth=8, n_estimators=50 ....................................\n",
      "[CV] ..................... max_depth=8, n_estimators=50, total= 1.3min\n",
      "[CV] max_depth=8, n_estimators=50 ....................................\n",
      "[CV] ..................... max_depth=8, n_estimators=50, total= 1.3min\n",
      "[CV] max_depth=8, n_estimators=50 ....................................\n",
      "[CV] .................... max_depth=7, n_estimators=200, total= 4.5min\n",
      "[CV] max_depth=8, n_estimators=100 ...................................\n",
      "[CV] .................... max_depth=7, n_estimators=200, total= 4.5min\n",
      "[CV] max_depth=8, n_estimators=100 ...................................\n",
      "[CV] ..................... max_depth=8, n_estimators=50, total= 1.3min\n",
      "[CV] max_depth=8, n_estimators=100 ...................................\n",
      "[CV] ..................... max_depth=8, n_estimators=50, total= 1.3min\n",
      "[CV] max_depth=8, n_estimators=100 ...................................\n",
      "[CV] ..................... max_depth=8, n_estimators=50, total= 1.3min\n",
      "[CV] max_depth=8, n_estimators=100 ...................................\n",
      "[CV] ..................... max_depth=8, n_estimators=50, total= 1.3min\n",
      "[CV] max_depth=8, n_estimators=100 ...................................\n",
      "[CV] .................... max_depth=7, n_estimators=200, total= 4.5min\n",
      "[CV] max_depth=8, n_estimators=100 ...................................\n",
      "[CV] .................... max_depth=7, n_estimators=200, total= 4.5min\n",
      "[CV] max_depth=8, n_estimators=100 ...................................\n",
      "[CV] .................... max_depth=8, n_estimators=100, total= 2.6min\n",
      "[CV] max_depth=8, n_estimators=100 ...................................\n",
      "[CV] .................... max_depth=8, n_estimators=100, total= 2.6min\n",
      "[CV] max_depth=8, n_estimators=100 ...................................\n",
      "[CV] .................... max_depth=8, n_estimators=100, total= 2.6min\n",
      "[CV] max_depth=8, n_estimators=150 ...................................\n",
      "[CV] .................... max_depth=8, n_estimators=100, total= 2.6min\n",
      "[CV] max_depth=8, n_estimators=150 ...................................\n",
      "[CV] .................... max_depth=8, n_estimators=100, total= 2.6min\n",
      "[CV] max_depth=8, n_estimators=150 ...................................\n",
      "[CV] .................... max_depth=8, n_estimators=100, total= 2.6min\n",
      "[CV] max_depth=8, n_estimators=150 ...................................\n",
      "[CV] .................... max_depth=8, n_estimators=100, total= 2.6min\n",
      "[CV] max_depth=8, n_estimators=150 ...................................\n",
      "[CV] .................... max_depth=8, n_estimators=100, total= 2.6min\n",
      "[CV] max_depth=8, n_estimators=150 ...................................\n",
      "[CV] .................... max_depth=8, n_estimators=100, total= 2.6min\n",
      "[CV] max_depth=8, n_estimators=150 ...................................\n",
      "[CV] .................... max_depth=8, n_estimators=100, total= 2.6min\n",
      "[CV] max_depth=8, n_estimators=150 ...................................\n",
      "[CV] .................... max_depth=8, n_estimators=150, total= 3.8min\n",
      "[CV] max_depth=8, n_estimators=150 ...................................\n",
      "[CV] .................... max_depth=8, n_estimators=150, total= 3.9min\n",
      "[CV] max_depth=8, n_estimators=150 ...................................\n",
      "[CV] .................... max_depth=8, n_estimators=150, total= 3.9min\n",
      "[CV] max_depth=8, n_estimators=200 ...................................\n",
      "[CV] .................... max_depth=8, n_estimators=150, total= 3.9min\n",
      "[CV] max_depth=8, n_estimators=200 ...................................\n",
      "[CV] .................... max_depth=8, n_estimators=150, total= 3.8min\n",
      "[CV] max_depth=8, n_estimators=200 ...................................\n",
      "[CV] .................... max_depth=8, n_estimators=150, total= 3.9min\n",
      "[CV] max_depth=8, n_estimators=200 ...................................\n",
      "[CV] .................... max_depth=8, n_estimators=150, total= 3.9min\n",
      "[CV] max_depth=8, n_estimators=200 ...................................\n",
      "[CV] .................... max_depth=8, n_estimators=150, total= 3.9min\n",
      "[CV] max_depth=8, n_estimators=200 ...................................\n",
      "[CV] .................... max_depth=8, n_estimators=150, total= 3.9min\n",
      "[CV] max_depth=8, n_estimators=200 ...................................\n",
      "[CV] .................... max_depth=8, n_estimators=150, total= 3.9min\n",
      "[CV] max_depth=8, n_estimators=200 ...................................\n",
      "[CV] .................... max_depth=8, n_estimators=200, total= 5.1min\n",
      "[CV] max_depth=8, n_estimators=200 ...................................\n",
      "[CV] .................... max_depth=8, n_estimators=200, total= 5.1min\n",
      "[CV] max_depth=8, n_estimators=200 ...................................\n",
      "[CV] .................... max_depth=8, n_estimators=200, total= 5.1min\n",
      "[CV] .................... max_depth=8, n_estimators=200, total= 5.1min\n",
      "[CV] .................... max_depth=8, n_estimators=200, total= 4.9min\n",
      "[CV] .................... max_depth=8, n_estimators=200, total= 4.9min\n",
      "[CV] .................... max_depth=8, n_estimators=200, total= 4.1min\n",
      "[CV] .................... max_depth=8, n_estimators=200, total= 4.1min\n",
      "[CV] .................... max_depth=8, n_estimators=200, total= 3.4min\n",
      "[CV] .................... max_depth=8, n_estimators=200, total= 3.4min\n"
     ]
    },
    {
     "name": "stderr",
     "output_type": "stream",
     "text": [
      "[Parallel(n_jobs=-1)]: Done 160 out of 160 | elapsed: 59.3min finished\n"
     ]
    }
   ],
   "source": [
    "from sklearn.model_selection import StratifiedKFold\n",
    "\n",
    "# encode string class values as integers\n",
    "label_encoded_y = LabelEncoder().fit_transform(yTrain)\n",
    "\n",
    "# xgboost task parameters\n",
    "folds = 5\n",
    "kfold = StratifiedKFold(n_splits=10, shuffle=True, random_state=7)\n",
    "\n",
    "# Parameters grid to search\n",
    "param_grid = {\n",
    "    'max_depth':[5,6,7,8],\n",
    "    'n_estimators':[50, 100, 150, 200]\n",
    "}\n",
    "\n",
    "\n",
    "gridLog = GridSearchCV(estimator = XGBClassifier(objective='multi:softprob',seed=0),\n",
    "                    scoring = 'neg_log_loss',param_grid = param_grid,\n",
    "                    cv=kfold,iid=False,verbose=2,n_jobs=-1)\n",
    "\n",
    "grid_result = gridLog.fit(xLog, label_encoded_y)"
   ]
  },
  {
   "cell_type": "code",
   "execution_count": 18,
   "metadata": {},
   "outputs": [],
   "source": [
    "# encode string class values as integers\n",
    "label_encoded_y = LabelEncoder().fit_transform(yTrain)"
   ]
  },
  {
   "cell_type": "code",
   "execution_count": 101,
   "metadata": {},
   "outputs": [
    {
     "name": "stdout",
     "output_type": "stream",
     "text": [
      "Best: -0.536467 using {'max_depth': 7, 'n_estimators': 200}\n",
      "-0.678526 (0.014545) with: {'max_depth': 5, 'n_estimators': 50}\n",
      "-0.593578 (0.016298) with: {'max_depth': 5, 'n_estimators': 100}\n",
      "-0.566163 (0.017331) with: {'max_depth': 5, 'n_estimators': 150}\n",
      "-0.552606 (0.018307) with: {'max_depth': 5, 'n_estimators': 200}\n",
      "-0.649578 (0.014121) with: {'max_depth': 6, 'n_estimators': 50}\n",
      "-0.573387 (0.016792) with: {'max_depth': 6, 'n_estimators': 100}\n",
      "-0.550669 (0.018582) with: {'max_depth': 6, 'n_estimators': 150}\n",
      "-0.540930 (0.019543) with: {'max_depth': 6, 'n_estimators': 200}\n",
      "-0.629058 (0.014262) with: {'max_depth': 7, 'n_estimators': 50}\n",
      "-0.560675 (0.017466) with: {'max_depth': 7, 'n_estimators': 100}\n",
      "-0.543249 (0.018542) with: {'max_depth': 7, 'n_estimators': 150}\n",
      "-0.536467 (0.020112) with: {'max_depth': 7, 'n_estimators': 200}\n",
      "-0.615975 (0.015635) with: {'max_depth': 8, 'n_estimators': 50}\n",
      "-0.553890 (0.019342) with: {'max_depth': 8, 'n_estimators': 100}\n",
      "-0.540127 (0.021229) with: {'max_depth': 8, 'n_estimators': 150}\n",
      "-0.536992 (0.022745) with: {'max_depth': 8, 'n_estimators': 200}\n"
     ]
    },
    {
     "data": {
      "image/png": "[encoded data removed]",
      "text/plain": [
       "<matplotlib.figure.Figure at 0x1a89b3d1d0>"
      ]
     },
     "metadata": {},
     "output_type": "display_data"
    }
   ],
   "source": [
    "# summarize results\n",
    "print(\"Best: %f using %s\" % (grid_result.best_score_, grid_result.best_params_))\n",
    "means = grid_result.cv_results_['mean_test_score']\n",
    "stds = grid_result.cv_results_['std_test_score']\n",
    "params = grid_result.cv_results_['params']\n",
    "for mean, stdev, param in zip(means, stds, params):\n",
    "    print(\"%f (%f) with: %r\" % (mean, stdev, param))\n",
    "\n",
    "max_depth = [5,6,7,8]\n",
    "n_estimators = [50, 100, 150, 200]\n",
    "\n",
    "# plot results\n",
    "scores = np.array(means).reshape(len(max_depth), len(n_estimators))\n",
    "for i, value in enumerate(max_depth):\n",
    "    plt.plot(n_estimators, scores[i], label='depth: ' + str(value))\n",
    "plt.legend()\n",
    "plt.xlabel('n_estimators')\n",
    "plt.ylabel('Log Loss')\n",
    "plt.savefig('n_estimators_vs_max_depth.png')"
   ]
  },
  {
   "cell_type": "code",
   "execution_count": 102,
   "metadata": {},
   "outputs": [
    {
     "data": {
      "text/plain": [
       "{'max_depth': 7, 'n_estimators': 200}"
      ]
     },
     "execution_count": 102,
     "metadata": {},
     "output_type": "execute_result"
    }
   ],
   "source": [
    "gridLog.best_params_"
   ]
  },
  {
   "cell_type": "code",
   "execution_count": 19,
   "metadata": {},
   "outputs": [],
   "source": [
    "xgbTunedLogModel = XGBClassifier(objective='multi:softprob',seed=0, max_depth=7, n_estimators=200)\n",
    "xgbTunedLogFit = xgbTunedLogModel.fit(xLog, label_encoded_y, eval_metric='logloss')"
   ]
  },
  {
   "cell_type": "code",
   "execution_count": 119,
   "metadata": {},
   "outputs": [
    {
     "data": {
      "text/plain": [
       "<bound method XGBModel.get_params of XGBClassifier(base_score=0.5, booster='gbtree', colsample_bylevel=1,\n",
       "       colsample_bytree=1, gamma=0, learning_rate=0.1, max_delta_step=0,\n",
       "       max_depth=9, min_child_weight=1, missing=None, n_estimators=200,\n",
       "       n_jobs=1, nthread=None, objective='multi:softprob', random_state=0,\n",
       "       reg_alpha=0, reg_lambda=1, scale_pos_weight=1, seed=0, silent=True,\n",
       "       subsample=1)>"
      ]
     },
     "execution_count": 119,
     "metadata": {},
     "output_type": "execute_result"
    }
   ],
   "source": [
    "xgbTunedLogModel.get_params"
   ]
  },
  {
   "cell_type": "code",
   "execution_count": 20,
   "metadata": {},
   "outputs": [],
   "source": [
    "xgbTunedLogPred = xgbTunedLogModel.predict_proba(xTestLog,)"
   ]
  },
  {
   "cell_type": "code",
   "execution_count": 21,
   "metadata": {},
   "outputs": [
    {
     "data": {
      "text/plain": [
       "0.5277730463233633"
      ]
     },
     "execution_count": 21,
     "metadata": {},
     "output_type": "execute_result"
    }
   ],
   "source": [
    "log_loss(yTest, xgbTunedLogPred)"
   ]
  },
  {
   "cell_type": "markdown",
   "metadata": {},
   "source": [
    "## Neural Networks"
   ]
  },
  {
   "cell_type": "code",
   "execution_count": 22,
   "metadata": {},
   "outputs": [
    {
     "name": "stderr",
     "output_type": "stream",
     "text": [
      "/Users/adeshghadge/anaconda/lib/python3.6/site-packages/h5py/__init__.py:34: FutureWarning: Conversion of the second argument of issubdtype from `float` to `np.floating` is deprecated. In future, it will be treated as `np.float64 == np.dtype(float).type`.\n",
      "  from ._conv import register_converters as _register_converters\n",
      "Using TensorFlow backend.\n"
     ]
    }
   ],
   "source": [
    "%matplotlib inline\n",
    "import pandas as pd\n",
    "import numpy as np\n",
    "from matplotlib import pyplot as plt\n",
    "from sklearn.preprocessing import LabelEncoder\n",
    "from sklearn.model_selection import GridSearchCV\n",
    "from keras.models import Sequential\n",
    "from keras.layers import Dense, Dropout, Activation, Flatten\n",
    "from keras.utils import to_categorical, plot_model\n",
    "from keras.optimizers import Adam,SGD,Adagrad\n",
    "from keras.utils.vis_utils import model_to_dot\n",
    "from keras.wrappers.scikit_learn import KerasClassifier\n",
    "from IPython.display import SVG\n",
    "from sklearn.ensemble import VotingClassifier\n",
    "from sklearn import model_selection"
   ]
  },
  {
   "cell_type": "code",
   "execution_count": 23,
   "metadata": {},
   "outputs": [
    {
     "name": "stdout",
     "output_type": "stream",
     "text": [
      "[[0. 0. 0. ... 0. 1. 0.]\n",
      " [1. 0. 0. ... 0. 0. 0.]\n",
      " [0. 0. 0. ... 0. 0. 0.]\n",
      " ...\n",
      " [0. 1. 0. ... 0. 0. 0.]\n",
      " [0. 1. 0. ... 0. 0. 0.]\n",
      " [0. 0. 0. ... 1. 0. 0.]]\n",
      "[7 0 5 ... 1 1 6]\n"
     ]
    }
   ],
   "source": [
    "num_features = xTrain.shape[1]\n",
    "\n",
    "encoder = LabelEncoder()\n",
    "yNeural = encoder.fit_transform(yTrain).astype(np.int32)\n",
    "yCompleteNeural = encoder.fit_transform(y).astype(np.int32)\n",
    "\n",
    "num_classes = len(encoder.classes_)\n",
    "\n",
    "# convert class vectors to binary class matrices\n",
    "yNeural = to_categorical(yNeural, num_classes)\n",
    "yCompleteNeural = to_categorical(yCompleteNeural, num_classes)\n",
    "print(yNeural)\n",
    "print(yTrain)"
   ]
  },
  {
   "cell_type": "code",
   "execution_count": 24,
   "metadata": {},
   "outputs": [],
   "source": [
    "def getModel(dropout=0.1, neurons1=500, neurons2=250,\n",
    "             learningRate=0.004):\n",
    "    np.random.seed(1)\n",
    "    \n",
    "    model = Sequential()\n",
    "    \n",
    "    model.add(Dense(neurons1, activation='relu', input_dim=num_features,\n",
    "                    name='Dense_1'))\n",
    "    model.add(Dropout(dropout,name='Dropout_1'))\n",
    "    \n",
    "    model.add(Dense(neurons2, activation='relu',name='Dense_2'))\n",
    "    model.add(Dropout(dropout,name='Dropout_2'))    \n",
    "    \n",
    "    model.add(Dense(num_classes, activation='softmax',name='Output'))\n",
    "    \n",
    "    model.compile(loss='categorical_crossentropy',\n",
    "                  optimizer=Adam(lr=learningRate), metrics=['accuracy'])\n",
    "    return model\n",
    "\n",
    "#SVG(model_to_dot(model1).create(prog='dot', format='svg'))"
   ]
  },
  {
   "cell_type": "code",
   "execution_count": 25,
   "metadata": {},
   "outputs": [
    {
     "name": "stdout",
     "output_type": "stream",
     "text": [
      "Epoch 1/17\n",
      "27495/27495 [==============================] - 1s 21us/step - loss: 1.2058 - acc: 0.5976\n",
      "Epoch 2/17\n",
      "27495/27495 [==============================] - 0s 8us/step - loss: 0.7562 - acc: 0.7216\n",
      "Epoch 3/17\n",
      "27495/27495 [==============================] - 0s 8us/step - loss: 0.6857 - acc: 0.7437\n",
      "Epoch 4/17\n",
      "27495/27495 [==============================] - 0s 8us/step - loss: 0.6481 - acc: 0.7523\n",
      "Epoch 5/17\n",
      "27495/27495 [==============================] - 0s 8us/step - loss: 0.6262 - acc: 0.7598\n",
      "Epoch 6/17\n",
      "27495/27495 [==============================] - 0s 8us/step - loss: 0.6083 - acc: 0.7653\n",
      "Epoch 7/17\n",
      "27495/27495 [==============================] - 0s 8us/step - loss: 0.5901 - acc: 0.7724\n",
      "Epoch 8/17\n",
      "27495/27495 [==============================] - 0s 8us/step - loss: 0.5787 - acc: 0.7747\n",
      "Epoch 9/17\n",
      "27495/27495 [==============================] - 0s 8us/step - loss: 0.5672 - acc: 0.7819\n",
      "Epoch 10/17\n",
      "27495/27495 [==============================] - 0s 8us/step - loss: 0.5502 - acc: 0.7847\n",
      "Epoch 11/17\n",
      "27495/27495 [==============================] - 0s 8us/step - loss: 0.5402 - acc: 0.7888\n",
      "Epoch 12/17\n",
      "27495/27495 [==============================] - 0s 8us/step - loss: 0.5309 - acc: 0.7926\n",
      "Epoch 13/17\n",
      "27495/27495 [==============================] - 0s 8us/step - loss: 0.5177 - acc: 0.7969\n",
      "Epoch 14/17\n",
      "27495/27495 [==============================] - 0s 8us/step - loss: 0.5087 - acc: 0.8004\n",
      "Epoch 15/17\n",
      "27495/27495 [==============================] - 0s 8us/step - loss: 0.5027 - acc: 0.8028\n",
      "Epoch 16/17\n",
      "27495/27495 [==============================] - 0s 8us/step - loss: 0.4929 - acc: 0.8050\n",
      "Epoch 17/17\n",
      "27495/27495 [==============================] - 0s 8us/step - loss: 0.4843 - acc: 0.8075\n"
     ]
    }
   ],
   "source": [
    "increasedDropout = 0.2\n",
    "increasedNeurons1 = 170\n",
    "increasedNeurons2 = 50\n",
    "\n",
    "modelNN = getModel(dropout=increasedDropout, neurons1=increasedNeurons1, neurons2=increasedNeurons2)\n",
    "model_nnet = modelNN.fit(xLog, yNeural, epochs=17, batch_size=1024, verbose=1, validation_split=0)"
   ]
  },
  {
   "cell_type": "code",
   "execution_count": 26,
   "metadata": {},
   "outputs": [],
   "source": [
    "nnetPredict = modelNN.predict_proba(xTestLog,)"
   ]
  },
  {
   "cell_type": "code",
   "execution_count": 27,
   "metadata": {},
   "outputs": [
    {
     "data": {
      "text/plain": [
       "0.5548820059992098"
      ]
     },
     "execution_count": 27,
     "metadata": {},
     "output_type": "execute_result"
    }
   ],
   "source": [
    "log_loss(yTest,nnetPredict)"
   ]
  },
  {
   "cell_type": "markdown",
   "metadata": {},
   "source": [
    "## Ensembling"
   ]
  },
  {
   "cell_type": "code",
   "execution_count": 80,
   "metadata": {},
   "outputs": [],
   "source": [
    "estimators = []\n",
    "\n",
    "gbclassifer1 = XGBClassifier(max_depth=10,n_estimators=600,objective='multi:softprob',gamma=1.5,learning_rate=0.1,\n",
    "                     colsample_bytree=0.9,min_child_weight=0.8,seed=23,subsample=0.9,colsample_level=0.9,nthread=8,\n",
    "                            early_stopping_rounds=10,verbose=True,max_delta_step=1)\n",
    "\n",
    "estimators.append(('xgb1', gbclassifer1))\n",
    "\n",
    "gbclassifer2 = XGBClassifier(max_depth=10,n_estimators=600,objective='multi:softprob',gamma=1.5,learning_rate=0.1,\n",
    "                     colsample_bytree=0.9,min_child_weight=0.8,seed=100,subsample=0.9,colsample_level=0.9,nthread=8,\n",
    "                            early_stopping_rounds=10,verbose=True,max_delta_step=1)\n",
    "\n",
    "estimators.append(('xgb2', gbclassifer2))\n",
    "\n",
    "ensembleVoting = VotingClassifier(estimators, voting='soft',weights=[1,1])"
   ]
  },
  {
   "cell_type": "code",
   "execution_count": 81,
   "metadata": {},
   "outputs": [
    {
     "data": {
      "text/plain": [
       "VotingClassifier(estimators=[('xgb1', XGBClassifier(base_score=0.5, booster='gbtree', colsample_bylevel=1,\n",
       "       colsample_bytree=0.9, colsample_level=0.9, early_stopping_rounds=10,\n",
       "       gamma=1.5, learning_rate=0.1, max_delta_step=1, max_depth=10,\n",
       "       min_child_weight=0.8, missing=None, n_estimators=600, n_jo...      reg_lambda=1, scale_pos_weight=1, seed=100, silent=True,\n",
       "       subsample=0.9, verbose=True))],\n",
       "         flatten_transform=None, n_jobs=1, voting='soft', weights=[1, 1])"
      ]
     },
     "execution_count": 81,
     "metadata": {},
     "output_type": "execute_result"
    }
   ],
   "source": [
    "ensembleVoting.fit(xLog, yTrain)"
   ]
  },
  {
   "cell_type": "code",
   "execution_count": 69,
   "metadata": {},
   "outputs": [
    {
     "data": {
      "text/plain": [
       "VotingClassifier(estimators=[('xgb1', XGBClassifier(base_score=0.5, booster='gbtree', colsample_bylevel=1,\n",
       "       colsample_bytree=0.9, colsample_level=0.9, early_stopping_rounds=10,\n",
       "       gamma=1.5, learning_rate=0.1, max_delta_step=1, max_depth=10,\n",
       "       min_child_weight=0.8, missing=None, n_estimators=600, n_jo...   reg_lambda=1, scale_pos_weight=1, seed=432018, silent=True,\n",
       "       subsample=0.9, verbose=True))],\n",
       "         flatten_transform=None, n_jobs=1, voting='soft',\n",
       "         weights=[1, 1, 1, 1])"
      ]
     },
     "execution_count": 69,
     "metadata": {},
     "output_type": "execute_result"
    }
   ],
   "source": [
    "ensembleVoting2.fit(xLog, yTrain)"
   ]
  },
  {
   "cell_type": "code",
   "execution_count": 65,
   "metadata": {},
   "outputs": [
    {
     "data": {
      "text/plain": [
       "VotingClassifier(estimators=[('xgb1', XGBClassifier(base_score=0.5, booster='gbtree', colsample_bylevel=1,\n",
       "       colsample_bytree=0.9, colsample_level=0.9, early_stopping_rounds=10,\n",
       "       gamma=1.5, learning_rate=0.1, max_delta_step=1, max_depth=5,\n",
       "       min_child_weight=0.8, missing=None, n_estimators=600, n_job...     reg_lambda=1, scale_pos_weight=1, seed=8784, silent=True,\n",
       "       subsample=0.9, verbose=True))],\n",
       "         flatten_transform=None, n_jobs=1, voting='soft',\n",
       "         weights=[1, 1, 1, 1, 1, 1])"
      ]
     },
     "execution_count": 65,
     "metadata": {},
     "output_type": "execute_result"
    }
   ],
   "source": [
    "ensembleVoting3.fit(xLog, yTrain)"
   ]
  },
  {
   "cell_type": "code",
   "execution_count": 60,
   "metadata": {},
   "outputs": [
    {
     "data": {
      "text/plain": [
       "VotingClassifier(estimators=[('xgb1', XGBClassifier(base_score=0.5, booster='gbtree', colsample_bylevel=1,\n",
       "       colsample_bytree=0.9, colsample_level=0.9, early_stopping_rounds=10,\n",
       "       gamma=1.5, learning_rate=0.1, max_delta_step=1, max_depth=5,\n",
       "       min_child_weight=0.8, missing=None, n_estimators=600, n_job...     reg_lambda=1, scale_pos_weight=1, seed=8784, silent=True,\n",
       "       subsample=0.9, verbose=True))],\n",
       "         flatten_transform=None, n_jobs=1, voting='soft',\n",
       "         weights=[1, 1, 1, 1, 1, 1, 1, 1, 1, 1])"
      ]
     },
     "execution_count": 60,
     "metadata": {},
     "output_type": "execute_result"
    }
   ],
   "source": [
    "ensembleVoting4.fit(xLog, yTrain)"
   ]
  },
  {
   "cell_type": "code",
   "execution_count": 82,
   "metadata": {},
   "outputs": [],
   "source": [
    "ensemblePred = ensembleVoting.predict_proba(xTestLog,)"
   ]
  },
  {
   "cell_type": "code",
   "execution_count": 83,
   "metadata": {},
   "outputs": [
    {
     "data": {
      "text/plain": [
       "0.5098289314150566"
      ]
     },
     "execution_count": 83,
     "metadata": {},
     "output_type": "execute_result"
    }
   ],
   "source": [
    "log_loss(yTest, ensemblePred, eps=1e-15)"
   ]
  },
  {
   "cell_type": "code",
   "execution_count": 70,
   "metadata": {},
   "outputs": [],
   "source": [
    "ensemblePred2 = ensembleVoting2.predict_proba(xTestLog,)"
   ]
  },
  {
   "cell_type": "code",
   "execution_count": 71,
   "metadata": {},
   "outputs": [
    {
     "data": {
      "text/plain": [
       "0.507426695811665"
      ]
     },
     "execution_count": 71,
     "metadata": {},
     "output_type": "execute_result"
    }
   ],
   "source": [
    "log_loss(yTest, ensemblePred2, eps=1e-15, normalize=True)"
   ]
  },
  {
   "cell_type": "code",
   "execution_count": 66,
   "metadata": {},
   "outputs": [],
   "source": [
    "ensemblePred3 = ensembleVoting3.predict_proba(xTestLog,)"
   ]
  },
  {
   "cell_type": "code",
   "execution_count": 67,
   "metadata": {},
   "outputs": [
    {
     "data": {
      "text/plain": [
       "0.5068418792546233"
      ]
     },
     "execution_count": 67,
     "metadata": {},
     "output_type": "execute_result"
    }
   ],
   "source": [
    "log_loss(yTest, ensemblePred3, eps=1e-15, normalize=True)"
   ]
  },
  {
   "cell_type": "code",
   "execution_count": 61,
   "metadata": {},
   "outputs": [],
   "source": [
    "ensemblePred4 = ensembleVoting4.predict_proba(xTestLog,)"
   ]
  },
  {
   "cell_type": "code",
   "execution_count": 62,
   "metadata": {},
   "outputs": [
    {
     "data": {
      "text/plain": [
       "0.5064789607163521"
      ]
     },
     "execution_count": 62,
     "metadata": {},
     "output_type": "execute_result"
    }
   ],
   "source": [
    "log_loss(yTest, ensemblePred4, eps=1e-15, normalize=True)"
   ]
  },
  {
   "cell_type": "code",
   "execution_count": 110,
   "metadata": {},
   "outputs": [
    {
     "data": {
      "text/plain": [
       "0.4952022604900184"
      ]
     },
     "execution_count": 110,
     "metadata": {},
     "output_type": "execute_result"
    }
   ],
   "source": [
    "ensemble3 = (nnetPredict + rfCalibPred + ensemblePred2 + ensemblePred3 + ensemblePred4)/5\n",
    "log_loss(yTest, ensemble3)"
   ]
  },
  {
   "cell_type": "markdown",
   "metadata": {},
   "source": [
    "## Test Data"
   ]
  },
  {
   "cell_type": "code",
   "execution_count": 75,
   "metadata": {},
   "outputs": [],
   "source": [
    "XTest = DataTest.drop(['id'],axis=1)\n",
    "XTest_Log = np.log(1+XTest.values)"
   ]
  },
  {
   "cell_type": "code",
   "execution_count": 76,
   "metadata": {},
   "outputs": [],
   "source": [
    "xgbTestLogPred = xgbTunedLogModel.predict_proba(XTest_Log,)\n",
    "rfTestPred = calibrated_clf.predict_proba(XTest_Log)\n",
    "nnetTestPredict = modelNN.predict_proba(XTest_Log,)\n",
    "ensemblePred2Predict = ensembleVoting2.predict_proba(XTest_Log,)\n",
    "ensemblePred3Predict = ensembleVoting3.predict_proba(XTest_Log,)\n",
    "ensemblePred4Predict = ensembleVoting4.predict_proba(XTest_Log,)"
   ]
  },
  {
   "cell_type": "code",
   "execution_count": 77,
   "metadata": {},
   "outputs": [],
   "source": [
    "ensembleTest = (nnetTestPredict + rfTestPred + ensemblePred2Predict + ensemblePred3Predict + ensemblePred4Predict)/5"
   ]
  },
  {
   "cell_type": "code",
   "execution_count": 78,
   "metadata": {},
   "outputs": [],
   "source": [
    "results_final = pd.DataFrame(data=ensembleTest,    # values\n",
    "           index=DataTest['id'],    # 1st column as index\n",
    "           columns=['class_1', 'class_2', 'class_3', 'class_4', 'class_5', 'class_6', 'class_7', 'class_8', 'class_9'])  # 1st row as the column names"
   ]
  },
  {
   "cell_type": "code",
   "execution_count": 79,
   "metadata": {},
   "outputs": [],
   "source": [
    "results_final.to_csv('results.csv')"
   ]
  }
 ],
 "metadata": {
  "kernelspec": {
   "display_name": "Python 3",
   "language": "python",
   "name": "python3"
  },
  "language_info": {
   "codemirror_mode": {
    "name": "ipython",
    "version": 3
   },
   "file_extension": ".py",
   "mimetype": "text/x-python",
   "name": "python",
   "nbconvert_exporter": "python",
   "pygments_lexer": "ipython3",
   "version": "3.6.3"
  }
 },
 "nbformat": 4,
 "nbformat_minor": 2
}
