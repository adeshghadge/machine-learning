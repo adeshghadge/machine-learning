{
 "cells": [
  {
   "cell_type": "code",
   "execution_count": 2,
   "metadata": {},
   "outputs": [],
   "source": [
    "%matplotlib inline\n",
    "import pandas as pd\n",
    "import numpy as np\n",
    "from matplotlib import pyplot as plt\n",
    "from sklearn.preprocessing import LabelEncoder\n",
    "from sklearn.model_selection import GridSearchCV\n",
    "from keras.models import Sequential\n",
    "from keras.layers import Dense, Dropout, Activation, Flatten\n",
    "from keras.utils import to_categorical, plot_model\n",
    "from keras.optimizers import Adam,SGD,Adagrad\n",
    "from keras.utils.vis_utils import model_to_dot\n",
    "from keras.wrappers.scikit_learn import KerasClassifier\n",
    "from IPython.display import SVG"
   ]
  },
  {
   "cell_type": "code",
   "execution_count": 4,
   "metadata": {},
   "outputs": [
    {
     "name": "stdout",
     "output_type": "stream",
     "text": [
      "(41243, 94)\n"
     ]
    }
   ],
   "source": [
    "X = pd.read_csv(\"supervized_classification_data/train_sample.csv\")\n",
    "#X.drop('id', axis=1, inplace=True)\n",
    "print(X.shape)\n",
    "np.random.seed(1)\n",
    "# Shuffle data. It is originally oredered by class\n",
    "X = X.reindex(np.random.permutation(X.index))"
   ]
  },
  {
   "cell_type": "code",
   "execution_count": 5,
   "metadata": {},
   "outputs": [
    {
     "data": {
      "text/plain": [
       "37133    2\n",
       "3557     5\n",
       "19599    1\n",
       "28302    1\n",
       "31998    7\n",
       "23965    6\n",
       "Name: target, dtype: int64"
      ]
     },
     "execution_count": 5,
     "metadata": {},
     "output_type": "execute_result"
    }
   ],
   "source": [
    "X.target[:6]"
   ]
  },
  {
   "cell_type": "code",
   "execution_count": 6,
   "metadata": {},
   "outputs": [
    {
     "data": {
      "text/plain": [
       "array([[0., 0., 1., 0., 0., 0., 0., 0., 0.],\n",
       "       [0., 0., 0., 0., 0., 1., 0., 0., 0.],\n",
       "       [0., 1., 0., 0., 0., 0., 0., 0., 0.],\n",
       "       [0., 1., 0., 0., 0., 0., 0., 0., 0.],\n",
       "       [0., 0., 0., 0., 0., 0., 0., 1., 0.],\n",
       "       [0., 0., 0., 0., 0., 0., 1., 0., 0.]], dtype=float32)"
      ]
     },
     "execution_count": 6,
     "metadata": {},
     "output_type": "execute_result"
    }
   ],
   "source": [
    "# Extract target\n",
    "# Encode it to make it manageable by ML algo, convert to np.int32\n",
    "y = X.target.values\n",
    "encoder = LabelEncoder()\n",
    "y = encoder.fit_transform(y).astype(np.int32)\n",
    "num_classes = len(encoder.classes_)\n",
    "# convert class vectors to binary class matrices\n",
    "y = to_categorical(y, num_classes)\n",
    "\n",
    "# Remove target from train\n",
    "X.drop('target', axis=1, inplace=True)\n",
    "\n",
    "y[:6,:]"
   ]
  },
  {
   "cell_type": "code",
   "execution_count": 7,
   "metadata": {},
   "outputs": [],
   "source": [
    "num_features = X.shape[1]\n",
    "# log transform to decrease large values affect\n",
    "X = np.log(1+X.values)"
   ]
  },
  {
   "cell_type": "code",
   "execution_count": 9,
   "metadata": {},
   "outputs": [],
   "source": [
    "def getModel(dropout=0.1, neurons1=500, neurons2=250,\n",
    "             learningRate=0.04):\n",
    "    np.random.seed(1)\n",
    "    model = Sequential()\n",
    "    model.add(Dense(neurons1, activation='relu', input_dim=num_features,\n",
    "                    name='Dense_1'))\n",
    "    model.add(Dropout(dropout,name='Dropout_1'))\n",
    "    model.add(Dense(neurons2, activation='relu',name='Dense_2'))\n",
    "    model.add(Dropout(dropout,name='Dropout_2'))\n",
    "    model.add(Dense(num_classes, activation='softmax',name='Output'))\n",
    "    model.compile(loss='categorical_crossentropy',\n",
    "                  optimizer=Adagrad(lr=learningRate), metrics=['accuracy'])\n",
    "    return model\n",
    "\n",
    "model1 = getModel()\n",
    "\n",
    "#SVG(model_to_dot(model1).create(prog='dot', format='svg'))"
   ]
  },
  {
   "cell_type": "code",
   "execution_count": 10,
   "metadata": {},
   "outputs": [
    {
     "name": "stdout",
     "output_type": "stream",
     "text": [
      "Train on 32994 samples, validate on 8249 samples\n",
      "Epoch 1/12\n",
      " - 1s - loss: 1.5216 - acc: 0.6628 - val_loss: 0.6856 - val_acc: 0.7198\n",
      "Epoch 2/12\n",
      " - 1s - loss: 0.6050 - acc: 0.7682 - val_loss: 0.6201 - val_acc: 0.7607\n",
      "Epoch 3/12\n",
      " - 1s - loss: 0.5547 - acc: 0.7850 - val_loss: 0.5696 - val_acc: 0.7830\n",
      "Epoch 4/12\n",
      " - 1s - loss: 0.5185 - acc: 0.7989 - val_loss: 0.5765 - val_acc: 0.7779\n",
      "Epoch 5/12\n",
      " - 1s - loss: 0.4912 - acc: 0.8087 - val_loss: 0.5583 - val_acc: 0.7888\n",
      "Epoch 6/12\n",
      " - 1s - loss: 0.4636 - acc: 0.8200 - val_loss: 0.5655 - val_acc: 0.7845\n",
      "Epoch 7/12\n",
      " - 1s - loss: 0.4387 - acc: 0.8279 - val_loss: 0.5670 - val_acc: 0.7819\n",
      "Epoch 8/12\n",
      " - 1s - loss: 0.4133 - acc: 0.8388 - val_loss: 0.5684 - val_acc: 0.7897\n",
      "Epoch 9/12\n",
      " - 1s - loss: 0.3894 - acc: 0.8479 - val_loss: 0.5845 - val_acc: 0.7797\n",
      "Epoch 10/12\n",
      " - 1s - loss: 0.3691 - acc: 0.8566 - val_loss: 0.5849 - val_acc: 0.7819\n",
      "Epoch 11/12\n",
      " - 1s - loss: 0.3467 - acc: 0.8642 - val_loss: 0.5958 - val_acc: 0.7849\n",
      "Epoch 12/12\n",
      " - 1s - loss: 0.3287 - acc: 0.8718 - val_loss: 0.6162 - val_acc: 0.7800\n"
     ]
    }
   ],
   "source": [
    "net1 = model1.fit(X, y, epochs=12, batch_size=512, verbose=2,\n",
    "                  validation_split=0.2)"
   ]
  },
  {
   "cell_type": "code",
   "execution_count": 15,
   "metadata": {},
   "outputs": [
    {
     "data": {
      "image/png": "[encoded data removed]",
      "text/plain": [
       "<matplotlib.figure.Figure at 0x10b15cbe0>"
      ]
     },
     "metadata": {},
     "output_type": "display_data"
    },
    {
     "name": "stdout",
     "output_type": "stream",
     "text": [
      "best validation loss 0.5582520660306052\n"
     ]
    }
   ],
   "source": [
    "valid_loss1 = net1.history[\"val_loss\"]\n",
    "plt.plot(valid_loss1, linewidth=3, label=\"The baseline\")\n",
    "plt.grid()\n",
    "plt.legend()\n",
    "plt.xlabel(\"epoch\")\n",
    "plt.ylabel(\"validation loss\")\n",
    "plt.xlim(0, 20)\n",
    "plt.ylim(0.48, 0.9)\n",
    "plt.yscale(\"log\")\n",
    "plt.show()\n",
    "print('best validation loss', min(valid_loss1))"
   ]
  },
  {
   "cell_type": "code",
   "execution_count": 16,
   "metadata": {},
   "outputs": [
    {
     "name": "stdout",
     "output_type": "stream",
     "text": [
      "Train on 32994 samples, validate on 8249 samples\n",
      "Epoch 1/12\n",
      " - 1s - loss: 1.3811 - acc: 0.6606 - val_loss: 0.6859 - val_acc: 0.7217\n",
      "Epoch 2/12\n",
      " - 1s - loss: 0.6657 - acc: 0.7486 - val_loss: 0.6214 - val_acc: 0.7637\n",
      "Epoch 3/12\n",
      " - 1s - loss: 0.6158 - acc: 0.7680 - val_loss: 0.5868 - val_acc: 0.7791\n",
      "Epoch 4/12\n",
      " - 1s - loss: 0.5877 - acc: 0.7756 - val_loss: 0.5853 - val_acc: 0.7826\n",
      "Epoch 5/12\n",
      " - 1s - loss: 0.5633 - acc: 0.7842 - val_loss: 0.5717 - val_acc: 0.7842\n",
      "Epoch 6/12\n",
      " - 1s - loss: 0.5476 - acc: 0.7863 - val_loss: 0.5678 - val_acc: 0.7839\n",
      "Epoch 7/12\n",
      " - 1s - loss: 0.5301 - acc: 0.7933 - val_loss: 0.5601 - val_acc: 0.7834\n",
      "Epoch 8/12\n",
      " - 1s - loss: 0.5149 - acc: 0.8000 - val_loss: 0.5605 - val_acc: 0.7862\n",
      "Epoch 9/12\n",
      " - 1s - loss: 0.5018 - acc: 0.8037 - val_loss: 0.5589 - val_acc: 0.7866\n",
      "Epoch 10/12\n",
      " - 1s - loss: 0.4874 - acc: 0.8097 - val_loss: 0.5524 - val_acc: 0.7920\n",
      "Epoch 11/12\n",
      " - 1s - loss: 0.4763 - acc: 0.8115 - val_loss: 0.5530 - val_acc: 0.7893\n",
      "Epoch 12/12\n",
      " - 1s - loss: 0.4656 - acc: 0.8164 - val_loss: 0.5570 - val_acc: 0.7894\n"
     ]
    }
   ],
   "source": [
    "increasedDropout = 0.4\n",
    "model2 = getModel(increasedDropout)\n",
    "net2 = model2.fit(X, y, epochs=12, batch_size=512, verbose=2,validation_split=0.2)"
   ]
  },
  {
   "cell_type": "code",
   "execution_count": 18,
   "metadata": {},
   "outputs": [
    {
     "data": {
      "image/png": "[encoded data removed]",
      "text/plain": [
       "<matplotlib.figure.Figure at 0x1a22866278>"
      ]
     },
     "metadata": {},
     "output_type": "display_data"
    },
    {
     "name": "stdout",
     "output_type": "stream",
     "text": [
      "best validation loss 0.5523730661669909\n"
     ]
    }
   ],
   "source": [
    "valid_loss2 = net2.history[\"val_loss\"]\n",
    "plt.plot(valid_loss1, linewidth=3, label=\"The baseline\")\n",
    "plt.plot(valid_loss2, linewidth=3, label=\"Increased dropout\")\n",
    "plt.grid()\n",
    "plt.legend()\n",
    "plt.xlabel(\"epoch\")\n",
    "plt.ylabel(\"validation loss\")\n",
    "plt.xlim(0, 20)\n",
    "plt.ylim(0.47, 0.9)\n",
    "plt.yscale(\"log\")\n",
    "plt.show()\n",
    "print('best validation loss', min(valid_loss2))"
   ]
  },
  {
   "cell_type": "code",
   "execution_count": 19,
   "metadata": {},
   "outputs": [
    {
     "name": "stdout",
     "output_type": "stream",
     "text": [
      "Train on 32994 samples, validate on 8249 samples\n",
      "Epoch 1/25\n",
      " - 1s - loss: 1.3811 - acc: 0.6606 - val_loss: 0.6859 - val_acc: 0.7223\n",
      "Epoch 2/25\n",
      " - 1s - loss: 0.6656 - acc: 0.7491 - val_loss: 0.6238 - val_acc: 0.7642\n",
      "Epoch 3/25\n",
      " - 1s - loss: 0.6159 - acc: 0.7670 - val_loss: 0.5885 - val_acc: 0.7782\n",
      "Epoch 4/25\n",
      " - 1s - loss: 0.5873 - acc: 0.7756 - val_loss: 0.5862 - val_acc: 0.7824\n",
      "Epoch 5/25\n",
      " - 1s - loss: 0.5640 - acc: 0.7843 - val_loss: 0.5719 - val_acc: 0.7845\n",
      "Epoch 6/25\n",
      " - 1s - loss: 0.5485 - acc: 0.7859 - val_loss: 0.5664 - val_acc: 0.7836\n",
      "Epoch 7/25\n",
      " - 1s - loss: 0.5305 - acc: 0.7921 - val_loss: 0.5579 - val_acc: 0.7840\n",
      "Epoch 8/25\n",
      " - 1s - loss: 0.5144 - acc: 0.7988 - val_loss: 0.5598 - val_acc: 0.7832\n",
      "Epoch 9/25\n",
      " - 1s - loss: 0.5015 - acc: 0.8023 - val_loss: 0.5556 - val_acc: 0.7870\n",
      "Epoch 10/25\n",
      " - 1s - loss: 0.4896 - acc: 0.8093 - val_loss: 0.5499 - val_acc: 0.7944\n",
      "Epoch 11/25\n",
      " - 1s - loss: 0.4770 - acc: 0.8119 - val_loss: 0.5519 - val_acc: 0.7906\n",
      "Epoch 12/25\n",
      " - 1s - loss: 0.4670 - acc: 0.8144 - val_loss: 0.5513 - val_acc: 0.7921\n",
      "Epoch 13/25\n",
      " - 1s - loss: 0.4597 - acc: 0.8176 - val_loss: 0.5495 - val_acc: 0.7923\n",
      "Epoch 14/25\n",
      " - 1s - loss: 0.4497 - acc: 0.8208 - val_loss: 0.5456 - val_acc: 0.7961\n",
      "Epoch 15/25\n",
      " - 1s - loss: 0.4398 - acc: 0.8251 - val_loss: 0.5524 - val_acc: 0.7949\n",
      "Epoch 16/25\n",
      " - 1s - loss: 0.4351 - acc: 0.8248 - val_loss: 0.5498 - val_acc: 0.7919\n",
      "Epoch 17/25\n",
      " - 1s - loss: 0.4260 - acc: 0.8296 - val_loss: 0.5489 - val_acc: 0.7917\n",
      "Epoch 18/25\n",
      " - 1s - loss: 0.4187 - acc: 0.8332 - val_loss: 0.5558 - val_acc: 0.7880\n",
      "Epoch 19/25\n",
      " - 1s - loss: 0.4119 - acc: 0.8335 - val_loss: 0.5598 - val_acc: 0.7937\n",
      "Epoch 20/25\n",
      " - 1s - loss: 0.4036 - acc: 0.8375 - val_loss: 0.5606 - val_acc: 0.7928\n",
      "Epoch 21/25\n",
      " - 1s - loss: 0.3915 - acc: 0.8415 - val_loss: 0.5636 - val_acc: 0.7934\n",
      "Epoch 22/25\n",
      " - 1s - loss: 0.3878 - acc: 0.8426 - val_loss: 0.5677 - val_acc: 0.7920\n",
      "Epoch 23/25\n",
      " - 1s - loss: 0.3813 - acc: 0.8459 - val_loss: 0.5673 - val_acc: 0.7931\n",
      "Epoch 24/25\n",
      " - 1s - loss: 0.3703 - acc: 0.8492 - val_loss: 0.5674 - val_acc: 0.7938\n",
      "Epoch 25/25\n",
      " - 1s - loss: 0.3647 - acc: 0.8526 - val_loss: 0.5759 - val_acc: 0.7954\n"
     ]
    }
   ],
   "source": [
    "model3 = getModel(increasedDropout)\n",
    "net3 = model3.fit(X, y, epochs=25, batch_size=512, verbose=2, validation_split=0.2)"
   ]
  },
  {
   "cell_type": "code",
   "execution_count": 20,
   "metadata": {},
   "outputs": [
    {
     "data": {
      "image/png": "[encoded data removed]",
      "text/plain": [
       "<matplotlib.figure.Figure at 0x1a1f926898>"
      ]
     },
     "metadata": {},
     "output_type": "display_data"
    },
    {
     "name": "stdout",
     "output_type": "stream",
     "text": [
      "best validation loss 0.5456172357994017\n"
     ]
    }
   ],
   "source": [
    "valid_loss3 = np.array(net3.history[\"val_loss\"])\n",
    "plt.plot(valid_loss1, linewidth=3, label=\"The baseline\")\n",
    "plt.plot(valid_loss3, linewidth=3, label=\"Increased dropout & epoch\")\n",
    "plt.grid()\n",
    "plt.legend()\n",
    "plt.xlabel(\"epoch\")\n",
    "plt.ylabel(\"validation loss\")\n",
    "plt.xlim(0, 40)\n",
    "plt.ylim(0.47, 0.6)\n",
    "plt.yscale(\"log\")\n",
    "plt.show()\n",
    "print('best validation loss', min(valid_loss3))"
   ]
  },
  {
   "cell_type": "code",
   "execution_count": 21,
   "metadata": {},
   "outputs": [
    {
     "name": "stdout",
     "output_type": "stream",
     "text": [
      "Train on 32994 samples, validate on 8249 samples\n",
      "Epoch 1/25\n",
      " - 1s - loss: 2.2247 - acc: 0.6242 - val_loss: 0.6951 - val_acc: 0.7149\n",
      "Epoch 2/25\n",
      " - 1s - loss: 0.6533 - acc: 0.7560 - val_loss: 0.6173 - val_acc: 0.7634\n",
      "Epoch 3/25\n",
      " - 1s - loss: 0.6027 - acc: 0.7703 - val_loss: 0.5820 - val_acc: 0.7817\n",
      "Epoch 4/25\n",
      " - 1s - loss: 0.5666 - acc: 0.7828 - val_loss: 0.5764 - val_acc: 0.7824\n",
      "Epoch 5/25\n",
      " - 1s - loss: 0.5424 - acc: 0.7885 - val_loss: 0.5638 - val_acc: 0.7845\n",
      "Epoch 6/25\n",
      " - 1s - loss: 0.5231 - acc: 0.7957 - val_loss: 0.5654 - val_acc: 0.7852\n",
      "Epoch 7/25\n",
      " - 1s - loss: 0.5024 - acc: 0.8021 - val_loss: 0.5603 - val_acc: 0.7902\n",
      "Epoch 8/25\n",
      " - 1s - loss: 0.4902 - acc: 0.8087 - val_loss: 0.5628 - val_acc: 0.7866\n",
      "Epoch 9/25\n",
      " - 1s - loss: 0.4723 - acc: 0.8133 - val_loss: 0.5564 - val_acc: 0.7886\n",
      "Epoch 10/25\n",
      " - 1s - loss: 0.4577 - acc: 0.8181 - val_loss: 0.5526 - val_acc: 0.7938\n",
      "Epoch 11/25\n",
      " - 1s - loss: 0.4454 - acc: 0.8230 - val_loss: 0.5579 - val_acc: 0.7912\n",
      "Epoch 12/25\n",
      " - 1s - loss: 0.4303 - acc: 0.8291 - val_loss: 0.5569 - val_acc: 0.7949\n",
      "Epoch 13/25\n",
      " - 1s - loss: 0.4212 - acc: 0.8310 - val_loss: 0.5555 - val_acc: 0.7938\n",
      "Epoch 14/25\n",
      " - 1s - loss: 0.4024 - acc: 0.8395 - val_loss: 0.5636 - val_acc: 0.7931\n",
      "Epoch 15/25\n",
      " - 1s - loss: 0.3961 - acc: 0.8425 - val_loss: 0.5687 - val_acc: 0.7946\n",
      "Epoch 16/25\n",
      " - 1s - loss: 0.3846 - acc: 0.8462 - val_loss: 0.5703 - val_acc: 0.7923\n",
      "Epoch 17/25\n",
      " - 1s - loss: 0.3720 - acc: 0.8489 - val_loss: 0.5706 - val_acc: 0.7920\n",
      "Epoch 18/25\n",
      " - 1s - loss: 0.3623 - acc: 0.8534 - val_loss: 0.5765 - val_acc: 0.7919\n",
      "Epoch 19/25\n",
      " - 1s - loss: 0.3534 - acc: 0.8599 - val_loss: 0.5811 - val_acc: 0.7932\n",
      "Epoch 20/25\n",
      " - 1s - loss: 0.3485 - acc: 0.8599 - val_loss: 0.5853 - val_acc: 0.7942\n",
      "Epoch 21/25\n",
      " - 1s - loss: 0.3349 - acc: 0.8669 - val_loss: 0.5814 - val_acc: 0.7928\n",
      "Epoch 22/25\n",
      " - 1s - loss: 0.3229 - acc: 0.8719 - val_loss: 0.5930 - val_acc: 0.7934\n",
      "Epoch 23/25\n",
      " - 1s - loss: 0.3165 - acc: 0.8753 - val_loss: 0.6040 - val_acc: 0.7904\n",
      "Epoch 24/25\n",
      " - 1s - loss: 0.3095 - acc: 0.8753 - val_loss: 0.6070 - val_acc: 0.7903\n",
      "Epoch 25/25\n",
      " - 2s - loss: 0.2985 - acc: 0.8818 - val_loss: 0.6154 - val_acc: 0.7931\n"
     ]
    }
   ],
   "source": [
    "increasedNeurons1 = 1000\n",
    "model4 = getModel(increasedDropout, neurons1=increasedNeurons1)\n",
    "net4 = model4.fit(X, y, epochs=25, batch_size=512, verbose=2, validation_split=0.2)"
   ]
  },
  {
   "cell_type": "code",
   "execution_count": 22,
   "metadata": {},
   "outputs": [
    {
     "data": {
      "image/png": "[encoded data removed]",
      "text/plain": [
       "<matplotlib.figure.Figure at 0x1a2073e2b0>"
      ]
     },
     "metadata": {},
     "output_type": "display_data"
    },
    {
     "name": "stdout",
     "output_type": "stream",
     "text": [
      "best validation loss 0.5525958732064962\n"
     ]
    }
   ],
   "source": [
    "valid_loss4 = net4.history[\"val_loss\"]\n",
    "plt.plot(valid_loss1, linewidth=3, label=\"The baseline\")\n",
    "plt.plot(valid_loss3, linewidth=3, label=\"Increased dropout & epoch\")\n",
    "plt.plot(valid_loss4, linewidth=3, label=\"Increased neurons\")\n",
    "plt.grid()\n",
    "plt.legend()\n",
    "plt.xlabel(\"epoch\")\n",
    "plt.ylabel(\"validation loss\")\n",
    "plt.xlim(0, 40)\n",
    "plt.ylim(0.47, 0.9)\n",
    "plt.yscale(\"log\")\n",
    "plt.show()\n",
    "print('best validation loss', min(valid_loss4))"
   ]
  },
  {
   "cell_type": "code",
   "execution_count": 23,
   "metadata": {},
   "outputs": [
    {
     "name": "stdout",
     "output_type": "stream",
     "text": [
      "Train on 32994 samples, validate on 8249 samples\n",
      "Epoch 1/30\n",
      " - 2s - loss: 0.8305 - acc: 0.6985 - val_loss: 0.6708 - val_acc: 0.7295\n",
      "Epoch 2/30\n",
      " - 1s - loss: 0.6370 - acc: 0.7584 - val_loss: 0.6116 - val_acc: 0.7692\n",
      "Epoch 3/30\n",
      " - 1s - loss: 0.6036 - acc: 0.7700 - val_loss: 0.5875 - val_acc: 0.7771\n",
      "Epoch 4/30\n",
      " - 1s - loss: 0.5813 - acc: 0.7767 - val_loss: 0.5804 - val_acc: 0.7807\n",
      "Epoch 5/30\n",
      " - 1s - loss: 0.5620 - acc: 0.7854 - val_loss: 0.5698 - val_acc: 0.7819\n",
      "Epoch 6/30\n",
      " - 1s - loss: 0.5493 - acc: 0.7898 - val_loss: 0.5650 - val_acc: 0.7837\n",
      "Epoch 7/30\n",
      " - 2s - loss: 0.5362 - acc: 0.7939 - val_loss: 0.5589 - val_acc: 0.7843\n",
      "Epoch 8/30\n",
      " - 1s - loss: 0.5282 - acc: 0.7994 - val_loss: 0.5559 - val_acc: 0.7841\n",
      "Epoch 9/30\n",
      " - 1s - loss: 0.5183 - acc: 0.8001 - val_loss: 0.5535 - val_acc: 0.7859\n",
      "Epoch 10/30\n",
      " - 1s - loss: 0.5100 - acc: 0.8029 - val_loss: 0.5515 - val_acc: 0.7880\n",
      "Epoch 11/30\n",
      " - 2s - loss: 0.4999 - acc: 0.8072 - val_loss: 0.5486 - val_acc: 0.7900\n",
      "Epoch 12/30\n",
      " - 1s - loss: 0.4929 - acc: 0.8096 - val_loss: 0.5459 - val_acc: 0.7876\n",
      "Epoch 13/30\n",
      " - 1s - loss: 0.4852 - acc: 0.8114 - val_loss: 0.5443 - val_acc: 0.7902\n",
      "Epoch 14/30\n",
      " - 1s - loss: 0.4798 - acc: 0.8141 - val_loss: 0.5465 - val_acc: 0.7894\n",
      "Epoch 15/30\n",
      " - 1s - loss: 0.4714 - acc: 0.8149 - val_loss: 0.5437 - val_acc: 0.7920\n",
      "Epoch 16/30\n",
      " - 1s - loss: 0.4690 - acc: 0.8177 - val_loss: 0.5407 - val_acc: 0.7933\n",
      "Epoch 17/30\n",
      " - 1s - loss: 0.4599 - acc: 0.8208 - val_loss: 0.5401 - val_acc: 0.7945\n",
      "Epoch 18/30\n",
      " - 1s - loss: 0.4539 - acc: 0.8238 - val_loss: 0.5396 - val_acc: 0.7928\n",
      "Epoch 19/30\n",
      " - 1s - loss: 0.4538 - acc: 0.8223 - val_loss: 0.5373 - val_acc: 0.7934\n",
      "Epoch 20/30\n",
      " - 2s - loss: 0.4472 - acc: 0.8252 - val_loss: 0.5379 - val_acc: 0.7944\n",
      "Epoch 21/30\n",
      " - 1s - loss: 0.4419 - acc: 0.8279 - val_loss: 0.5363 - val_acc: 0.7956\n",
      "Epoch 22/30\n",
      " - 1s - loss: 0.4349 - acc: 0.8284 - val_loss: 0.5363 - val_acc: 0.7934\n",
      "Epoch 23/30\n",
      " - 1s - loss: 0.4318 - acc: 0.8316 - val_loss: 0.5375 - val_acc: 0.7942\n",
      "Epoch 24/30\n",
      " - 1s - loss: 0.4260 - acc: 0.8335 - val_loss: 0.5362 - val_acc: 0.7957\n",
      "Epoch 25/30\n",
      " - 2s - loss: 0.4215 - acc: 0.8351 - val_loss: 0.5370 - val_acc: 0.7957\n",
      "Epoch 26/30\n",
      " - 1s - loss: 0.4174 - acc: 0.8355 - val_loss: 0.5369 - val_acc: 0.7943\n",
      "Epoch 27/30\n",
      " - 1s - loss: 0.4140 - acc: 0.8372 - val_loss: 0.5374 - val_acc: 0.7956\n",
      "Epoch 28/30\n",
      " - 1s - loss: 0.4089 - acc: 0.8397 - val_loss: 0.5371 - val_acc: 0.7950\n",
      "Epoch 29/30\n",
      " - 1s - loss: 0.4055 - acc: 0.8419 - val_loss: 0.5371 - val_acc: 0.7944\n",
      "Epoch 30/30\n",
      " - 1s - loss: 0.4023 - acc: 0.8440 - val_loss: 0.5384 - val_acc: 0.7961\n"
     ]
    }
   ],
   "source": [
    "model5 = getModel(increasedDropout, neurons1=increasedNeurons1, learningRate=0.008)\n",
    "net5 = model5.fit(X, y, epochs=30, batch_size=512, verbose=2, validation_split=0.2)"
   ]
  },
  {
   "cell_type": "code",
   "execution_count": 41,
   "metadata": {},
   "outputs": [
    {
     "name": "stdout",
     "output_type": "stream",
     "text": [
      "[[1.3387344e-07 9.2717957e-01 6.4870529e-02 ... 1.0865779e-05\n",
      "  2.8140067e-07 1.7015677e-07]\n",
      " [5.7830703e-01 2.5013008e-04 2.1048424e-04 ... 2.6555557e-02\n",
      "  3.2883385e-01 5.3641018e-02]\n",
      " [2.7348076e-03 9.2248945e-03 2.0346821e-03 ... 4.6086879e-03\n",
      "  1.0095920e-02 9.1955537e-01]\n",
      " ...\n",
      " [5.1580935e-07 8.8077235e-01 8.1768990e-02 ... 7.8528055e-06\n",
      "  1.3705497e-06 3.9612189e-07]\n",
      " [2.4210615e-02 2.3739676e-04 1.7449023e-04 ... 1.1394649e-03\n",
      "  9.0670794e-01 3.2337360e-02]\n",
      " [8.9714938e-01 3.8905495e-05 4.3981599e-05 ... 7.4923392e-03\n",
      "  9.2195615e-02 2.5018041e-03]]\n"
     ]
    }
   ],
   "source": [
    "XNew = pd.read_csv(\"supervized_classification_data/test_sample.csv\")\n",
    "\n",
    "# Shuffle data. It is originally oredered by class\n",
    "XNew = XNew.reindex(np.random.permutation(XNew.index))\n",
    "\n",
    "# Remove target from train\n",
    "XNew.drop('id', axis=1, inplace=True)\n",
    "\n",
    "XNew = np.log(1 + XNew.values)\n",
    "\n",
    "yNew = model5.predict_proba(XNew)\n",
    "print(yNew)"
   ]
  },
  {
   "cell_type": "code",
   "execution_count": 42,
   "metadata": {},
   "outputs": [
    {
     "name": "stdout",
     "output_type": "stream",
     "text": [
      "[1.3387344e-07 9.2717957e-01 6.4870529e-02 7.9378057e-03 3.4333459e-07\n",
      " 3.1815583e-07 1.0865779e-05 2.8140067e-07 1.7015677e-07]\n"
     ]
    }
   ],
   "source": [
    "print(yNew[0])"
   ]
  },
  {
   "cell_type": "code",
   "execution_count": 29,
   "metadata": {},
   "outputs": [
    {
     "data": {
      "image/png": "[encoded data removed]",
      "text/plain": [
       "<matplotlib.figure.Figure at 0x1a22924fd0>"
      ]
     },
     "metadata": {},
     "output_type": "display_data"
    },
    {
     "name": "stdout",
     "output_type": "stream",
     "text": [
      "best validation loss 0.5361538647680459\n"
     ]
    }
   ],
   "source": [
    "valid_loss5 = net5.history[\"val_loss\"]\n",
    "plt.plot(valid_loss1, linewidth=3, label=\"The baseline\")\n",
    "plt.plot(valid_loss3, linewidth=3, label=\"Increased dropout & epoch\")\n",
    "plt.plot(valid_loss4, linewidth=3, label=\"Increased neurons\")\n",
    "plt.plot(valid_loss5, linewidth=3, label=\"Increased neurons & decr. learning rate\")\n",
    "plt.grid()\n",
    "plt.legend()\n",
    "plt.xlabel(\"epoch\")\n",
    "plt.ylabel(\"validation loss\")\n",
    "plt.xlim(0, 40)\n",
    "plt.ylim(0.47, 0.65)\n",
    "plt.yscale(\"log\")\n",
    "plt.show()\n",
    "print('best validation loss', min(valid_loss5))"
   ]
  },
  {
   "cell_type": "code",
   "execution_count": 30,
   "metadata": {},
   "outputs": [],
   "source": [
    "model = KerasClassifier(build_fn=getModel)"
   ]
  },
  {
   "cell_type": "code",
   "execution_count": 31,
   "metadata": {},
   "outputs": [
    {
     "data": {
      "text/plain": [
       "{'batch_size': 512,\n",
       " 'build_fn': <function __main__.getModel>,\n",
       " 'epochs': 20,\n",
       " 'verbose': 0}"
      ]
     },
     "execution_count": 31,
     "metadata": {},
     "output_type": "execute_result"
    }
   ],
   "source": [
    "model = KerasClassifier(build_fn=getModel, epochs=20, batch_size=512, verbose=0)\n",
    "model.get_params()"
   ]
  },
  {
   "cell_type": "code",
   "execution_count": 32,
   "metadata": {},
   "outputs": [],
   "source": [
    "# define the grid search parameters\n",
    "param_grid = dict(dropout=[0.1, 0.2, 0.3], neurons1=[300, 500, 700])\n",
    "\n",
    "grid = GridSearchCV(estimator=model, param_grid=param_grid, \n",
    "                    scoring=\"neg_log_loss\", n_jobs=1)"
   ]
  },
  {
   "cell_type": "code",
   "execution_count": 33,
   "metadata": {},
   "outputs": [],
   "source": [
    "grid_result = grid.fit(X, y)"
   ]
  },
  {
   "cell_type": "code",
   "execution_count": 34,
   "metadata": {},
   "outputs": [
    {
     "name": "stdout",
     "output_type": "stream",
     "text": [
      "Best: 0.567712 using {'dropout': 0.3, 'neurons1': 300}\n",
      "0.669782 (0.005970) with: {'dropout': 0.1, 'neurons1': 300}\n",
      "0.720659 (0.015660) with: {'dropout': 0.1, 'neurons1': 500}\n",
      "0.772308 (0.028809) with: {'dropout': 0.1, 'neurons1': 700}\n",
      "0.610909 (0.005968) with: {'dropout': 0.2, 'neurons1': 300}\n",
      "0.639921 (0.009534) with: {'dropout': 0.2, 'neurons1': 500}\n",
      "0.671308 (0.007171) with: {'dropout': 0.2, 'neurons1': 700}\n",
      "0.567712 (0.005469) with: {'dropout': 0.3, 'neurons1': 300}\n",
      "0.597914 (0.005597) with: {'dropout': 0.3, 'neurons1': 500}\n",
      "0.614817 (0.005184) with: {'dropout': 0.3, 'neurons1': 700}\n"
     ]
    }
   ],
   "source": [
    "# summarize results\n",
    "print(\"Best: %f using %s\" % (-grid_result.best_score_, grid_result.best_params_))\n",
    "means = grid_result.cv_results_['mean_test_score']\n",
    "stds = grid_result.cv_results_['std_test_score']\n",
    "params = grid_result.cv_results_['params']\n",
    "for mean, stdev, param in zip(means, stds, params):\n",
    "    print(\"%f (%f) with: %r\" % (-mean, stdev, param))"
   ]
  },
  {
   "cell_type": "code",
   "execution_count": 43,
   "metadata": {},
   "outputs": [],
   "source": [
    "def getModel1(dropout=0.5, neurons1=750, neurons2=250,optimizer=\"Adagrad\"):\n",
    "    np.random.seed(1)\n",
    "    model = Sequential()\n",
    "    model.add(Dense(neurons1, activation='relu', input_dim=num_features))\n",
    "    model.add(Dropout(dropout))\n",
    "    model.add(Dense(neurons2, activation='relu'))\n",
    "    model.add(Dropout(dropout))\n",
    "    model.add(Dense(num_classes, activation='softmax'))\n",
    "    model.compile(loss='categorical_crossentropy',\n",
    "                  optimizer=optimizer, metrics=['accuracy'])\n",
    "    return model\n",
    "\n",
    "\n",
    "optimizer = ['SGD', 'RMSprop', 'Adagrad', 'Adadelta', 'Adam', 'Adamax', 'Nadam']\n",
    "# create model\n",
    "model = KerasClassifier(build_fn=getModel1, dropout=0.3, neurons1=300,\n",
    "                        epochs=20, batch_size=512, verbose=0)\n",
    "# define the grid search parameters\n",
    "\n",
    "grid = GridSearchCV(estimator=model, param_grid=dict(optimizer=optimizer),\n",
    "                    scoring=\"neg_log_loss\",n_jobs=1)\n"
   ]
  },
  {
   "cell_type": "code",
   "execution_count": 44,
   "metadata": {},
   "outputs": [
    {
     "name": "stdout",
     "output_type": "stream",
     "text": [
      "Best: 0.546377 using {'optimizer': 'Adam'}\n",
      "0.795809 (0.001795) with: {'optimizer': 'SGD'}\n",
      "0.550229 (0.002701) with: {'optimizer': 'RMSprop'}\n",
      "0.551382 (0.007161) with: {'optimizer': 'Adagrad'}\n",
      "0.553090 (0.003991) with: {'optimizer': 'Adadelta'}\n",
      "0.546377 (0.008318) with: {'optimizer': 'Adam'}\n",
      "0.553580 (0.007853) with: {'optimizer': 'Adamax'}\n",
      "0.561625 (0.006284) with: {'optimizer': 'Nadam'}\n"
     ]
    }
   ],
   "source": [
    "grid_result = grid.fit(X, y)\n",
    "# summarize results\n",
    "print(\"Best: %f using %s\" % (-grid_result.best_score_, grid_result.best_params_))\n",
    "means = grid_result.cv_results_['mean_test_score']\n",
    "stds = grid_result.cv_results_['std_test_score']\n",
    "params = grid_result.cv_results_['params']\n",
    "for mean, stdev, param in zip(means, stds, params):\n",
    "    print(\"%f (%f) with: %r\" % (-mean, stdev, param))"
   ]
  },
  {
   "cell_type": "markdown",
   "metadata": {},
   "source": [
    "## XGB"
   ]
  },
  {
   "cell_type": "code",
   "execution_count": null,
   "metadata": {},
   "outputs": [],
   "source": [
    "# xgboost task parameters\n",
    "folds = 3\n",
    "\n",
    "# Parameters grid to search\n",
    "param_grid = {\n",
    "    'max_depth':[3,4,5],\n",
    "    'n_estimators':np.arange(20,55,5)\n",
    "}\n",
    "\n",
    "\n",
    "grid = GridSearchCV(estimator = XGBClassifier(objective='multi:softprob',seed=0),\n",
    "                    scoring = 'neg_log_loss',param_grid = param_grid,\n",
    "                    cv=folds,iid=False,verbose=2,n_jobs=-1)\n",
    "grid.fit(xTrain, yTrain)\n",
    "\n",
    "# summarize results\n",
    "for mean,param in zip(grid.cv_results_['mean_test_score'],grid.cv_results_['params']):\n",
    "    print(\"%f with: \" % -mean,param)\n",
    "\n",
    "# Show best logloss and parameters\n",
    "print(\"Best logloss after tunning: %f using %s\" % (-grid.best_score_,\n",
    "                                               grid.best_params_))\n",
    "param = {\"objective\" : \"multi:softprob\",\"eval_metric\" : \"mlogloss\",\n",
    "         \"num_class\" : max(y) + 1, 'max_depth':grid.best_params_['max_depth']}\n",
    "bst = xgb.train(param, dtrain,num_boost_round=grid.best_params_['n_estimators'])\n",
    "xgbPred = bst.predict(xgb.DMatrix(xTest))\n",
    "print('XGBoost test logloss after tunning',log_loss(yTest,xgbPred))"
   ]
  }
 ],
 "metadata": {
  "kernelspec": {
   "display_name": "Python 3",
   "language": "python",
   "name": "python3"
  },
  "language_info": {
   "codemirror_mode": {
    "name": "ipython",
    "version": 3
   },
   "file_extension": ".py",
   "mimetype": "text/x-python",
   "name": "python",
   "nbconvert_exporter": "python",
   "pygments_lexer": "ipython3",
   "version": "3.6.3"
  }
 },
 "nbformat": 4,
 "nbformat_minor": 2
}
