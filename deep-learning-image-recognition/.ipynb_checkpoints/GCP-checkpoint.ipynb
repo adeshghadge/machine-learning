{
 "cells": [
  {
   "cell_type": "markdown",
   "metadata": {},
   "source": [
    "# Google Cloud Platform - Getting Started With YOLOv3 on Compute Engine"
   ]
  },
  {
   "cell_type": "markdown",
   "metadata": {},
   "source": [
    "You will need a Google Cloud account to get started. Google provides a new user with $300 in credits which is really great to play around with all things GCP has to offer. Once you sign up you will be able to spin up Virtual Machine Instances under the Compute Engine service. But in order to really utilize the power of GPUs you will need to take some additional steps. I will get to them as we move through the setup process."
   ]
  },
  {
   "cell_type": "markdown",
   "metadata": {},
   "source": [
    "### Getting Started"
   ]
  },
  {
   "cell_type": "markdown",
   "metadata": {},
   "source": [
    "Start by creating a new project. I have created a new project called SVHN since I am going to train the YOLOv3 model on the street view numbers image set (http://ufldl.stanford.edu/housenumbers/)"
   ]
  },
  {
   "cell_type": "markdown",
   "metadata": {},
   "source": [
    "<img src=\"images/ScreenShot1.png\">"
   ]
  },
  {
   "cell_type": "markdown",
   "metadata": {},
   "source": [
    "In order to train YOLO we will need a GPU powered VM instance. Google does not provide a GPU when you sign up. You will need to request a quota increase (by default the GPU quota is set to 0). Once you place the request Google will ask your permission to charge your credit card if you go beyond`$300` credit that was given to you when you signed up. Be careful here because when you spin up a machine you will need to keep an eye out on the resources it consumes or you will end up getting a big bill. For the YOLO training and testing I ended up paying around $20 or so."
   ]
  },
  {
   "cell_type": "markdown",
   "metadata": {},
   "source": [
    "In the GCP menu go to IAM & admin > Quotas. On the Quotas page select the location you want in the Locations dropdown. Not all locations have GPUs available so you will need to confirm in GCP help (https://cloud.google.com/compute/docs/gpus/#introduction). Once you select your location then select the checkbox for NVIDIA K80 GPU. Then click on the link at the top of the page which says Edit Quotas. This will open a panel where you will submit the request. Google gets back pretty quickly but they say within 2-3 business days."
   ]
  },
  {
   "cell_type": "markdown",
   "metadata": {},
   "source": [
    "<img src=\"images/ScreenShot2.png\">"
   ]
  },
  {
   "cell_type": "markdown",
   "metadata": {},
   "source": [
    "### Create VM instance"
   ]
  },
  {
   "cell_type": "markdown",
   "metadata": {},
   "source": [
    "Under the Compute Engine menu select VM intances and then click on the Create button. You will see the following options once you click on the button"
   ]
  },
  {
   "cell_type": "markdown",
   "metadata": {},
   "source": [
    "<img src=\"images/ScreenShot3.png\">"
   ]
  },
  {
   "cell_type": "markdown",
   "metadata": {},
   "source": [
    "You can name the instance and also make other changes based on the resources you need. Under Machine Type click on Customize and it will then allow you to change GPU options. The GPU options will only be allowed for the region that was specified in the request that you made earlier for the GPU quota increase. So you will have to select the appropriate region for this VM instance to access the GPU options.\n",
    "\n",
    "For the Boot Disk click on the Change button and select Ubuntu 18.10. If you scroll down you will see options to enable network traffic over HTTP and HTTPS. You should also enable this so that we can transfer data to the instance that we create.\n",
    "\n",
    "Apart from the above mentioned changes I have kept the default value for everything else."
   ]
  }
 ],
 "metadata": {
  "kernelspec": {
   "display_name": "Python 3",
   "language": "python",
   "name": "python3"
  },
  "language_info": {
   "codemirror_mode": {
    "name": "ipython",
    "version": 3
   },
   "file_extension": ".py",
   "mimetype": "text/x-python",
   "name": "python",
   "nbconvert_exporter": "python",
   "pygments_lexer": "ipython3",
   "version": "3.6.6"
  }
 },
 "nbformat": 4,
 "nbformat_minor": 2
}
